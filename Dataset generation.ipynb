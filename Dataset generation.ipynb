{
 "cells": [
  {
   "cell_type": "code",
   "execution_count": null,
   "id": "0a2ec6f0",
   "metadata": {},
   "outputs": [],
   "source": [
    "%load_ext autoreload\n",
    "%autoreload 2"
   ]
  },
  {
   "cell_type": "markdown",
   "id": "44fd4458",
   "metadata": {},
   "source": [
    "# Dataset Generation"
   ]
  },
  {
   "cell_type": "code",
   "execution_count": 1,
   "id": "780b6dc8",
   "metadata": {},
   "outputs": [],
   "source": [
    "# dataset builder\n",
    "from jenny.dataset_generation import BatchDatasetGenerator\n",
    "\n",
    "# feature generators\n",
    "from jenny.dataset_generation import (\n",
    "    IdFeatureGenerator,\n",
    "    TimestampFeatureGenerator,\n",
    "    NumericFeatureGenerator,\n",
    "    TimeSensitiveNumericFeatureGenerator,\n",
    "    TextFeatureGenerator,\n",
    "    CategoryFeatureGenerator\n",
    ")\n",
    "\n",
    "# time series modeling\n",
    "from jenny.dataset_generation import (\n",
    "    Trend, Seasonality, Noise, NormalPercentageDeviation\n",
    ")\n",
    "\n",
    "import pandas as pd"
   ]
  },
  {
   "cell_type": "code",
   "execution_count": 2,
   "id": "fc7ca272",
   "metadata": {},
   "outputs": [],
   "source": [
    "# dataset spec\n",
    "dataset_generator = BatchDatasetGenerator(\n",
    "    events_generator=TimeSensitiveNumericFeatureGenerator(\n",
    "        name=\"events\",\n",
    "        trend=Trend(\n",
    "            base_value=100,\n",
    "            slope=1,\n",
    "        ),\n",
    "        seasonality=Seasonality(\n",
    "            week_days=[0.85, 0.9, 1, 1, 0.9, 0.8, 0.8],\n",
    "            month_period=[1, 0.9, 1],\n",
    "            year_months=[1, 0.95, 0.9, 0.9, 0.85, 0.85, 0.85, 0.85, 0.9, 0.9, 0.95, 1],\n",
    "        ),\n",
    "        noise=Noise(\n",
    "            var=0.05,\n",
    "            seed=123,\n",
    "        )\n",
    "    ),\n",
    "    features=[\n",
    "        IdFeatureGenerator(\n",
    "            name=\"id\",\n",
    "            min_id=1000,\n",
    "            monotonically_increase=True\n",
    "        ),\n",
    "        TimestampFeatureGenerator(\n",
    "            name=\"ts\"\n",
    "        ),\n",
    "        NumericFeatureGenerator(\n",
    "            name=\"numeric_feature\",\n",
    "            base_value=500,\n",
    "            percentage_deviation_generator=NormalPercentageDeviation(\n",
    "                var=0.8,\n",
    "                seed=123,\n",
    "            )\n",
    "        ),\n",
    "        TimeSensitiveNumericFeatureGenerator(\n",
    "            name=\"numeric_feature_with_trend\",\n",
    "            trend=Trend(\n",
    "                base_value=500,\n",
    "                slope=10,\n",
    "            ),\n",
    "            noise=Noise(\n",
    "                var=0.05,\n",
    "                seed=123,\n",
    "            )\n",
    "        ),\n",
    "        TimeSensitiveNumericFeatureGenerator(\n",
    "            name=\"numeric_feature_with_seasonality\",\n",
    "            trend=Trend(\n",
    "                base_value=500,\n",
    "                slope=10,\n",
    "            ),\n",
    "            noise=Noise(\n",
    "                var=0.05,\n",
    "                seed=123,\n",
    "            ),\n",
    "            seasonality=Seasonality(\n",
    "                week_days=[0.9, 1.1, 1.1, 1, 0.9, 0.9, 0.9],\n",
    "                year_months=[1.1, 1, 1, 1, 1, 1, 1, 1, 1, 1, 1, 1.2],\n",
    "            )\n",
    "        ),\n",
    "        TextFeatureGenerator(\n",
    "            name=\"description\",\n",
    "            max_base_length=120,\n",
    "        ),\n",
    "        CategoryFeatureGenerator(\n",
    "            name=\"category\",\n",
    "            categories=[\"A\", \"B\", \"C\", \"D\", \"E\"]\n",
    "        )\n",
    "    ]\n",
    ")"
   ]
  },
  {
   "cell_type": "code",
   "execution_count": 3,
   "id": "392be410",
   "metadata": {},
   "outputs": [],
   "source": [
    "from datetime import datetime, timezone\n",
    "\n",
    "start_ts = datetime(year=2018, month=1, day=1, tzinfo=timezone.utc)\n",
    "dataset_pdf = dataset_generator.generate(start_ts=start_ts, n=365*2)"
   ]
  },
  {
   "cell_type": "code",
   "execution_count": 4,
   "id": "dee9e372",
   "metadata": {},
   "outputs": [
    {
     "data": {
      "text/html": [
       "<div>\n",
       "<style scoped>\n",
       "    .dataframe tbody tr th:only-of-type {\n",
       "        vertical-align: middle;\n",
       "    }\n",
       "\n",
       "    .dataframe tbody tr th {\n",
       "        vertical-align: top;\n",
       "    }\n",
       "\n",
       "    .dataframe thead th {\n",
       "        text-align: right;\n",
       "    }\n",
       "</style>\n",
       "<table border=\"1\" class=\"dataframe\">\n",
       "  <thead>\n",
       "    <tr style=\"text-align: right;\">\n",
       "      <th></th>\n",
       "      <th>id</th>\n",
       "      <th>ts</th>\n",
       "      <th>numeric_feature</th>\n",
       "      <th>numeric_feature_with_trend</th>\n",
       "      <th>numeric_feature_with_seasonality</th>\n",
       "      <th>description</th>\n",
       "      <th>category</th>\n",
       "    </tr>\n",
       "  </thead>\n",
       "  <tbody>\n",
       "    <tr>\n",
       "      <th>0</th>\n",
       "      <td>1000</td>\n",
       "      <td>2018-01-01 23:49:52+00:00</td>\n",
       "      <td>104.351460</td>\n",
       "      <td>475.271966</td>\n",
       "      <td>470.519247</td>\n",
       "      <td>Born fish teach foot beautiful specific federa...</td>\n",
       "      <td>B</td>\n",
       "    </tr>\n",
       "    <tr>\n",
       "      <th>1</th>\n",
       "      <td>1001</td>\n",
       "      <td>2018-01-01 07:24:50+00:00</td>\n",
       "      <td>352.885339</td>\n",
       "      <td>490.805334</td>\n",
       "      <td>485.897280</td>\n",
       "      <td>Prepare service girl approach hold across moth...</td>\n",
       "      <td>D</td>\n",
       "    </tr>\n",
       "    <tr>\n",
       "      <th>2</th>\n",
       "      <td>1002</td>\n",
       "      <td>2018-01-01 03:13:05+00:00</td>\n",
       "      <td>1015.170105</td>\n",
       "      <td>532.198132</td>\n",
       "      <td>526.876150</td>\n",
       "      <td>Practice want girl report loss front. Around d...</td>\n",
       "      <td>B</td>\n",
       "    </tr>\n",
       "    <tr>\n",
       "      <th>3</th>\n",
       "      <td>1003</td>\n",
       "      <td>2018-01-01 11:34:57+00:00</td>\n",
       "      <td>577.589768</td>\n",
       "      <td>504.849360</td>\n",
       "      <td>499.800867</td>\n",
       "      <td>Democrat several board itself ready film civil...</td>\n",
       "      <td>C</td>\n",
       "    </tr>\n",
       "    <tr>\n",
       "      <th>4</th>\n",
       "      <td>1004</td>\n",
       "      <td>2018-01-01 08:10:51+00:00</td>\n",
       "      <td>868.092360</td>\n",
       "      <td>523.005772</td>\n",
       "      <td>517.775715</td>\n",
       "      <td>Half business baby join. Third research a patt...</td>\n",
       "      <td>B</td>\n",
       "    </tr>\n",
       "    <tr>\n",
       "      <th>...</th>\n",
       "      <td>...</td>\n",
       "      <td>...</td>\n",
       "      <td>...</td>\n",
       "      <td>...</td>\n",
       "      <td>...</td>\n",
       "      <td>...</td>\n",
       "      <td>...</td>\n",
       "    </tr>\n",
       "    <tr>\n",
       "      <th>772</th>\n",
       "      <td>266160</td>\n",
       "      <td>2019-12-31 20:08:21+00:00</td>\n",
       "      <td>148.068049</td>\n",
       "      <td>7447.306262</td>\n",
       "      <td>9830.444266</td>\n",
       "      <td>Half environment visit need career believe vot...</td>\n",
       "      <td>E</td>\n",
       "    </tr>\n",
       "    <tr>\n",
       "      <th>773</th>\n",
       "      <td>266161</td>\n",
       "      <td>2019-12-31 08:35:17+00:00</td>\n",
       "      <td>549.178644</td>\n",
       "      <td>7837.887705</td>\n",
       "      <td>10346.011770</td>\n",
       "      <td>Leader spend state hand about add leader. Prof...</td>\n",
       "      <td>A</td>\n",
       "    </tr>\n",
       "    <tr>\n",
       "      <th>774</th>\n",
       "      <td>266162</td>\n",
       "      <td>2019-12-31 16:45:00+00:00</td>\n",
       "      <td>1115.078481</td>\n",
       "      <td>8388.932671</td>\n",
       "      <td>11073.391125</td>\n",
       "      <td>Only run respond medical wife sing. Really env...</td>\n",
       "      <td>E</td>\n",
       "    </tr>\n",
       "    <tr>\n",
       "      <th>775</th>\n",
       "      <td>266163</td>\n",
       "      <td>2019-12-31 16:50:42+00:00</td>\n",
       "      <td>244.543546</td>\n",
       "      <td>7541.249278</td>\n",
       "      <td>9954.449046</td>\n",
       "      <td>Professor Mr check owner television. Something...</td>\n",
       "      <td>B</td>\n",
       "    </tr>\n",
       "    <tr>\n",
       "      <th>776</th>\n",
       "      <td>266164</td>\n",
       "      <td>2019-12-31 20:35:37+00:00</td>\n",
       "      <td>235.611531</td>\n",
       "      <td>7073.698271</td>\n",
       "      <td>9337.281718</td>\n",
       "      <td>Particularly themselves plant house room. Comp...</td>\n",
       "      <td>C</td>\n",
       "    </tr>\n",
       "  </tbody>\n",
       "</table>\n",
       "<p>265165 rows × 7 columns</p>\n",
       "</div>"
      ],
      "text/plain": [
       "         id                        ts  numeric_feature  \\\n",
       "0      1000 2018-01-01 23:49:52+00:00       104.351460   \n",
       "1      1001 2018-01-01 07:24:50+00:00       352.885339   \n",
       "2      1002 2018-01-01 03:13:05+00:00      1015.170105   \n",
       "3      1003 2018-01-01 11:34:57+00:00       577.589768   \n",
       "4      1004 2018-01-01 08:10:51+00:00       868.092360   \n",
       "..      ...                       ...              ...   \n",
       "772  266160 2019-12-31 20:08:21+00:00       148.068049   \n",
       "773  266161 2019-12-31 08:35:17+00:00       549.178644   \n",
       "774  266162 2019-12-31 16:45:00+00:00      1115.078481   \n",
       "775  266163 2019-12-31 16:50:42+00:00       244.543546   \n",
       "776  266164 2019-12-31 20:35:37+00:00       235.611531   \n",
       "\n",
       "     numeric_feature_with_trend  numeric_feature_with_seasonality  \\\n",
       "0                    475.271966                        470.519247   \n",
       "1                    490.805334                        485.897280   \n",
       "2                    532.198132                        526.876150   \n",
       "3                    504.849360                        499.800867   \n",
       "4                    523.005772                        517.775715   \n",
       "..                          ...                               ...   \n",
       "772                 7447.306262                       9830.444266   \n",
       "773                 7837.887705                      10346.011770   \n",
       "774                 8388.932671                      11073.391125   \n",
       "775                 7541.249278                       9954.449046   \n",
       "776                 7073.698271                       9337.281718   \n",
       "\n",
       "                                           description category  \n",
       "0    Born fish teach foot beautiful specific federa...        B  \n",
       "1    Prepare service girl approach hold across moth...        D  \n",
       "2    Practice want girl report loss front. Around d...        B  \n",
       "3    Democrat several board itself ready film civil...        C  \n",
       "4    Half business baby join. Third research a patt...        B  \n",
       "..                                                 ...      ...  \n",
       "772  Half environment visit need career believe vot...        E  \n",
       "773  Leader spend state hand about add leader. Prof...        A  \n",
       "774  Only run respond medical wife sing. Really env...        E  \n",
       "775  Professor Mr check owner television. Something...        B  \n",
       "776  Particularly themselves plant house room. Comp...        C  \n",
       "\n",
       "[265165 rows x 7 columns]"
      ]
     },
     "execution_count": 4,
     "metadata": {},
     "output_type": "execute_result"
    }
   ],
   "source": [
    "# showing generated df\n",
    "dataset_pdf"
   ]
  },
  {
   "cell_type": "code",
   "execution_count": 5,
   "id": "135384bf",
   "metadata": {},
   "outputs": [
    {
     "data": {
      "text/plain": [
       "id                                                int64\n",
       "ts                                  datetime64[ns, UTC]\n",
       "numeric_feature                                 float64\n",
       "numeric_feature_with_trend                      float64\n",
       "numeric_feature_with_seasonality                float64\n",
       "description                                      string\n",
       "category                                         string\n",
       "dtype: object"
      ]
     },
     "execution_count": 5,
     "metadata": {},
     "output_type": "execute_result"
    }
   ],
   "source": [
    "dataset_pdf.dtypes"
   ]
  },
  {
   "cell_type": "markdown",
   "id": "163b3637",
   "metadata": {},
   "source": [
    "# Profiling Pipeline"
   ]
  },
  {
   "cell_type": "code",
   "execution_count": 6,
   "id": "87b61f75",
   "metadata": {},
   "outputs": [
    {
     "name": "stderr",
     "output_type": "stream",
     "text": [
      "21/07/23 01:15:16 WARN NativeCodeLoader: Unable to load native-hadoop library for your platform... using builtin-java classes where applicable\n",
      "Using Spark's default log4j profile: org/apache/spark/log4j-defaults.properties\n",
      "Setting default log level to \"WARN\".\n",
      "To adjust logging level use sc.setLogLevel(newLevel). For SparkR, use setLogLevel(newLevel).\n"
     ]
    }
   ],
   "source": [
    "# create spark session and convert to spark df\n",
    "from pyspark.sql import SparkSession\n",
    "\n",
    "spark = SparkSession.builder.appName('jenny').getOrCreate()\n",
    "spark.conf.set(\"spark.sql.session.timeZone\", \"UTC\")\n",
    "dataset_df = spark.createDataFrame(dataset_pdf)"
   ]
  },
  {
   "cell_type": "code",
   "execution_count": null,
   "id": "47265a58",
   "metadata": {},
   "outputs": [],
   "source": []
  },
  {
   "cell_type": "code",
   "execution_count": 7,
   "id": "2c33b0ac",
   "metadata": {},
   "outputs": [],
   "source": [
    "# profiling spec\n",
    "\n",
    "from jenny.profiling.profilers import (\n",
    "    GlobalProfiler,\n",
    "    ColumnStatsProfiler,\n",
    "    CompletenessProfiler,\n",
    ")\n",
    "from jenny.profiling.pipeline import ProfilingPipeline\n",
    "\n",
    "metrics = [\"max\", \"min\", \"sum\", \"avg\"]\n",
    "profiling_pipeline = ProfilingPipeline(\n",
    "    profilers=[\n",
    "        GlobalProfiler(),\n",
    "#         ColumnStatsProfiler(\n",
    "#             from_column=\"id\",\n",
    "#             metrics=metrics\n",
    "#         ),\n",
    "#         ColumnStatsProfiler(\n",
    "#             from_column=\"numeric_feature\",\n",
    "#             metrics=metrics\n",
    "#         ),\n",
    "#         CompletenessProfiler(\n",
    "#             from_column=\"numeric_feature\",\n",
    "#         ),\n",
    "#         ColumnStatsProfiler(\n",
    "#             from_column=\"numeric_feature_with_trend\",\n",
    "#             metrics=metrics\n",
    "#         ),\n",
    "#         ColumnStatsProfiler(\n",
    "#             from_column=\"numeric_feature_with_seasonality\",\n",
    "#             metrics=metrics\n",
    "#         ),\n",
    "#         ColumnStatsProfiler(\n",
    "#             from_column=\"description\",\n",
    "#             metrics=metrics,\n",
    "#             not_numeric=True\n",
    "#         ),\n",
    "#         ColumnStatsProfiler(\n",
    "#             from_column=\"category\",\n",
    "#             metrics=metrics,\n",
    "#             not_numeric=True\n",
    "#         ),\n",
    "#         ColumnStatsProfiler(\n",
    "#             from_column=\"category\",\n",
    "#             metrics=[\"count_distinct\"]\n",
    "#         )\n",
    "    ]\n",
    ")"
   ]
  },
  {
   "cell_type": "code",
   "execution_count": 8,
   "id": "cbc5d1a6",
   "metadata": {},
   "outputs": [],
   "source": [
    "# run profiling \n",
    "profiling_df = profiling_pipeline.run(\n",
    "    input_df=dataset_df,\n",
    "    time_column=\"ts\"\n",
    ")"
   ]
  },
  {
   "cell_type": "code",
   "execution_count": 9,
   "id": "5f85226d",
   "metadata": {},
   "outputs": [
    {
     "name": "stderr",
     "output_type": "stream",
     "text": [
      "21/07/23 01:15:36 WARN TaskSetManager: Stage 0 contains a task of very large size (2786 KiB). The maximum recommended task size is 1000 KiB.\n",
      "                                                                                \r"
     ]
    },
    {
     "data": {
      "text/html": [
       "<div>\n",
       "<style scoped>\n",
       "    .dataframe tbody tr th:only-of-type {\n",
       "        vertical-align: middle;\n",
       "    }\n",
       "\n",
       "    .dataframe tbody tr th {\n",
       "        vertical-align: top;\n",
       "    }\n",
       "\n",
       "    .dataframe thead th {\n",
       "        text-align: right;\n",
       "    }\n",
       "</style>\n",
       "<table border=\"1\" class=\"dataframe\">\n",
       "  <thead>\n",
       "    <tr style=\"text-align: right;\">\n",
       "      <th></th>\n",
       "      <th>ts</th>\n",
       "      <th>global__count</th>\n",
       "    </tr>\n",
       "  </thead>\n",
       "  <tbody>\n",
       "    <tr>\n",
       "      <th>0</th>\n",
       "      <td>2018-01-01</td>\n",
       "      <td>80</td>\n",
       "    </tr>\n",
       "    <tr>\n",
       "      <th>1</th>\n",
       "      <td>2018-01-02</td>\n",
       "      <td>89</td>\n",
       "    </tr>\n",
       "    <tr>\n",
       "      <th>2</th>\n",
       "      <td>2018-01-03</td>\n",
       "      <td>108</td>\n",
       "    </tr>\n",
       "    <tr>\n",
       "      <th>3</th>\n",
       "      <td>2018-01-04</td>\n",
       "      <td>103</td>\n",
       "    </tr>\n",
       "    <tr>\n",
       "      <th>4</th>\n",
       "      <td>2018-01-05</td>\n",
       "      <td>97</td>\n",
       "    </tr>\n",
       "    <tr>\n",
       "      <th>...</th>\n",
       "      <td>...</td>\n",
       "      <td>...</td>\n",
       "    </tr>\n",
       "    <tr>\n",
       "      <th>725</th>\n",
       "      <td>2019-12-27</td>\n",
       "      <td>667</td>\n",
       "    </tr>\n",
       "    <tr>\n",
       "      <th>726</th>\n",
       "      <td>2019-12-28</td>\n",
       "      <td>683</td>\n",
       "    </tr>\n",
       "    <tr>\n",
       "      <th>727</th>\n",
       "      <td>2019-12-29</td>\n",
       "      <td>633</td>\n",
       "    </tr>\n",
       "    <tr>\n",
       "      <th>728</th>\n",
       "      <td>2019-12-30</td>\n",
       "      <td>756</td>\n",
       "    </tr>\n",
       "    <tr>\n",
       "      <th>729</th>\n",
       "      <td>2019-12-31</td>\n",
       "      <td>777</td>\n",
       "    </tr>\n",
       "  </tbody>\n",
       "</table>\n",
       "<p>730 rows × 2 columns</p>\n",
       "</div>"
      ],
      "text/plain": [
       "            ts  global__count\n",
       "0   2018-01-01             80\n",
       "1   2018-01-02             89\n",
       "2   2018-01-03            108\n",
       "3   2018-01-04            103\n",
       "4   2018-01-05             97\n",
       "..         ...            ...\n",
       "725 2019-12-27            667\n",
       "726 2019-12-28            683\n",
       "727 2019-12-29            633\n",
       "728 2019-12-30            756\n",
       "729 2019-12-31            777\n",
       "\n",
       "[730 rows x 2 columns]"
      ]
     },
     "execution_count": 9,
     "metadata": {},
     "output_type": "execute_result"
    }
   ],
   "source": [
    "profiling_df.sort(\"ts\").toPandas()"
   ]
  },
  {
   "cell_type": "code",
   "execution_count": 10,
   "id": "81164257",
   "metadata": {},
   "outputs": [
    {
     "name": "stderr",
     "output_type": "stream",
     "text": [
      "21/07/23 01:15:40 WARN TaskSetManager: Stage 5 contains a task of very large size (2786 KiB). The maximum recommended task size is 1000 KiB.\n"
     ]
    },
    {
     "name": "stdout",
     "output_type": "stream",
     "text": [
      "+-------------------+-------------+\n",
      "|                 ts|global__count|\n",
      "+-------------------+-------------+\n",
      "|2018-01-01 00:00:00|           80|\n",
      "|2018-01-02 00:00:00|           89|\n",
      "|2018-01-03 00:00:00|          108|\n",
      "|2018-01-04 00:00:00|          103|\n",
      "|2018-01-05 00:00:00|           97|\n",
      "|2018-01-06 00:00:00|           86|\n",
      "|2018-01-07 00:00:00|           82|\n",
      "|2018-01-08 00:00:00|           93|\n",
      "|2018-01-09 00:00:00|           95|\n",
      "|2018-01-10 00:00:00|          107|\n",
      "|2018-01-11 00:00:00|           99|\n",
      "|2018-01-12 00:00:00|           83|\n",
      "|2018-01-13 00:00:00|           85|\n",
      "|2018-01-14 00:00:00|           78|\n",
      "|2018-01-15 00:00:00|           91|\n",
      "|2018-01-16 00:00:00|           93|\n",
      "|2018-01-17 00:00:00|          112|\n",
      "|2018-01-18 00:00:00|          101|\n",
      "|2018-01-19 00:00:00|           94|\n",
      "|2018-01-20 00:00:00|           87|\n",
      "+-------------------+-------------+\n",
      "only showing top 20 rows\n",
      "\n"
     ]
    }
   ],
   "source": [
    "profiling_df.sort(\"ts\").show()"
   ]
  },
  {
   "cell_type": "markdown",
   "id": "729e5b4b",
   "metadata": {},
   "source": [
    "# Time Series Forecast Models Cross-Validation"
   ]
  },
  {
   "cell_type": "markdown",
   "id": "ef192fb8",
   "metadata": {},
   "source": [
    "![Day Forward-Chaining](https://miro.medium.com/max/4800/1*gYTT2d-Suszciijr10l7iQ.png)"
   ]
  },
  {
   "cell_type": "code",
   "execution_count": 22,
   "id": "dc0e5b0e",
   "metadata": {
    "scrolled": false
   },
   "outputs": [],
   "source": [
    "from jenny.anomaly.evaluation import CrossValidation, ModelValidationSpec\n",
    "cross_validation = CrossValidation(\n",
    "    validation_specs={\n",
    "        ModelValidationSpec(name=\"prophet\", model_kwargs_list=[\n",
    "            {\"seasonality_mode\": \"multiplicative\"},\n",
    "            {\"seasonality_mode\": \"additive\"}\n",
    "        ]),\n",
    "        ModelValidationSpec(name=\"neural-prophet\", model_kwargs_list=[\n",
    "            {\"seasonality_mode\": \"multiplicative\"},\n",
    "            {\"seasonality_mode\": \"additive\"}\n",
    "        ])\n",
    "    },\n",
    "    ts_column=\"ts\",\n",
    "    feature_column=\"global__count\",\n",
    "    start_proportion=0.75,\n",
    "    slide=8\n",
    ")"
   ]
  },
  {
   "cell_type": "code",
   "execution_count": 23,
   "id": "431a1afe",
   "metadata": {
    "scrolled": true
   },
   "outputs": [
    {
     "name": "stderr",
     "output_type": "stream",
     "text": [
      "21/07/23 01:49:24 WARN TaskSetManager: Stage 17 contains a task of very large size (2786 KiB). The maximum recommended task size is 1000 KiB.\n",
      "INFO: nprophet.utils - set_auto_seasonalities: Disabling yearly seasonality. Run NeuralProphet with yearly_seasonality=True to override this.\n",
      "INFO:nprophet.utils:Disabling yearly seasonality. Run NeuralProphet with yearly_seasonality=True to override this.\n",
      "INFO: nprophet.utils - set_auto_seasonalities: Disabling daily seasonality. Run NeuralProphet with daily_seasonality=True to override this.\n",
      "INFO:nprophet.utils:Disabling daily seasonality. Run NeuralProphet with daily_seasonality=True to override this.\n",
      "INFO: nprophet.config - set_auto_batch_epoch: Auto-set batch_size to 8\n",
      "INFO:nprophet.config:Auto-set batch_size to 8\n",
      "INFO: nprophet.config - set_auto_batch_epoch: Auto-set epochs to 58\n",
      "INFO:nprophet.config:Auto-set epochs to 58\n"
     ]
    },
    {
     "data": {
      "application/vnd.jupyter.widget-view+json": {
       "model_id": "c54d762177ff4198ab7e47e995375ed3",
       "version_major": 2,
       "version_minor": 0
      },
      "text/plain": [
       "HBox(children=(HTML(value=''), FloatProgress(value=0.0), HTML(value='')))"
      ]
     },
     "metadata": {},
     "output_type": "display_data"
    },
    {
     "name": "stderr",
     "output_type": "stream",
     "text": [
      "/Users/temp/.pyenv/versions/3.9.6/envs/jenny-3.9.6/lib/python3.9/site-packages/torch/nn/modules/container.py:552: UserWarning: Setting attributes on ParameterDict is not supported.\n",
      "  warnings.warn(\"Setting attributes on ParameterDict is not supported.\")\n",
      "INFO: nprophet - _lr_range_test: learning rate range test found optimal lr: 6.58E-03\n",
      "INFO:nprophet:learning rate range test found optimal lr: 6.58E-03\n",
      "Epoch[58/58]: 100%|██████████████████████████████████████████████████████████████████████████████████████████████████████████████████████████████████████████| 58/58 [00:05<00:00, 10.72it/s, SmoothL1Loss=0.00137, MAE=19.2, RegLoss=0]\n",
      "/Users/temp/.pyenv/versions/3.9.6/envs/jenny-3.9.6/lib/python3.9/site-packages/torch/nn/modules/container.py:552: UserWarning: Setting attributes on ParameterDict is not supported.\n",
      "  warnings.warn(\"Setting attributes on ParameterDict is not supported.\")\n",
      "INFO: nprophet.utils - set_auto_seasonalities: Disabling yearly seasonality. Run NeuralProphet with yearly_seasonality=True to override this.\n",
      "INFO:nprophet.utils:Disabling yearly seasonality. Run NeuralProphet with yearly_seasonality=True to override this.\n",
      "INFO: nprophet.utils - set_auto_seasonalities: Disabling daily seasonality. Run NeuralProphet with daily_seasonality=True to override this.\n",
      "INFO:nprophet.utils:Disabling daily seasonality. Run NeuralProphet with daily_seasonality=True to override this.\n",
      "INFO: nprophet.config - set_auto_batch_epoch: Auto-set batch_size to 8\n",
      "INFO:nprophet.config:Auto-set batch_size to 8\n",
      "INFO: nprophet.config - set_auto_batch_epoch: Auto-set epochs to 58\n",
      "INFO:nprophet.config:Auto-set epochs to 58\n"
     ]
    },
    {
     "data": {
      "application/vnd.jupyter.widget-view+json": {
       "model_id": "657ad7b017eb4788a0422ec2373f4aa6",
       "version_major": 2,
       "version_minor": 0
      },
      "text/plain": [
       "HBox(children=(HTML(value=''), FloatProgress(value=0.0), HTML(value='')))"
      ]
     },
     "metadata": {},
     "output_type": "display_data"
    },
    {
     "name": "stderr",
     "output_type": "stream",
     "text": [
      "/Users/temp/.pyenv/versions/3.9.6/envs/jenny-3.9.6/lib/python3.9/site-packages/torch/nn/modules/container.py:552: UserWarning: Setting attributes on ParameterDict is not supported.\n",
      "  warnings.warn(\"Setting attributes on ParameterDict is not supported.\")\n",
      "INFO: nprophet - _lr_range_test: learning rate range test found optimal lr: 5.34E-01\n",
      "INFO:nprophet:learning rate range test found optimal lr: 5.34E-01\n",
      "Epoch[58/58]: 100%|██████████████████████████████████████████████████████████████████████████████████████████████████████████████████████████████████████████| 58/58 [00:05<00:00, 10.96it/s, SmoothL1Loss=0.00142, MAE=19.6, RegLoss=0]\n",
      "/Users/temp/.pyenv/versions/3.9.6/envs/jenny-3.9.6/lib/python3.9/site-packages/torch/nn/modules/container.py:552: UserWarning: Setting attributes on ParameterDict is not supported.\n",
      "  warnings.warn(\"Setting attributes on ParameterDict is not supported.\")\n",
      "INFO: nprophet.utils - set_auto_seasonalities: Disabling yearly seasonality. Run NeuralProphet with yearly_seasonality=True to override this.\n",
      "INFO:nprophet.utils:Disabling yearly seasonality. Run NeuralProphet with yearly_seasonality=True to override this.\n",
      "INFO: nprophet.utils - set_auto_seasonalities: Disabling daily seasonality. Run NeuralProphet with daily_seasonality=True to override this.\n",
      "INFO:nprophet.utils:Disabling daily seasonality. Run NeuralProphet with daily_seasonality=True to override this.\n",
      "INFO: nprophet.config - set_auto_batch_epoch: Auto-set batch_size to 8\n",
      "INFO:nprophet.config:Auto-set batch_size to 8\n",
      "INFO: nprophet.config - set_auto_batch_epoch: Auto-set epochs to 58\n",
      "INFO:nprophet.config:Auto-set epochs to 58\n"
     ]
    },
    {
     "data": {
      "application/vnd.jupyter.widget-view+json": {
       "model_id": "b6dc3fd37f9e4a10b2763ba8dc78a7b7",
       "version_major": 2,
       "version_minor": 0
      },
      "text/plain": [
       "HBox(children=(HTML(value=''), FloatProgress(value=0.0), HTML(value='')))"
      ]
     },
     "metadata": {},
     "output_type": "display_data"
    },
    {
     "name": "stderr",
     "output_type": "stream",
     "text": [
      "/Users/temp/.pyenv/versions/3.9.6/envs/jenny-3.9.6/lib/python3.9/site-packages/torch/nn/modules/container.py:552: UserWarning: Setting attributes on ParameterDict is not supported.\n",
      "  warnings.warn(\"Setting attributes on ParameterDict is not supported.\")\n",
      "INFO: nprophet - _lr_range_test: learning rate range test found optimal lr: 6.58E-01\n",
      "INFO:nprophet:learning rate range test found optimal lr: 6.58E-01\n",
      "Epoch[58/58]: 100%|██████████████████████████████████████████████████████████████████████████████████████████████████████████████████████████████████████████| 58/58 [00:05<00:00, 11.23it/s, SmoothL1Loss=0.00142, MAE=19.6, RegLoss=0]\n",
      "/Users/temp/.pyenv/versions/3.9.6/envs/jenny-3.9.6/lib/python3.9/site-packages/torch/nn/modules/container.py:552: UserWarning: Setting attributes on ParameterDict is not supported.\n",
      "  warnings.warn(\"Setting attributes on ParameterDict is not supported.\")\n",
      "INFO: nprophet.utils - set_auto_seasonalities: Disabling yearly seasonality. Run NeuralProphet with yearly_seasonality=True to override this.\n",
      "INFO:nprophet.utils:Disabling yearly seasonality. Run NeuralProphet with yearly_seasonality=True to override this.\n",
      "INFO: nprophet.utils - set_auto_seasonalities: Disabling daily seasonality. Run NeuralProphet with daily_seasonality=True to override this.\n",
      "INFO:nprophet.utils:Disabling daily seasonality. Run NeuralProphet with daily_seasonality=True to override this.\n",
      "INFO: nprophet.config - set_auto_batch_epoch: Auto-set batch_size to 8\n",
      "INFO:nprophet.config:Auto-set batch_size to 8\n",
      "INFO: nprophet.config - set_auto_batch_epoch: Auto-set epochs to 57\n",
      "INFO:nprophet.config:Auto-set epochs to 57\n"
     ]
    },
    {
     "data": {
      "application/vnd.jupyter.widget-view+json": {
       "model_id": "6e272072802d45bcb738e85672225813",
       "version_major": 2,
       "version_minor": 0
      },
      "text/plain": [
       "HBox(children=(HTML(value=''), FloatProgress(value=0.0), HTML(value='')))"
      ]
     },
     "metadata": {},
     "output_type": "display_data"
    },
    {
     "name": "stderr",
     "output_type": "stream",
     "text": [
      "/Users/temp/.pyenv/versions/3.9.6/envs/jenny-3.9.6/lib/python3.9/site-packages/torch/nn/modules/container.py:552: UserWarning: Setting attributes on ParameterDict is not supported.\n",
      "  warnings.warn(\"Setting attributes on ParameterDict is not supported.\")\n",
      "INFO: nprophet - _lr_range_test: learning rate range test found optimal lr: 6.58E-01\n",
      "INFO:nprophet:learning rate range test found optimal lr: 6.58E-01\n",
      "Epoch[57/57]: 100%|██████████████████████████████████████████████████████████████████████████████████████████████████████████████████████████████████████████| 57/57 [00:05<00:00, 11.10it/s, SmoothL1Loss=0.00128, MAE=17.7, RegLoss=0]\n",
      "/Users/temp/.pyenv/versions/3.9.6/envs/jenny-3.9.6/lib/python3.9/site-packages/torch/nn/modules/container.py:552: UserWarning: Setting attributes on ParameterDict is not supported.\n",
      "  warnings.warn(\"Setting attributes on ParameterDict is not supported.\")\n",
      "INFO: nprophet.utils - set_auto_seasonalities: Disabling yearly seasonality. Run NeuralProphet with yearly_seasonality=True to override this.\n",
      "INFO:nprophet.utils:Disabling yearly seasonality. Run NeuralProphet with yearly_seasonality=True to override this.\n",
      "INFO: nprophet.utils - set_auto_seasonalities: Disabling daily seasonality. Run NeuralProphet with daily_seasonality=True to override this.\n",
      "INFO:nprophet.utils:Disabling daily seasonality. Run NeuralProphet with daily_seasonality=True to override this.\n",
      "INFO: nprophet.config - set_auto_batch_epoch: Auto-set batch_size to 8\n",
      "INFO:nprophet.config:Auto-set batch_size to 8\n",
      "INFO: nprophet.config - set_auto_batch_epoch: Auto-set epochs to 57\n",
      "INFO:nprophet.config:Auto-set epochs to 57\n"
     ]
    },
    {
     "data": {
      "application/vnd.jupyter.widget-view+json": {
       "model_id": "6d8b4732fae54cc0ad934aa4118a0adb",
       "version_major": 2,
       "version_minor": 0
      },
      "text/plain": [
       "HBox(children=(HTML(value=''), FloatProgress(value=0.0), HTML(value='')))"
      ]
     },
     "metadata": {},
     "output_type": "display_data"
    },
    {
     "name": "stderr",
     "output_type": "stream",
     "text": [
      "/Users/temp/.pyenv/versions/3.9.6/envs/jenny-3.9.6/lib/python3.9/site-packages/torch/nn/modules/container.py:552: UserWarning: Setting attributes on ParameterDict is not supported.\n",
      "  warnings.warn(\"Setting attributes on ParameterDict is not supported.\")\n",
      "INFO: nprophet - _lr_range_test: learning rate range test found optimal lr: 1.87E-01\n",
      "INFO:nprophet:learning rate range test found optimal lr: 1.87E-01\n",
      "Epoch[57/57]: 100%|██████████████████████████████████████████████████████████████████████████████████████████████████████████████████████████████████████████| 57/57 [00:05<00:00, 11.03it/s, SmoothL1Loss=0.00145, MAE=19.8, RegLoss=0]\n",
      "/Users/temp/.pyenv/versions/3.9.6/envs/jenny-3.9.6/lib/python3.9/site-packages/torch/nn/modules/container.py:552: UserWarning: Setting attributes on ParameterDict is not supported.\n",
      "  warnings.warn(\"Setting attributes on ParameterDict is not supported.\")\n",
      "INFO: nprophet.utils - set_auto_seasonalities: Disabling yearly seasonality. Run NeuralProphet with yearly_seasonality=True to override this.\n",
      "INFO:nprophet.utils:Disabling yearly seasonality. Run NeuralProphet with yearly_seasonality=True to override this.\n",
      "INFO: nprophet.utils - set_auto_seasonalities: Disabling daily seasonality. Run NeuralProphet with daily_seasonality=True to override this.\n",
      "INFO:nprophet.utils:Disabling daily seasonality. Run NeuralProphet with daily_seasonality=True to override this.\n",
      "INFO: nprophet.config - set_auto_batch_epoch: Auto-set batch_size to 8\n",
      "INFO:nprophet.config:Auto-set batch_size to 8\n",
      "INFO: nprophet.config - set_auto_batch_epoch: Auto-set epochs to 57\n",
      "INFO:nprophet.config:Auto-set epochs to 57\n"
     ]
    },
    {
     "data": {
      "application/vnd.jupyter.widget-view+json": {
       "model_id": "8b800b27124c45ed9bbf207a1d86b27b",
       "version_major": 2,
       "version_minor": 0
      },
      "text/plain": [
       "HBox(children=(HTML(value=''), FloatProgress(value=0.0), HTML(value='')))"
      ]
     },
     "metadata": {},
     "output_type": "display_data"
    },
    {
     "name": "stderr",
     "output_type": "stream",
     "text": [
      "/Users/temp/.pyenv/versions/3.9.6/envs/jenny-3.9.6/lib/python3.9/site-packages/torch/nn/modules/container.py:552: UserWarning: Setting attributes on ParameterDict is not supported.\n",
      "  warnings.warn(\"Setting attributes on ParameterDict is not supported.\")\n",
      "INFO: nprophet - _lr_range_test: learning rate range test found optimal lr: 2.31E-01\n",
      "INFO:nprophet:learning rate range test found optimal lr: 2.31E-01\n",
      "Epoch[57/57]: 100%|██████████████████████████████████████████████████████████████████████████████████████████████████████████████████████████████████████████| 57/57 [00:04<00:00, 11.50it/s, SmoothL1Loss=0.00146, MAE=19.9, RegLoss=0]\n",
      "/Users/temp/.pyenv/versions/3.9.6/envs/jenny-3.9.6/lib/python3.9/site-packages/torch/nn/modules/container.py:552: UserWarning: Setting attributes on ParameterDict is not supported.\n",
      "  warnings.warn(\"Setting attributes on ParameterDict is not supported.\")\n",
      "INFO: nprophet.utils - set_auto_seasonalities: Disabling yearly seasonality. Run NeuralProphet with yearly_seasonality=True to override this.\n",
      "INFO:nprophet.utils:Disabling yearly seasonality. Run NeuralProphet with yearly_seasonality=True to override this.\n",
      "INFO: nprophet.utils - set_auto_seasonalities: Disabling daily seasonality. Run NeuralProphet with daily_seasonality=True to override this.\n",
      "INFO:nprophet.utils:Disabling daily seasonality. Run NeuralProphet with daily_seasonality=True to override this.\n",
      "INFO: nprophet.config - set_auto_batch_epoch: Auto-set batch_size to 8\n",
      "INFO:nprophet.config:Auto-set batch_size to 8\n",
      "INFO: nprophet.config - set_auto_batch_epoch: Auto-set epochs to 56\n",
      "INFO:nprophet.config:Auto-set epochs to 56\n"
     ]
    },
    {
     "data": {
      "application/vnd.jupyter.widget-view+json": {
       "model_id": "2dc0eadd50564088853ea52ee13b56cb",
       "version_major": 2,
       "version_minor": 0
      },
      "text/plain": [
       "HBox(children=(HTML(value=''), FloatProgress(value=0.0), HTML(value='')))"
      ]
     },
     "metadata": {},
     "output_type": "display_data"
    },
    {
     "name": "stderr",
     "output_type": "stream",
     "text": [
      "/Users/temp/.pyenv/versions/3.9.6/envs/jenny-3.9.6/lib/python3.9/site-packages/torch/nn/modules/container.py:552: UserWarning: Setting attributes on ParameterDict is not supported.\n",
      "  warnings.warn(\"Setting attributes on ParameterDict is not supported.\")\n",
      "INFO: nprophet - _lr_range_test: learning rate range test found optimal lr: 2.85E-01\n",
      "INFO:nprophet:learning rate range test found optimal lr: 2.85E-01\n",
      "Epoch[56/56]: 100%|█████████████████████████████████████████████████████████████████████████████████████████████████████████████████████████████████████████████| 56/56 [00:04<00:00, 11.39it/s, SmoothL1Loss=0.0013, MAE=18, RegLoss=0]\n",
      "/Users/temp/.pyenv/versions/3.9.6/envs/jenny-3.9.6/lib/python3.9/site-packages/torch/nn/modules/container.py:552: UserWarning: Setting attributes on ParameterDict is not supported.\n",
      "  warnings.warn(\"Setting attributes on ParameterDict is not supported.\")\n",
      "INFO: nprophet.utils - set_auto_seasonalities: Disabling yearly seasonality. Run NeuralProphet with yearly_seasonality=True to override this.\n",
      "INFO:nprophet.utils:Disabling yearly seasonality. Run NeuralProphet with yearly_seasonality=True to override this.\n",
      "INFO: nprophet.utils - set_auto_seasonalities: Disabling daily seasonality. Run NeuralProphet with daily_seasonality=True to override this.\n",
      "INFO:nprophet.utils:Disabling daily seasonality. Run NeuralProphet with daily_seasonality=True to override this.\n",
      "INFO: nprophet.config - set_auto_batch_epoch: Auto-set batch_size to 8\n",
      "INFO:nprophet.config:Auto-set batch_size to 8\n",
      "INFO: nprophet.config - set_auto_batch_epoch: Auto-set epochs to 56\n",
      "INFO:nprophet.config:Auto-set epochs to 56\n"
     ]
    },
    {
     "data": {
      "application/vnd.jupyter.widget-view+json": {
       "model_id": "74305f408f6f457ea7be351317a6467d",
       "version_major": 2,
       "version_minor": 0
      },
      "text/plain": [
       "HBox(children=(HTML(value=''), FloatProgress(value=0.0), HTML(value='')))"
      ]
     },
     "metadata": {},
     "output_type": "display_data"
    },
    {
     "name": "stderr",
     "output_type": "stream",
     "text": [
      "/Users/temp/.pyenv/versions/3.9.6/envs/jenny-3.9.6/lib/python3.9/site-packages/torch/nn/modules/container.py:552: UserWarning: Setting attributes on ParameterDict is not supported.\n",
      "  warnings.warn(\"Setting attributes on ParameterDict is not supported.\")\n",
      "INFO: nprophet - _lr_range_test: learning rate range test found optimal lr: 1.23E+00\n",
      "INFO:nprophet:learning rate range test found optimal lr: 1.23E+00\n",
      "Epoch[56/56]: 100%|███████████████████████████████████████████████████████████████████████████████████████████████████████████████████████████████████████████| 56/56 [00:04<00:00, 11.21it/s, SmoothL1Loss=0.0015, MAE=20.3, RegLoss=0]\n",
      "/Users/temp/.pyenv/versions/3.9.6/envs/jenny-3.9.6/lib/python3.9/site-packages/torch/nn/modules/container.py:552: UserWarning: Setting attributes on ParameterDict is not supported.\n",
      "  warnings.warn(\"Setting attributes on ParameterDict is not supported.\")\n",
      "INFO: nprophet.utils - set_auto_seasonalities: Disabling yearly seasonality. Run NeuralProphet with yearly_seasonality=True to override this.\n",
      "INFO:nprophet.utils:Disabling yearly seasonality. Run NeuralProphet with yearly_seasonality=True to override this.\n",
      "INFO: nprophet.utils - set_auto_seasonalities: Disabling daily seasonality. Run NeuralProphet with daily_seasonality=True to override this.\n",
      "INFO:nprophet.utils:Disabling daily seasonality. Run NeuralProphet with daily_seasonality=True to override this.\n",
      "INFO: nprophet.config - set_auto_batch_epoch: Auto-set batch_size to 8\n",
      "INFO:nprophet.config:Auto-set batch_size to 8\n",
      "INFO: nprophet.config - set_auto_batch_epoch: Auto-set epochs to 56\n",
      "INFO:nprophet.config:Auto-set epochs to 56\n"
     ]
    },
    {
     "data": {
      "application/vnd.jupyter.widget-view+json": {
       "model_id": "54e82c8798524054a9298cf2d15fa7ce",
       "version_major": 2,
       "version_minor": 0
      },
      "text/plain": [
       "HBox(children=(HTML(value=''), FloatProgress(value=0.0), HTML(value='')))"
      ]
     },
     "metadata": {},
     "output_type": "display_data"
    },
    {
     "name": "stderr",
     "output_type": "stream",
     "text": [
      "/Users/temp/.pyenv/versions/3.9.6/envs/jenny-3.9.6/lib/python3.9/site-packages/torch/nn/modules/container.py:552: UserWarning: Setting attributes on ParameterDict is not supported.\n",
      "  warnings.warn(\"Setting attributes on ParameterDict is not supported.\")\n",
      "INFO: nprophet - _lr_range_test: learning rate range test found optimal lr: 2.31E-02\n",
      "INFO:nprophet:learning rate range test found optimal lr: 2.31E-02\n",
      "Epoch[56/56]: 100%|██████████████████████████████████████████████████████████████████████████████████████████████████████████████████████████████████████████| 56/56 [00:05<00:00, 11.11it/s, SmoothL1Loss=0.00129, MAE=18.1, RegLoss=0]\n",
      "/Users/temp/.pyenv/versions/3.9.6/envs/jenny-3.9.6/lib/python3.9/site-packages/torch/nn/modules/container.py:552: UserWarning: Setting attributes on ParameterDict is not supported.\n",
      "  warnings.warn(\"Setting attributes on ParameterDict is not supported.\")\n",
      "INFO: nprophet.utils - set_auto_seasonalities: Disabling yearly seasonality. Run NeuralProphet with yearly_seasonality=True to override this.\n",
      "INFO:nprophet.utils:Disabling yearly seasonality. Run NeuralProphet with yearly_seasonality=True to override this.\n",
      "INFO: nprophet.utils - set_auto_seasonalities: Disabling daily seasonality. Run NeuralProphet with daily_seasonality=True to override this.\n",
      "INFO:nprophet.utils:Disabling daily seasonality. Run NeuralProphet with daily_seasonality=True to override this.\n",
      "INFO: nprophet.config - set_auto_batch_epoch: Auto-set batch_size to 8\n",
      "INFO:nprophet.config:Auto-set batch_size to 8\n",
      "INFO: nprophet.config - set_auto_batch_epoch: Auto-set epochs to 56\n",
      "INFO:nprophet.config:Auto-set epochs to 56\n"
     ]
    },
    {
     "data": {
      "application/vnd.jupyter.widget-view+json": {
       "model_id": "3b41e3e750d94f9f90636c61fd7515b6",
       "version_major": 2,
       "version_minor": 0
      },
      "text/plain": [
       "HBox(children=(HTML(value=''), FloatProgress(value=0.0), HTML(value='')))"
      ]
     },
     "metadata": {},
     "output_type": "display_data"
    },
    {
     "name": "stderr",
     "output_type": "stream",
     "text": [
      "/Users/temp/.pyenv/versions/3.9.6/envs/jenny-3.9.6/lib/python3.9/site-packages/torch/nn/modules/container.py:552: UserWarning: Setting attributes on ParameterDict is not supported.\n",
      "  warnings.warn(\"Setting attributes on ParameterDict is not supported.\")\n",
      "INFO: nprophet - _lr_range_test: learning rate range test found optimal lr: 1.52E-01\n",
      "INFO:nprophet:learning rate range test found optimal lr: 1.52E-01\n",
      "Epoch[56/56]: 100%|██████████████████████████████████████████████████████████████████████████████████████████████████████████████████████████████████████████| 56/56 [00:05<00:00, 11.15it/s, SmoothL1Loss=0.00127, MAE=18.1, RegLoss=0]\n",
      "/Users/temp/.pyenv/versions/3.9.6/envs/jenny-3.9.6/lib/python3.9/site-packages/torch/nn/modules/container.py:552: UserWarning: Setting attributes on ParameterDict is not supported.\n",
      "  warnings.warn(\"Setting attributes on ParameterDict is not supported.\")\n",
      "INFO: nprophet.utils - set_auto_seasonalities: Disabling yearly seasonality. Run NeuralProphet with yearly_seasonality=True to override this.\n",
      "INFO:nprophet.utils:Disabling yearly seasonality. Run NeuralProphet with yearly_seasonality=True to override this.\n",
      "INFO: nprophet.utils - set_auto_seasonalities: Disabling daily seasonality. Run NeuralProphet with daily_seasonality=True to override this.\n",
      "INFO:nprophet.utils:Disabling daily seasonality. Run NeuralProphet with daily_seasonality=True to override this.\n",
      "INFO: nprophet.config - set_auto_batch_epoch: Auto-set batch_size to 8\n",
      "INFO:nprophet.config:Auto-set batch_size to 8\n",
      "INFO: nprophet.config - set_auto_batch_epoch: Auto-set epochs to 56\n",
      "INFO:nprophet.config:Auto-set epochs to 56\n"
     ]
    },
    {
     "data": {
      "application/vnd.jupyter.widget-view+json": {
       "model_id": "831e6c4da7044a25b2621eb50aaf6f9b",
       "version_major": 2,
       "version_minor": 0
      },
      "text/plain": [
       "HBox(children=(HTML(value=''), FloatProgress(value=0.0), HTML(value='')))"
      ]
     },
     "metadata": {},
     "output_type": "display_data"
    },
    {
     "name": "stderr",
     "output_type": "stream",
     "text": [
      "/Users/temp/.pyenv/versions/3.9.6/envs/jenny-3.9.6/lib/python3.9/site-packages/torch/nn/modules/container.py:552: UserWarning: Setting attributes on ParameterDict is not supported.\n",
      "  warnings.warn(\"Setting attributes on ParameterDict is not supported.\")\n",
      "INFO: nprophet - _lr_range_test: learning rate range test found optimal lr: 2.85E-01\n",
      "INFO:nprophet:learning rate range test found optimal lr: 2.85E-01\n",
      "Epoch[56/56]: 100%|██████████████████████████████████████████████████████████████████████████████████████████████████████████████████████████████████████████| 56/56 [00:05<00:00, 10.92it/s, SmoothL1Loss=0.00146, MAE=20.5, RegLoss=0]\n",
      "/Users/temp/.pyenv/versions/3.9.6/envs/jenny-3.9.6/lib/python3.9/site-packages/torch/nn/modules/container.py:552: UserWarning: Setting attributes on ParameterDict is not supported.\n",
      "  warnings.warn(\"Setting attributes on ParameterDict is not supported.\")\n",
      "INFO: nprophet.utils - set_auto_seasonalities: Disabling yearly seasonality. Run NeuralProphet with yearly_seasonality=True to override this.\n",
      "INFO:nprophet.utils:Disabling yearly seasonality. Run NeuralProphet with yearly_seasonality=True to override this.\n",
      "INFO: nprophet.utils - set_auto_seasonalities: Disabling daily seasonality. Run NeuralProphet with daily_seasonality=True to override this.\n",
      "INFO:nprophet.utils:Disabling daily seasonality. Run NeuralProphet with daily_seasonality=True to override this.\n",
      "INFO: nprophet.config - set_auto_batch_epoch: Auto-set batch_size to 8\n",
      "INFO:nprophet.config:Auto-set batch_size to 8\n",
      "INFO: nprophet.config - set_auto_batch_epoch: Auto-set epochs to 56\n",
      "INFO:nprophet.config:Auto-set epochs to 56\n"
     ]
    },
    {
     "data": {
      "application/vnd.jupyter.widget-view+json": {
       "model_id": "1be4297dce58405593d940050e797cea",
       "version_major": 2,
       "version_minor": 0
      },
      "text/plain": [
       "HBox(children=(HTML(value=''), FloatProgress(value=0.0), HTML(value='')))"
      ]
     },
     "metadata": {},
     "output_type": "display_data"
    },
    {
     "name": "stderr",
     "output_type": "stream",
     "text": [
      "/Users/temp/.pyenv/versions/3.9.6/envs/jenny-3.9.6/lib/python3.9/site-packages/torch/nn/modules/container.py:552: UserWarning: Setting attributes on ParameterDict is not supported.\n",
      "  warnings.warn(\"Setting attributes on ParameterDict is not supported.\")\n",
      "INFO: nprophet - _lr_range_test: learning rate range test found optimal lr: 2.31E-01\n",
      "INFO:nprophet:learning rate range test found optimal lr: 2.31E-01\n",
      "Epoch[56/56]: 100%|██████████████████████████████████████████████████████████████████████████████████████████████████████████████████████████████████████████| 56/56 [00:05<00:00, 11.03it/s, SmoothL1Loss=0.00128, MAE=18.2, RegLoss=0]\n",
      "/Users/temp/.pyenv/versions/3.9.6/envs/jenny-3.9.6/lib/python3.9/site-packages/torch/nn/modules/container.py:552: UserWarning: Setting attributes on ParameterDict is not supported.\n",
      "  warnings.warn(\"Setting attributes on ParameterDict is not supported.\")\n",
      "INFO: nprophet.utils - set_auto_seasonalities: Disabling yearly seasonality. Run NeuralProphet with yearly_seasonality=True to override this.\n",
      "INFO:nprophet.utils:Disabling yearly seasonality. Run NeuralProphet with yearly_seasonality=True to override this.\n",
      "INFO: nprophet.utils - set_auto_seasonalities: Disabling daily seasonality. Run NeuralProphet with daily_seasonality=True to override this.\n",
      "INFO:nprophet.utils:Disabling daily seasonality. Run NeuralProphet with daily_seasonality=True to override this.\n",
      "INFO: nprophet.config - set_auto_batch_epoch: Auto-set batch_size to 8\n",
      "INFO:nprophet.config:Auto-set batch_size to 8\n",
      "INFO: nprophet.config - set_auto_batch_epoch: Auto-set epochs to 55\n",
      "INFO:nprophet.config:Auto-set epochs to 55\n"
     ]
    },
    {
     "data": {
      "application/vnd.jupyter.widget-view+json": {
       "model_id": "7bff62176fc64b79a1e6be284f76fb21",
       "version_major": 2,
       "version_minor": 0
      },
      "text/plain": [
       "HBox(children=(HTML(value=''), FloatProgress(value=0.0), HTML(value='')))"
      ]
     },
     "metadata": {},
     "output_type": "display_data"
    },
    {
     "name": "stderr",
     "output_type": "stream",
     "text": [
      "/Users/temp/.pyenv/versions/3.9.6/envs/jenny-3.9.6/lib/python3.9/site-packages/torch/nn/modules/container.py:552: UserWarning: Setting attributes on ParameterDict is not supported.\n",
      "  warnings.warn(\"Setting attributes on ParameterDict is not supported.\")\n",
      "INFO: nprophet - _lr_range_test: learning rate range test found optimal lr: 8.11E-01\n",
      "INFO:nprophet:learning rate range test found optimal lr: 8.11E-01\n",
      "Epoch[55/55]: 100%|██████████████████████████████████████████████████████████████████████████████████████████████████████████████████████████████████████████| 55/55 [00:05<00:00, 10.60it/s, SmoothL1Loss=0.00132, MAE=18.5, RegLoss=0]\n",
      "/Users/temp/.pyenv/versions/3.9.6/envs/jenny-3.9.6/lib/python3.9/site-packages/torch/nn/modules/container.py:552: UserWarning: Setting attributes on ParameterDict is not supported.\n",
      "  warnings.warn(\"Setting attributes on ParameterDict is not supported.\")\n",
      "INFO: nprophet.utils - set_auto_seasonalities: Disabling yearly seasonality. Run NeuralProphet with yearly_seasonality=True to override this.\n",
      "INFO:nprophet.utils:Disabling yearly seasonality. Run NeuralProphet with yearly_seasonality=True to override this.\n",
      "INFO: nprophet.utils - set_auto_seasonalities: Disabling daily seasonality. Run NeuralProphet with daily_seasonality=True to override this.\n",
      "INFO:nprophet.utils:Disabling daily seasonality. Run NeuralProphet with daily_seasonality=True to override this.\n",
      "INFO: nprophet.config - set_auto_batch_epoch: Auto-set batch_size to 8\n",
      "INFO:nprophet.config:Auto-set batch_size to 8\n",
      "INFO: nprophet.config - set_auto_batch_epoch: Auto-set epochs to 55\n",
      "INFO:nprophet.config:Auto-set epochs to 55\n"
     ]
    },
    {
     "data": {
      "application/vnd.jupyter.widget-view+json": {
       "model_id": "6606ff4cb4f141bc8d8b15d32a60a874",
       "version_major": 2,
       "version_minor": 0
      },
      "text/plain": [
       "HBox(children=(HTML(value=''), FloatProgress(value=0.0), HTML(value='')))"
      ]
     },
     "metadata": {},
     "output_type": "display_data"
    },
    {
     "name": "stderr",
     "output_type": "stream",
     "text": [
      "/Users/temp/.pyenv/versions/3.9.6/envs/jenny-3.9.6/lib/python3.9/site-packages/torch/nn/modules/container.py:552: UserWarning: Setting attributes on ParameterDict is not supported.\n",
      "  warnings.warn(\"Setting attributes on ParameterDict is not supported.\")\n",
      "INFO: nprophet - _lr_range_test: learning rate range test found optimal lr: 2.31E-01\n",
      "INFO:nprophet:learning rate range test found optimal lr: 2.31E-01\n",
      "Epoch[55/55]: 100%|██████████████████████████████████████████████████████████████████████████████████████████████████████████████████████████████████████████| 55/55 [00:05<00:00, 10.07it/s, SmoothL1Loss=0.00152, MAE=20.9, RegLoss=0]\n",
      "/Users/temp/.pyenv/versions/3.9.6/envs/jenny-3.9.6/lib/python3.9/site-packages/torch/nn/modules/container.py:552: UserWarning: Setting attributes on ParameterDict is not supported.\n",
      "  warnings.warn(\"Setting attributes on ParameterDict is not supported.\")\n",
      "INFO: nprophet.utils - set_auto_seasonalities: Disabling yearly seasonality. Run NeuralProphet with yearly_seasonality=True to override this.\n",
      "INFO:nprophet.utils:Disabling yearly seasonality. Run NeuralProphet with yearly_seasonality=True to override this.\n",
      "INFO: nprophet.utils - set_auto_seasonalities: Disabling daily seasonality. Run NeuralProphet with daily_seasonality=True to override this.\n",
      "INFO:nprophet.utils:Disabling daily seasonality. Run NeuralProphet with daily_seasonality=True to override this.\n",
      "INFO: nprophet.config - set_auto_batch_epoch: Auto-set batch_size to 8\n",
      "INFO:nprophet.config:Auto-set batch_size to 8\n",
      "INFO: nprophet.config - set_auto_batch_epoch: Auto-set epochs to 55\n",
      "INFO:nprophet.config:Auto-set epochs to 55\n"
     ]
    },
    {
     "data": {
      "application/vnd.jupyter.widget-view+json": {
       "model_id": "b45cc083039c44c690a6cdace34c2b85",
       "version_major": 2,
       "version_minor": 0
      },
      "text/plain": [
       "HBox(children=(HTML(value=''), FloatProgress(value=0.0), HTML(value='')))"
      ]
     },
     "metadata": {},
     "output_type": "display_data"
    },
    {
     "name": "stderr",
     "output_type": "stream",
     "text": [
      "/Users/temp/.pyenv/versions/3.9.6/envs/jenny-3.9.6/lib/python3.9/site-packages/torch/nn/modules/container.py:552: UserWarning: Setting attributes on ParameterDict is not supported.\n",
      "  warnings.warn(\"Setting attributes on ParameterDict is not supported.\")\n",
      "INFO: nprophet - _lr_range_test: learning rate range test found optimal lr: 4.33E-01\n",
      "INFO:nprophet:learning rate range test found optimal lr: 4.33E-01\n",
      "Epoch[55/55]: 100%|███████████████████████████████████████████████████████████████████████████████████████████████████████████████████████████████████████████| 55/55 [00:05<00:00, 10.16it/s, SmoothL1Loss=0.0015, MAE=20.9, RegLoss=0]\n",
      "/Users/temp/.pyenv/versions/3.9.6/envs/jenny-3.9.6/lib/python3.9/site-packages/torch/nn/modules/container.py:552: UserWarning: Setting attributes on ParameterDict is not supported.\n",
      "  warnings.warn(\"Setting attributes on ParameterDict is not supported.\")\n",
      "INFO: nprophet.utils - set_auto_seasonalities: Disabling yearly seasonality. Run NeuralProphet with yearly_seasonality=True to override this.\n",
      "INFO:nprophet.utils:Disabling yearly seasonality. Run NeuralProphet with yearly_seasonality=True to override this.\n",
      "INFO: nprophet.utils - set_auto_seasonalities: Disabling daily seasonality. Run NeuralProphet with daily_seasonality=True to override this.\n",
      "INFO:nprophet.utils:Disabling daily seasonality. Run NeuralProphet with daily_seasonality=True to override this.\n",
      "INFO: nprophet.config - set_auto_batch_epoch: Auto-set batch_size to 8\n",
      "INFO:nprophet.config:Auto-set batch_size to 8\n",
      "INFO: nprophet.config - set_auto_batch_epoch: Auto-set epochs to 54\n",
      "INFO:nprophet.config:Auto-set epochs to 54\n"
     ]
    },
    {
     "data": {
      "application/vnd.jupyter.widget-view+json": {
       "model_id": "f50aae29193141169bd34117ea13fc01",
       "version_major": 2,
       "version_minor": 0
      },
      "text/plain": [
       "HBox(children=(HTML(value=''), FloatProgress(value=0.0), HTML(value='')))"
      ]
     },
     "metadata": {},
     "output_type": "display_data"
    },
    {
     "name": "stderr",
     "output_type": "stream",
     "text": [
      "/Users/temp/.pyenv/versions/3.9.6/envs/jenny-3.9.6/lib/python3.9/site-packages/torch/nn/modules/container.py:552: UserWarning: Setting attributes on ParameterDict is not supported.\n",
      "  warnings.warn(\"Setting attributes on ParameterDict is not supported.\")\n",
      "INFO: nprophet - _lr_range_test: learning rate range test found optimal lr: 4.33E-01\n",
      "INFO:nprophet:learning rate range test found optimal lr: 4.33E-01\n",
      "Epoch[54/54]: 100%|██████████████████████████████████████████████████████████████████████████████████████████████████████████████████████████████████████████| 54/54 [00:04<00:00, 11.03it/s, SmoothL1Loss=0.00134, MAE=18.9, RegLoss=0]\n",
      "/Users/temp/.pyenv/versions/3.9.6/envs/jenny-3.9.6/lib/python3.9/site-packages/torch/nn/modules/container.py:552: UserWarning: Setting attributes on ParameterDict is not supported.\n",
      "  warnings.warn(\"Setting attributes on ParameterDict is not supported.\")\n",
      "INFO: nprophet.utils - set_auto_seasonalities: Disabling yearly seasonality. Run NeuralProphet with yearly_seasonality=True to override this.\n",
      "INFO:nprophet.utils:Disabling yearly seasonality. Run NeuralProphet with yearly_seasonality=True to override this.\n",
      "INFO: nprophet.utils - set_auto_seasonalities: Disabling daily seasonality. Run NeuralProphet with daily_seasonality=True to override this.\n",
      "INFO:nprophet.utils:Disabling daily seasonality. Run NeuralProphet with daily_seasonality=True to override this.\n",
      "INFO: nprophet.config - set_auto_batch_epoch: Auto-set batch_size to 8\n",
      "INFO:nprophet.config:Auto-set batch_size to 8\n",
      "INFO: nprophet.config - set_auto_batch_epoch: Auto-set epochs to 54\n",
      "INFO:nprophet.config:Auto-set epochs to 54\n"
     ]
    },
    {
     "data": {
      "application/vnd.jupyter.widget-view+json": {
       "model_id": "3030ffb7d4114076aaf5b11833faf8b1",
       "version_major": 2,
       "version_minor": 0
      },
      "text/plain": [
       "HBox(children=(HTML(value=''), FloatProgress(value=0.0), HTML(value='')))"
      ]
     },
     "metadata": {},
     "output_type": "display_data"
    },
    {
     "name": "stderr",
     "output_type": "stream",
     "text": [
      "/Users/temp/.pyenv/versions/3.9.6/envs/jenny-3.9.6/lib/python3.9/site-packages/torch/nn/modules/container.py:552: UserWarning: Setting attributes on ParameterDict is not supported.\n",
      "  warnings.warn(\"Setting attributes on ParameterDict is not supported.\")\n",
      "INFO: nprophet - _lr_range_test: learning rate range test found optimal lr: 8.11E-01\n",
      "INFO:nprophet:learning rate range test found optimal lr: 8.11E-01\n",
      "Epoch[54/54]: 100%|██████████████████████████████████████████████████████████████████████████████████████████████████████████████████████████████████████████| 54/54 [00:05<00:00, 10.06it/s, SmoothL1Loss=0.00156, MAE=21.6, RegLoss=0]\n",
      "/Users/temp/.pyenv/versions/3.9.6/envs/jenny-3.9.6/lib/python3.9/site-packages/torch/nn/modules/container.py:552: UserWarning: Setting attributes on ParameterDict is not supported.\n",
      "  warnings.warn(\"Setting attributes on ParameterDict is not supported.\")\n",
      "INFO: nprophet.utils - set_auto_seasonalities: Disabling yearly seasonality. Run NeuralProphet with yearly_seasonality=True to override this.\n",
      "INFO:nprophet.utils:Disabling yearly seasonality. Run NeuralProphet with yearly_seasonality=True to override this.\n",
      "INFO: nprophet.utils - set_auto_seasonalities: Disabling daily seasonality. Run NeuralProphet with daily_seasonality=True to override this.\n",
      "INFO:nprophet.utils:Disabling daily seasonality. Run NeuralProphet with daily_seasonality=True to override this.\n",
      "INFO: nprophet.config - set_auto_batch_epoch: Auto-set batch_size to 8\n",
      "INFO:nprophet.config:Auto-set batch_size to 8\n",
      "INFO: nprophet.config - set_auto_batch_epoch: Auto-set epochs to 54\n",
      "INFO:nprophet.config:Auto-set epochs to 54\n"
     ]
    },
    {
     "data": {
      "application/vnd.jupyter.widget-view+json": {
       "model_id": "a2256450850340c09e0246becc0119c0",
       "version_major": 2,
       "version_minor": 0
      },
      "text/plain": [
       "HBox(children=(HTML(value=''), FloatProgress(value=0.0), HTML(value='')))"
      ]
     },
     "metadata": {},
     "output_type": "display_data"
    },
    {
     "name": "stderr",
     "output_type": "stream",
     "text": [
      "/Users/temp/.pyenv/versions/3.9.6/envs/jenny-3.9.6/lib/python3.9/site-packages/torch/nn/modules/container.py:552: UserWarning: Setting attributes on ParameterDict is not supported.\n",
      "  warnings.warn(\"Setting attributes on ParameterDict is not supported.\")\n",
      "INFO: nprophet - _lr_range_test: learning rate range test found optimal lr: 4.33E-01\n",
      "INFO:nprophet:learning rate range test found optimal lr: 4.33E-01\n",
      "Epoch[54/54]: 100%|██████████████████████████████████████████████████████████████████████████████████████████████████████████████████████████████████████████| 54/54 [00:05<00:00, 10.23it/s, SmoothL1Loss=0.00155, MAE=21.3, RegLoss=0]\n",
      "/Users/temp/.pyenv/versions/3.9.6/envs/jenny-3.9.6/lib/python3.9/site-packages/torch/nn/modules/container.py:552: UserWarning: Setting attributes on ParameterDict is not supported.\n",
      "  warnings.warn(\"Setting attributes on ParameterDict is not supported.\")\n",
      "INFO: nprophet.utils - set_auto_seasonalities: Disabling yearly seasonality. Run NeuralProphet with yearly_seasonality=True to override this.\n",
      "INFO:nprophet.utils:Disabling yearly seasonality. Run NeuralProphet with yearly_seasonality=True to override this.\n",
      "INFO: nprophet.utils - set_auto_seasonalities: Disabling daily seasonality. Run NeuralProphet with daily_seasonality=True to override this.\n",
      "INFO:nprophet.utils:Disabling daily seasonality. Run NeuralProphet with daily_seasonality=True to override this.\n",
      "INFO: nprophet.config - set_auto_batch_epoch: Auto-set batch_size to 8\n",
      "INFO:nprophet.config:Auto-set batch_size to 8\n",
      "INFO: nprophet.config - set_auto_batch_epoch: Auto-set epochs to 53\n",
      "INFO:nprophet.config:Auto-set epochs to 53\n"
     ]
    },
    {
     "data": {
      "application/vnd.jupyter.widget-view+json": {
       "model_id": "dee8bf6c4c604088a910bcec7d35a0bb",
       "version_major": 2,
       "version_minor": 0
      },
      "text/plain": [
       "HBox(children=(HTML(value=''), FloatProgress(value=0.0), HTML(value='')))"
      ]
     },
     "metadata": {},
     "output_type": "display_data"
    },
    {
     "name": "stderr",
     "output_type": "stream",
     "text": [
      "/Users/temp/.pyenv/versions/3.9.6/envs/jenny-3.9.6/lib/python3.9/site-packages/torch/nn/modules/container.py:552: UserWarning: Setting attributes on ParameterDict is not supported.\n",
      "  warnings.warn(\"Setting attributes on ParameterDict is not supported.\")\n",
      "INFO: nprophet - _lr_range_test: learning rate range test found optimal lr: 4.33E-05\n",
      "INFO:nprophet:learning rate range test found optimal lr: 4.33E-05\n",
      "Epoch[53/53]: 100%|█████████████████████████████████████████████████████████████████████████████████████████████████████████████████████████████████████████████| 53/53 [00:04<00:00, 10.66it/s, SmoothL1Loss=0.525, MAE=477, RegLoss=0]\n",
      "/Users/temp/.pyenv/versions/3.9.6/envs/jenny-3.9.6/lib/python3.9/site-packages/torch/nn/modules/container.py:552: UserWarning: Setting attributes on ParameterDict is not supported.\n",
      "  warnings.warn(\"Setting attributes on ParameterDict is not supported.\")\n",
      "INFO: nprophet.utils - set_auto_seasonalities: Disabling yearly seasonality. Run NeuralProphet with yearly_seasonality=True to override this.\n",
      "INFO:nprophet.utils:Disabling yearly seasonality. Run NeuralProphet with yearly_seasonality=True to override this.\n",
      "INFO: nprophet.utils - set_auto_seasonalities: Disabling daily seasonality. Run NeuralProphet with daily_seasonality=True to override this.\n",
      "INFO:nprophet.utils:Disabling daily seasonality. Run NeuralProphet with daily_seasonality=True to override this.\n",
      "INFO: nprophet.config - set_auto_batch_epoch: Auto-set batch_size to 8\n",
      "INFO:nprophet.config:Auto-set batch_size to 8\n",
      "INFO: nprophet.config - set_auto_batch_epoch: Auto-set epochs to 53\n",
      "INFO:nprophet.config:Auto-set epochs to 53\n"
     ]
    },
    {
     "data": {
      "application/vnd.jupyter.widget-view+json": {
       "model_id": "f663ab27fc674053bf6972af71e3af84",
       "version_major": 2,
       "version_minor": 0
      },
      "text/plain": [
       "HBox(children=(HTML(value=''), FloatProgress(value=0.0), HTML(value='')))"
      ]
     },
     "metadata": {},
     "output_type": "display_data"
    },
    {
     "name": "stderr",
     "output_type": "stream",
     "text": [
      "/Users/temp/.pyenv/versions/3.9.6/envs/jenny-3.9.6/lib/python3.9/site-packages/torch/nn/modules/container.py:552: UserWarning: Setting attributes on ParameterDict is not supported.\n",
      "  warnings.warn(\"Setting attributes on ParameterDict is not supported.\")\n",
      "INFO: nprophet - _lr_range_test: learning rate range test found optimal lr: 2.31E-01\n",
      "INFO:nprophet:learning rate range test found optimal lr: 2.31E-01\n",
      "Epoch[53/53]: 100%|██████████████████████████████████████████████████████████████████████████████████████████████████████████████████████████████████████████| 53/53 [00:04<00:00, 10.75it/s, SmoothL1Loss=0.00157, MAE=21.7, RegLoss=0]\n",
      "/Users/temp/.pyenv/versions/3.9.6/envs/jenny-3.9.6/lib/python3.9/site-packages/torch/nn/modules/container.py:552: UserWarning: Setting attributes on ParameterDict is not supported.\n",
      "  warnings.warn(\"Setting attributes on ParameterDict is not supported.\")\n",
      "INFO: nprophet.utils - set_auto_seasonalities: Disabling yearly seasonality. Run NeuralProphet with yearly_seasonality=True to override this.\n",
      "INFO:nprophet.utils:Disabling yearly seasonality. Run NeuralProphet with yearly_seasonality=True to override this.\n",
      "INFO: nprophet.utils - set_auto_seasonalities: Disabling daily seasonality. Run NeuralProphet with daily_seasonality=True to override this.\n",
      "INFO:nprophet.utils:Disabling daily seasonality. Run NeuralProphet with daily_seasonality=True to override this.\n",
      "INFO: nprophet.config - set_auto_batch_epoch: Auto-set batch_size to 8\n",
      "INFO:nprophet.config:Auto-set batch_size to 8\n",
      "INFO: nprophet.config - set_auto_batch_epoch: Auto-set epochs to 53\n",
      "INFO:nprophet.config:Auto-set epochs to 53\n"
     ]
    },
    {
     "data": {
      "application/vnd.jupyter.widget-view+json": {
       "model_id": "aa1c57a4cdb84577b7f3499876f6a72e",
       "version_major": 2,
       "version_minor": 0
      },
      "text/plain": [
       "HBox(children=(HTML(value=''), FloatProgress(value=0.0), HTML(value='')))"
      ]
     },
     "metadata": {},
     "output_type": "display_data"
    },
    {
     "name": "stderr",
     "output_type": "stream",
     "text": [
      "/Users/temp/.pyenv/versions/3.9.6/envs/jenny-3.9.6/lib/python3.9/site-packages/torch/nn/modules/container.py:552: UserWarning: Setting attributes on ParameterDict is not supported.\n",
      "  warnings.warn(\"Setting attributes on ParameterDict is not supported.\")\n",
      "INFO: nprophet - _lr_range_test: learning rate range test found optimal lr: 8.11E-01\n",
      "INFO:nprophet:learning rate range test found optimal lr: 8.11E-01\n",
      "Epoch[53/53]: 100%|██████████████████████████████████████████████████████████████████████████████████████████████████████████████████████████████████████████| 53/53 [00:05<00:00, 10.48it/s, SmoothL1Loss=0.00138, MAE=19.2, RegLoss=0]\n",
      "/Users/temp/.pyenv/versions/3.9.6/envs/jenny-3.9.6/lib/python3.9/site-packages/torch/nn/modules/container.py:552: UserWarning: Setting attributes on ParameterDict is not supported.\n",
      "  warnings.warn(\"Setting attributes on ParameterDict is not supported.\")\n",
      "INFO: nprophet.utils - set_auto_seasonalities: Disabling yearly seasonality. Run NeuralProphet with yearly_seasonality=True to override this.\n",
      "INFO:nprophet.utils:Disabling yearly seasonality. Run NeuralProphet with yearly_seasonality=True to override this.\n",
      "INFO: nprophet.utils - set_auto_seasonalities: Disabling daily seasonality. Run NeuralProphet with daily_seasonality=True to override this.\n",
      "INFO:nprophet.utils:Disabling daily seasonality. Run NeuralProphet with daily_seasonality=True to override this.\n",
      "INFO: nprophet.config - set_auto_batch_epoch: Auto-set batch_size to 8\n",
      "INFO:nprophet.config:Auto-set batch_size to 8\n",
      "INFO: nprophet.config - set_auto_batch_epoch: Auto-set epochs to 53\n",
      "INFO:nprophet.config:Auto-set epochs to 53\n"
     ]
    },
    {
     "data": {
      "application/vnd.jupyter.widget-view+json": {
       "model_id": "5fc2e47fdb9e47ec8c35bab95eed3f38",
       "version_major": 2,
       "version_minor": 0
      },
      "text/plain": [
       "HBox(children=(HTML(value=''), FloatProgress(value=0.0), HTML(value='')))"
      ]
     },
     "metadata": {},
     "output_type": "display_data"
    },
    {
     "name": "stderr",
     "output_type": "stream",
     "text": [
      "/Users/temp/.pyenv/versions/3.9.6/envs/jenny-3.9.6/lib/python3.9/site-packages/torch/nn/modules/container.py:552: UserWarning: Setting attributes on ParameterDict is not supported.\n",
      "  warnings.warn(\"Setting attributes on ParameterDict is not supported.\")\n",
      "INFO: nprophet - _lr_range_test: learning rate range test found optimal lr: 2.31E-01\n",
      "INFO:nprophet:learning rate range test found optimal lr: 2.31E-01\n",
      "Epoch[53/53]: 100%|██████████████████████████████████████████████████████████████████████████████████████████████████████████████████████████████████████████| 53/53 [00:05<00:00,  9.56it/s, SmoothL1Loss=0.00136, MAE=19.4, RegLoss=0]\n",
      "/Users/temp/.pyenv/versions/3.9.6/envs/jenny-3.9.6/lib/python3.9/site-packages/torch/nn/modules/container.py:552: UserWarning: Setting attributes on ParameterDict is not supported.\n",
      "  warnings.warn(\"Setting attributes on ParameterDict is not supported.\")\n",
      "INFO: nprophet.utils - set_auto_seasonalities: Disabling yearly seasonality. Run NeuralProphet with yearly_seasonality=True to override this.\n",
      "INFO:nprophet.utils:Disabling yearly seasonality. Run NeuralProphet with yearly_seasonality=True to override this.\n",
      "INFO: nprophet.utils - set_auto_seasonalities: Disabling daily seasonality. Run NeuralProphet with daily_seasonality=True to override this.\n",
      "INFO:nprophet.utils:Disabling daily seasonality. Run NeuralProphet with daily_seasonality=True to override this.\n",
      "INFO: nprophet.config - set_auto_batch_epoch: Auto-set batch_size to 8\n",
      "INFO:nprophet.config:Auto-set batch_size to 8\n",
      "INFO: nprophet.config - set_auto_batch_epoch: Auto-set epochs to 53\n",
      "INFO:nprophet.config:Auto-set epochs to 53\n"
     ]
    },
    {
     "data": {
      "application/vnd.jupyter.widget-view+json": {
       "model_id": "e00e0330141148bc8885b4f205da13db",
       "version_major": 2,
       "version_minor": 0
      },
      "text/plain": [
       "HBox(children=(HTML(value=''), FloatProgress(value=0.0), HTML(value='')))"
      ]
     },
     "metadata": {},
     "output_type": "display_data"
    },
    {
     "name": "stderr",
     "output_type": "stream",
     "text": [
      "/Users/temp/.pyenv/versions/3.9.6/envs/jenny-3.9.6/lib/python3.9/site-packages/torch/nn/modules/container.py:552: UserWarning: Setting attributes on ParameterDict is not supported.\n",
      "  warnings.warn(\"Setting attributes on ParameterDict is not supported.\")\n",
      "INFO: nprophet - _lr_range_test: learning rate range test found optimal lr: 1.87E-01\n",
      "INFO:nprophet:learning rate range test found optimal lr: 1.87E-01\n",
      "Epoch[53/53]: 100%|██████████████████████████████████████████████████████████████████████████████████████████████████████████████████████████████████████████| 53/53 [00:05<00:00, 10.52it/s, SmoothL1Loss=0.00159, MAE=22.1, RegLoss=0]\n",
      "/Users/temp/.pyenv/versions/3.9.6/envs/jenny-3.9.6/lib/python3.9/site-packages/torch/nn/modules/container.py:552: UserWarning: Setting attributes on ParameterDict is not supported.\n",
      "  warnings.warn(\"Setting attributes on ParameterDict is not supported.\")\n",
      "INFO: nprophet.utils - set_auto_seasonalities: Disabling yearly seasonality. Run NeuralProphet with yearly_seasonality=True to override this.\n",
      "INFO:nprophet.utils:Disabling yearly seasonality. Run NeuralProphet with yearly_seasonality=True to override this.\n",
      "INFO: nprophet.utils - set_auto_seasonalities: Disabling daily seasonality. Run NeuralProphet with daily_seasonality=True to override this.\n",
      "INFO:nprophet.utils:Disabling daily seasonality. Run NeuralProphet with daily_seasonality=True to override this.\n",
      "INFO: nprophet.config - set_auto_batch_epoch: Auto-set batch_size to 8\n",
      "INFO:nprophet.config:Auto-set batch_size to 8\n",
      "INFO: nprophet.config - set_auto_batch_epoch: Auto-set epochs to 53\n",
      "INFO:nprophet.config:Auto-set epochs to 53\n"
     ]
    },
    {
     "data": {
      "application/vnd.jupyter.widget-view+json": {
       "model_id": "d323e6c78ff845e693b97fa68dbc25ba",
       "version_major": 2,
       "version_minor": 0
      },
      "text/plain": [
       "HBox(children=(HTML(value=''), FloatProgress(value=0.0), HTML(value='')))"
      ]
     },
     "metadata": {},
     "output_type": "display_data"
    },
    {
     "name": "stderr",
     "output_type": "stream",
     "text": [
      "/Users/temp/.pyenv/versions/3.9.6/envs/jenny-3.9.6/lib/python3.9/site-packages/torch/nn/modules/container.py:552: UserWarning: Setting attributes on ParameterDict is not supported.\n",
      "  warnings.warn(\"Setting attributes on ParameterDict is not supported.\")\n",
      "INFO: nprophet - _lr_range_test: learning rate range test found optimal lr: 1.52E+00\n",
      "INFO:nprophet:learning rate range test found optimal lr: 1.52E+00\n",
      "Epoch[53/53]: 100%|██████████████████████████████████████████████████████████████████████████████████████████████████████████████████████████████████████████| 53/53 [00:05<00:00, 10.45it/s, SmoothL1Loss=0.00161, MAE=22.1, RegLoss=0]\n",
      "/Users/temp/.pyenv/versions/3.9.6/envs/jenny-3.9.6/lib/python3.9/site-packages/torch/nn/modules/container.py:552: UserWarning: Setting attributes on ParameterDict is not supported.\n",
      "  warnings.warn(\"Setting attributes on ParameterDict is not supported.\")\n",
      "INFO: nprophet.utils - set_auto_seasonalities: Disabling yearly seasonality. Run NeuralProphet with yearly_seasonality=True to override this.\n",
      "INFO:nprophet.utils:Disabling yearly seasonality. Run NeuralProphet with yearly_seasonality=True to override this.\n",
      "INFO: nprophet.utils - set_auto_seasonalities: Disabling daily seasonality. Run NeuralProphet with daily_seasonality=True to override this.\n",
      "INFO:nprophet.utils:Disabling daily seasonality. Run NeuralProphet with daily_seasonality=True to override this.\n",
      "INFO: nprophet.config - set_auto_batch_epoch: Auto-set batch_size to 8\n",
      "INFO:nprophet.config:Auto-set batch_size to 8\n",
      "INFO: nprophet.config - set_auto_batch_epoch: Auto-set epochs to 52\n",
      "INFO:nprophet.config:Auto-set epochs to 52\n"
     ]
    },
    {
     "data": {
      "application/vnd.jupyter.widget-view+json": {
       "model_id": "2fc0d046005041c5a4bc8d7d15c64a2a",
       "version_major": 2,
       "version_minor": 0
      },
      "text/plain": [
       "HBox(children=(HTML(value=''), FloatProgress(value=0.0), HTML(value='')))"
      ]
     },
     "metadata": {},
     "output_type": "display_data"
    },
    {
     "name": "stderr",
     "output_type": "stream",
     "text": [
      "/Users/temp/.pyenv/versions/3.9.6/envs/jenny-3.9.6/lib/python3.9/site-packages/torch/nn/modules/container.py:552: UserWarning: Setting attributes on ParameterDict is not supported.\n",
      "  warnings.warn(\"Setting attributes on ParameterDict is not supported.\")\n",
      "INFO: nprophet - _lr_range_test: learning rate range test found optimal lr: 4.33E-01\n",
      "INFO:nprophet:learning rate range test found optimal lr: 4.33E-01\n",
      "Epoch[52/52]: 100%|██████████████████████████████████████████████████████████████████████████████████████████████████████████████████████████████████████████| 52/52 [00:04<00:00, 10.42it/s, SmoothL1Loss=0.00135, MAE=19.6, RegLoss=0]\n",
      "/Users/temp/.pyenv/versions/3.9.6/envs/jenny-3.9.6/lib/python3.9/site-packages/torch/nn/modules/container.py:552: UserWarning: Setting attributes on ParameterDict is not supported.\n",
      "  warnings.warn(\"Setting attributes on ParameterDict is not supported.\")\n",
      "INFO: nprophet.utils - set_auto_seasonalities: Disabling yearly seasonality. Run NeuralProphet with yearly_seasonality=True to override this.\n",
      "INFO:nprophet.utils:Disabling yearly seasonality. Run NeuralProphet with yearly_seasonality=True to override this.\n",
      "INFO: nprophet.utils - set_auto_seasonalities: Disabling daily seasonality. Run NeuralProphet with daily_seasonality=True to override this.\n",
      "INFO:nprophet.utils:Disabling daily seasonality. Run NeuralProphet with daily_seasonality=True to override this.\n",
      "INFO: nprophet.config - set_auto_batch_epoch: Auto-set batch_size to 8\n",
      "INFO:nprophet.config:Auto-set batch_size to 8\n",
      "INFO: nprophet.config - set_auto_batch_epoch: Auto-set epochs to 52\n",
      "INFO:nprophet.config:Auto-set epochs to 52\n"
     ]
    },
    {
     "data": {
      "application/vnd.jupyter.widget-view+json": {
       "model_id": "c6d342bbe45c4bf8aaa40623efd26279",
       "version_major": 2,
       "version_minor": 0
      },
      "text/plain": [
       "HBox(children=(HTML(value=''), FloatProgress(value=0.0), HTML(value='')))"
      ]
     },
     "metadata": {},
     "output_type": "display_data"
    },
    {
     "name": "stderr",
     "output_type": "stream",
     "text": [
      "/Users/temp/.pyenv/versions/3.9.6/envs/jenny-3.9.6/lib/python3.9/site-packages/torch/nn/modules/container.py:552: UserWarning: Setting attributes on ParameterDict is not supported.\n",
      "  warnings.warn(\"Setting attributes on ParameterDict is not supported.\")\n",
      "INFO: nprophet - _lr_range_test: learning rate range test found optimal lr: 4.33E-01\n",
      "INFO:nprophet:learning rate range test found optimal lr: 4.33E-01\n",
      "Epoch[52/52]: 100%|██████████████████████████████████████████████████████████████████████████████████████████████████████████████████████████████████████████| 52/52 [00:05<00:00,  9.91it/s, SmoothL1Loss=0.00157, MAE=22.3, RegLoss=0]\n",
      "/Users/temp/.pyenv/versions/3.9.6/envs/jenny-3.9.6/lib/python3.9/site-packages/torch/nn/modules/container.py:552: UserWarning: Setting attributes on ParameterDict is not supported.\n",
      "  warnings.warn(\"Setting attributes on ParameterDict is not supported.\")\n",
      "INFO: nprophet.utils - set_auto_seasonalities: Disabling yearly seasonality. Run NeuralProphet with yearly_seasonality=True to override this.\n",
      "INFO:nprophet.utils:Disabling yearly seasonality. Run NeuralProphet with yearly_seasonality=True to override this.\n",
      "INFO: nprophet.utils - set_auto_seasonalities: Disabling daily seasonality. Run NeuralProphet with daily_seasonality=True to override this.\n",
      "INFO:nprophet.utils:Disabling daily seasonality. Run NeuralProphet with daily_seasonality=True to override this.\n",
      "INFO: nprophet.config - set_auto_batch_epoch: Auto-set batch_size to 8\n",
      "INFO:nprophet.config:Auto-set batch_size to 8\n",
      "INFO: nprophet.config - set_auto_batch_epoch: Auto-set epochs to 52\n",
      "INFO:nprophet.config:Auto-set epochs to 52\n"
     ]
    },
    {
     "data": {
      "application/vnd.jupyter.widget-view+json": {
       "model_id": "6e219e672e42414c931cadd297b98024",
       "version_major": 2,
       "version_minor": 0
      },
      "text/plain": [
       "HBox(children=(HTML(value=''), FloatProgress(value=0.0), HTML(value='')))"
      ]
     },
     "metadata": {},
     "output_type": "display_data"
    },
    {
     "name": "stderr",
     "output_type": "stream",
     "text": [
      "/Users/temp/.pyenv/versions/3.9.6/envs/jenny-3.9.6/lib/python3.9/site-packages/torch/nn/modules/container.py:552: UserWarning: Setting attributes on ParameterDict is not supported.\n",
      "  warnings.warn(\"Setting attributes on ParameterDict is not supported.\")\n",
      "INFO: nprophet - _lr_range_test: learning rate range test found optimal lr: 1.00E+00\n",
      "INFO:nprophet:learning rate range test found optimal lr: 1.00E+00\n",
      "Epoch[52/52]: 100%|██████████████████████████████████████████████████████████████████████████████████████████████████████████████████████████████████████████| 52/52 [00:05<00:00,  9.40it/s, SmoothL1Loss=0.00137, MAE=19.8, RegLoss=0]\n",
      "/Users/temp/.pyenv/versions/3.9.6/envs/jenny-3.9.6/lib/python3.9/site-packages/torch/nn/modules/container.py:552: UserWarning: Setting attributes on ParameterDict is not supported.\n",
      "  warnings.warn(\"Setting attributes on ParameterDict is not supported.\")\n",
      "INFO: nprophet.utils - set_auto_seasonalities: Disabling yearly seasonality. Run NeuralProphet with yearly_seasonality=True to override this.\n",
      "INFO:nprophet.utils:Disabling yearly seasonality. Run NeuralProphet with yearly_seasonality=True to override this.\n",
      "INFO: nprophet.utils - set_auto_seasonalities: Disabling daily seasonality. Run NeuralProphet with daily_seasonality=True to override this.\n",
      "INFO:nprophet.utils:Disabling daily seasonality. Run NeuralProphet with daily_seasonality=True to override this.\n",
      "INFO: nprophet.config - set_auto_batch_epoch: Auto-set batch_size to 8\n",
      "INFO:nprophet.config:Auto-set batch_size to 8\n",
      "INFO: nprophet.config - set_auto_batch_epoch: Auto-set epochs to 51\n",
      "INFO:nprophet.config:Auto-set epochs to 51\n"
     ]
    },
    {
     "data": {
      "application/vnd.jupyter.widget-view+json": {
       "model_id": "aedde64494204fb6b96ef0d19846c566",
       "version_major": 2,
       "version_minor": 0
      },
      "text/plain": [
       "HBox(children=(HTML(value=''), FloatProgress(value=0.0), HTML(value='')))"
      ]
     },
     "metadata": {},
     "output_type": "display_data"
    },
    {
     "name": "stderr",
     "output_type": "stream",
     "text": [
      "/Users/temp/.pyenv/versions/3.9.6/envs/jenny-3.9.6/lib/python3.9/site-packages/torch/nn/modules/container.py:552: UserWarning: Setting attributes on ParameterDict is not supported.\n",
      "  warnings.warn(\"Setting attributes on ParameterDict is not supported.\")\n",
      "INFO: nprophet - _lr_range_test: learning rate range test found optimal lr: 5.34E-01\n",
      "INFO:nprophet:learning rate range test found optimal lr: 5.34E-01\n",
      "Epoch[51/51]: 100%|██████████████████████████████████████████████████████████████████████████████████████████████████████████████████████████████████████████| 51/51 [00:05<00:00,  9.48it/s, SmoothL1Loss=0.00143, MAE=20.2, RegLoss=0]\n",
      "/Users/temp/.pyenv/versions/3.9.6/envs/jenny-3.9.6/lib/python3.9/site-packages/torch/nn/modules/container.py:552: UserWarning: Setting attributes on ParameterDict is not supported.\n",
      "  warnings.warn(\"Setting attributes on ParameterDict is not supported.\")\n",
      "INFO: nprophet.utils - set_auto_seasonalities: Disabling yearly seasonality. Run NeuralProphet with yearly_seasonality=True to override this.\n",
      "INFO:nprophet.utils:Disabling yearly seasonality. Run NeuralProphet with yearly_seasonality=True to override this.\n",
      "INFO: nprophet.utils - set_auto_seasonalities: Disabling daily seasonality. Run NeuralProphet with daily_seasonality=True to override this.\n",
      "INFO:nprophet.utils:Disabling daily seasonality. Run NeuralProphet with daily_seasonality=True to override this.\n",
      "INFO: nprophet.config - set_auto_batch_epoch: Auto-set batch_size to 8\n",
      "INFO:nprophet.config:Auto-set batch_size to 8\n",
      "INFO: nprophet.config - set_auto_batch_epoch: Auto-set epochs to 51\n",
      "INFO:nprophet.config:Auto-set epochs to 51\n"
     ]
    },
    {
     "data": {
      "application/vnd.jupyter.widget-view+json": {
       "model_id": "480d1511d26a498aa33a6fba1084d6a0",
       "version_major": 2,
       "version_minor": 0
      },
      "text/plain": [
       "HBox(children=(HTML(value=''), FloatProgress(value=0.0), HTML(value='')))"
      ]
     },
     "metadata": {},
     "output_type": "display_data"
    },
    {
     "name": "stderr",
     "output_type": "stream",
     "text": [
      "/Users/temp/.pyenv/versions/3.9.6/envs/jenny-3.9.6/lib/python3.9/site-packages/torch/nn/modules/container.py:552: UserWarning: Setting attributes on ParameterDict is not supported.\n",
      "  warnings.warn(\"Setting attributes on ParameterDict is not supported.\")\n",
      "INFO: nprophet - _lr_range_test: learning rate range test found optimal lr: 2.85E-01\n",
      "INFO:nprophet:learning rate range test found optimal lr: 2.85E-01\n",
      "Epoch[51/51]: 100%|██████████████████████████████████████████████████████████████████████████████████████████████████████████████████████████████████████████| 51/51 [00:05<00:00,  9.47it/s, SmoothL1Loss=0.00165, MAE=22.8, RegLoss=0]\n",
      "/Users/temp/.pyenv/versions/3.9.6/envs/jenny-3.9.6/lib/python3.9/site-packages/torch/nn/modules/container.py:552: UserWarning: Setting attributes on ParameterDict is not supported.\n",
      "  warnings.warn(\"Setting attributes on ParameterDict is not supported.\")\n",
      "INFO: nprophet.utils - set_auto_seasonalities: Disabling yearly seasonality. Run NeuralProphet with yearly_seasonality=True to override this.\n",
      "INFO:nprophet.utils:Disabling yearly seasonality. Run NeuralProphet with yearly_seasonality=True to override this.\n",
      "INFO: nprophet.utils - set_auto_seasonalities: Disabling daily seasonality. Run NeuralProphet with daily_seasonality=True to override this.\n",
      "INFO:nprophet.utils:Disabling daily seasonality. Run NeuralProphet with daily_seasonality=True to override this.\n",
      "INFO: nprophet.config - set_auto_batch_epoch: Auto-set batch_size to 8\n",
      "INFO:nprophet.config:Auto-set batch_size to 8\n",
      "INFO: nprophet.config - set_auto_batch_epoch: Auto-set epochs to 51\n",
      "INFO:nprophet.config:Auto-set epochs to 51\n"
     ]
    },
    {
     "data": {
      "application/vnd.jupyter.widget-view+json": {
       "model_id": "ee3a068e9ecd45c58f93c14320890381",
       "version_major": 2,
       "version_minor": 0
      },
      "text/plain": [
       "HBox(children=(HTML(value=''), FloatProgress(value=0.0), HTML(value='')))"
      ]
     },
     "metadata": {},
     "output_type": "display_data"
    },
    {
     "name": "stderr",
     "output_type": "stream",
     "text": [
      "/Users/temp/.pyenv/versions/3.9.6/envs/jenny-3.9.6/lib/python3.9/site-packages/torch/nn/modules/container.py:552: UserWarning: Setting attributes on ParameterDict is not supported.\n",
      "  warnings.warn(\"Setting attributes on ParameterDict is not supported.\")\n",
      "INFO: nprophet - _lr_range_test: learning rate range test found optimal lr: 3.51E-01\n",
      "INFO:nprophet:learning rate range test found optimal lr: 3.51E-01\n",
      "Epoch[51/51]: 100%|██████████████████████████████████████████████████████████████████████████████████████████████████████████████████████████████████████████| 51/51 [00:05<00:00,  9.13it/s, SmoothL1Loss=0.00142, MAE=20.2, RegLoss=0]\n",
      "/Users/temp/.pyenv/versions/3.9.6/envs/jenny-3.9.6/lib/python3.9/site-packages/torch/nn/modules/container.py:552: UserWarning: Setting attributes on ParameterDict is not supported.\n",
      "  warnings.warn(\"Setting attributes on ParameterDict is not supported.\")\n",
      "INFO: nprophet.utils - set_auto_seasonalities: Disabling yearly seasonality. Run NeuralProphet with yearly_seasonality=True to override this.\n",
      "INFO:nprophet.utils:Disabling yearly seasonality. Run NeuralProphet with yearly_seasonality=True to override this.\n",
      "INFO: nprophet.utils - set_auto_seasonalities: Disabling daily seasonality. Run NeuralProphet with daily_seasonality=True to override this.\n",
      "INFO:nprophet.utils:Disabling daily seasonality. Run NeuralProphet with daily_seasonality=True to override this.\n",
      "INFO: nprophet.config - set_auto_batch_epoch: Auto-set batch_size to 8\n",
      "INFO:nprophet.config:Auto-set batch_size to 8\n",
      "INFO: nprophet.config - set_auto_batch_epoch: Auto-set epochs to 51\n",
      "INFO:nprophet.config:Auto-set epochs to 51\n"
     ]
    },
    {
     "data": {
      "application/vnd.jupyter.widget-view+json": {
       "model_id": "3d4d66aa60454f758267972db6586736",
       "version_major": 2,
       "version_minor": 0
      },
      "text/plain": [
       "HBox(children=(HTML(value=''), FloatProgress(value=0.0), HTML(value='')))"
      ]
     },
     "metadata": {},
     "output_type": "display_data"
    },
    {
     "name": "stderr",
     "output_type": "stream",
     "text": [
      "/Users/temp/.pyenv/versions/3.9.6/envs/jenny-3.9.6/lib/python3.9/site-packages/torch/nn/modules/container.py:552: UserWarning: Setting attributes on ParameterDict is not supported.\n",
      "  warnings.warn(\"Setting attributes on ParameterDict is not supported.\")\n",
      "INFO: nprophet - _lr_range_test: learning rate range test found optimal lr: 3.51E-01\n",
      "INFO:nprophet:learning rate range test found optimal lr: 3.51E-01\n",
      "Epoch[51/51]: 100%|██████████████████████████████████████████████████████████████████████████████████████████████████████████████████████████████████████████| 51/51 [00:05<00:00,  8.92it/s, SmoothL1Loss=0.00138, MAE=20.1, RegLoss=0]\n",
      "/Users/temp/.pyenv/versions/3.9.6/envs/jenny-3.9.6/lib/python3.9/site-packages/torch/nn/modules/container.py:552: UserWarning: Setting attributes on ParameterDict is not supported.\n",
      "  warnings.warn(\"Setting attributes on ParameterDict is not supported.\")\n",
      "INFO: nprophet.utils - set_auto_seasonalities: Disabling yearly seasonality. Run NeuralProphet with yearly_seasonality=True to override this.\n",
      "INFO:nprophet.utils:Disabling yearly seasonality. Run NeuralProphet with yearly_seasonality=True to override this.\n",
      "INFO: nprophet.utils - set_auto_seasonalities: Disabling daily seasonality. Run NeuralProphet with daily_seasonality=True to override this.\n",
      "INFO:nprophet.utils:Disabling daily seasonality. Run NeuralProphet with daily_seasonality=True to override this.\n",
      "INFO: nprophet.config - set_auto_batch_epoch: Auto-set batch_size to 8\n",
      "INFO:nprophet.config:Auto-set batch_size to 8\n",
      "INFO: nprophet.config - set_auto_batch_epoch: Auto-set epochs to 51\n",
      "INFO:nprophet.config:Auto-set epochs to 51\n"
     ]
    },
    {
     "data": {
      "application/vnd.jupyter.widget-view+json": {
       "model_id": "6e3a7f454d8c44768b5f11142dcd5878",
       "version_major": 2,
       "version_minor": 0
      },
      "text/plain": [
       "HBox(children=(HTML(value=''), FloatProgress(value=0.0), HTML(value='')))"
      ]
     },
     "metadata": {},
     "output_type": "display_data"
    },
    {
     "name": "stderr",
     "output_type": "stream",
     "text": [
      "/Users/temp/.pyenv/versions/3.9.6/envs/jenny-3.9.6/lib/python3.9/site-packages/torch/nn/modules/container.py:552: UserWarning: Setting attributes on ParameterDict is not supported.\n",
      "  warnings.warn(\"Setting attributes on ParameterDict is not supported.\")\n",
      "INFO: nprophet - _lr_range_test: learning rate range test found optimal lr: 2.31E-01\n",
      "INFO:nprophet:learning rate range test found optimal lr: 2.31E-01\n",
      "Epoch[51/51]: 100%|██████████████████████████████████████████████████████████████████████████████████████████████████████████████████████████████████████████| 51/51 [00:05<00:00,  8.70it/s, SmoothL1Loss=0.00159, MAE=22.9, RegLoss=0]\n",
      "/Users/temp/.pyenv/versions/3.9.6/envs/jenny-3.9.6/lib/python3.9/site-packages/torch/nn/modules/container.py:552: UserWarning: Setting attributes on ParameterDict is not supported.\n",
      "  warnings.warn(\"Setting attributes on ParameterDict is not supported.\")\n",
      "INFO: nprophet.utils - set_auto_seasonalities: Disabling yearly seasonality. Run NeuralProphet with yearly_seasonality=True to override this.\n",
      "INFO:nprophet.utils:Disabling yearly seasonality. Run NeuralProphet with yearly_seasonality=True to override this.\n",
      "INFO: nprophet.utils - set_auto_seasonalities: Disabling daily seasonality. Run NeuralProphet with daily_seasonality=True to override this.\n",
      "INFO:nprophet.utils:Disabling daily seasonality. Run NeuralProphet with daily_seasonality=True to override this.\n",
      "INFO: nprophet.config - set_auto_batch_epoch: Auto-set batch_size to 8\n",
      "INFO:nprophet.config:Auto-set batch_size to 8\n",
      "INFO: nprophet.config - set_auto_batch_epoch: Auto-set epochs to 51\n",
      "INFO:nprophet.config:Auto-set epochs to 51\n"
     ]
    },
    {
     "data": {
      "application/vnd.jupyter.widget-view+json": {
       "model_id": "db84dc7425024808b43a8a9b216df7c5",
       "version_major": 2,
       "version_minor": 0
      },
      "text/plain": [
       "HBox(children=(HTML(value=''), FloatProgress(value=0.0), HTML(value='')))"
      ]
     },
     "metadata": {},
     "output_type": "display_data"
    },
    {
     "name": "stderr",
     "output_type": "stream",
     "text": [
      "/Users/temp/.pyenv/versions/3.9.6/envs/jenny-3.9.6/lib/python3.9/site-packages/torch/nn/modules/container.py:552: UserWarning: Setting attributes on ParameterDict is not supported.\n",
      "  warnings.warn(\"Setting attributes on ParameterDict is not supported.\")\n",
      "INFO: nprophet - _lr_range_test: learning rate range test found optimal lr: 1.87E-01\n",
      "INFO:nprophet:learning rate range test found optimal lr: 1.87E-01\n",
      "Epoch[51/51]: 100%|██████████████████████████████████████████████████████████████████████████████████████████████████████████████████████████████████████████| 51/51 [00:05<00:00,  8.61it/s, SmoothL1Loss=0.00158, MAE=22.9, RegLoss=0]\n",
      "/Users/temp/.pyenv/versions/3.9.6/envs/jenny-3.9.6/lib/python3.9/site-packages/torch/nn/modules/container.py:552: UserWarning: Setting attributes on ParameterDict is not supported.\n",
      "  warnings.warn(\"Setting attributes on ParameterDict is not supported.\")\n",
      "INFO: nprophet.utils - set_auto_seasonalities: Disabling yearly seasonality. Run NeuralProphet with yearly_seasonality=True to override this.\n",
      "INFO:nprophet.utils:Disabling yearly seasonality. Run NeuralProphet with yearly_seasonality=True to override this.\n",
      "INFO: nprophet.utils - set_auto_seasonalities: Disabling daily seasonality. Run NeuralProphet with daily_seasonality=True to override this.\n",
      "INFO:nprophet.utils:Disabling daily seasonality. Run NeuralProphet with daily_seasonality=True to override this.\n",
      "INFO: nprophet.config - set_auto_batch_epoch: Auto-set batch_size to 8\n",
      "INFO:nprophet.config:Auto-set batch_size to 8\n",
      "INFO: nprophet.config - set_auto_batch_epoch: Auto-set epochs to 50\n",
      "INFO:nprophet.config:Auto-set epochs to 50\n"
     ]
    },
    {
     "data": {
      "application/vnd.jupyter.widget-view+json": {
       "model_id": "22e6873bb4a548f5bbd754b5a5b7fc9b",
       "version_major": 2,
       "version_minor": 0
      },
      "text/plain": [
       "HBox(children=(HTML(value=''), FloatProgress(value=0.0), HTML(value='')))"
      ]
     },
     "metadata": {},
     "output_type": "display_data"
    },
    {
     "name": "stderr",
     "output_type": "stream",
     "text": [
      "/Users/temp/.pyenv/versions/3.9.6/envs/jenny-3.9.6/lib/python3.9/site-packages/torch/nn/modules/container.py:552: UserWarning: Setting attributes on ParameterDict is not supported.\n",
      "  warnings.warn(\"Setting attributes on ParameterDict is not supported.\")\n",
      "INFO: nprophet - _lr_range_test: learning rate range test found optimal lr: 2.31E-01\n",
      "INFO:nprophet:learning rate range test found optimal lr: 2.31E-01\n",
      "Epoch[50/50]: 100%|██████████████████████████████████████████████████████████████████████████████████████████████████████████████████████████████████████████| 50/50 [00:05<00:00,  8.91it/s, SmoothL1Loss=0.00138, MAE=20.5, RegLoss=0]\n",
      "/Users/temp/.pyenv/versions/3.9.6/envs/jenny-3.9.6/lib/python3.9/site-packages/torch/nn/modules/container.py:552: UserWarning: Setting attributes on ParameterDict is not supported.\n",
      "  warnings.warn(\"Setting attributes on ParameterDict is not supported.\")\n",
      "INFO: nprophet.utils - set_auto_seasonalities: Disabling yearly seasonality. Run NeuralProphet with yearly_seasonality=True to override this.\n",
      "INFO:nprophet.utils:Disabling yearly seasonality. Run NeuralProphet with yearly_seasonality=True to override this.\n",
      "INFO: nprophet.utils - set_auto_seasonalities: Disabling daily seasonality. Run NeuralProphet with daily_seasonality=True to override this.\n",
      "INFO:nprophet.utils:Disabling daily seasonality. Run NeuralProphet with daily_seasonality=True to override this.\n",
      "INFO: nprophet.config - set_auto_batch_epoch: Auto-set batch_size to 8\n",
      "INFO:nprophet.config:Auto-set batch_size to 8\n",
      "INFO: nprophet.config - set_auto_batch_epoch: Auto-set epochs to 50\n",
      "INFO:nprophet.config:Auto-set epochs to 50\n"
     ]
    },
    {
     "data": {
      "application/vnd.jupyter.widget-view+json": {
       "model_id": "1094322f37104a24b9f4db2385d4cec1",
       "version_major": 2,
       "version_minor": 0
      },
      "text/plain": [
       "HBox(children=(HTML(value=''), FloatProgress(value=0.0), HTML(value='')))"
      ]
     },
     "metadata": {},
     "output_type": "display_data"
    },
    {
     "name": "stderr",
     "output_type": "stream",
     "text": [
      "/Users/temp/.pyenv/versions/3.9.6/envs/jenny-3.9.6/lib/python3.9/site-packages/torch/nn/modules/container.py:552: UserWarning: Setting attributes on ParameterDict is not supported.\n",
      "  warnings.warn(\"Setting attributes on ParameterDict is not supported.\")\n",
      "INFO: nprophet - _lr_range_test: learning rate range test found optimal lr: 3.51E-01\n",
      "INFO:nprophet:learning rate range test found optimal lr: 3.51E-01\n",
      "Epoch[50/50]: 100%|██████████████████████████████████████████████████████████████████████████████████████████████████████████████████████████████████████████| 50/50 [00:05<00:00,  8.81it/s, SmoothL1Loss=0.00159, MAE=23.1, RegLoss=0]\n",
      "/Users/temp/.pyenv/versions/3.9.6/envs/jenny-3.9.6/lib/python3.9/site-packages/torch/nn/modules/container.py:552: UserWarning: Setting attributes on ParameterDict is not supported.\n",
      "  warnings.warn(\"Setting attributes on ParameterDict is not supported.\")\n",
      "INFO: nprophet.utils - set_auto_seasonalities: Disabling yearly seasonality. Run NeuralProphet with yearly_seasonality=True to override this.\n",
      "INFO:nprophet.utils:Disabling yearly seasonality. Run NeuralProphet with yearly_seasonality=True to override this.\n",
      "INFO: nprophet.utils - set_auto_seasonalities: Disabling daily seasonality. Run NeuralProphet with daily_seasonality=True to override this.\n",
      "INFO:nprophet.utils:Disabling daily seasonality. Run NeuralProphet with daily_seasonality=True to override this.\n",
      "INFO: nprophet.config - set_auto_batch_epoch: Auto-set batch_size to 8\n",
      "INFO:nprophet.config:Auto-set batch_size to 8\n",
      "INFO: nprophet.config - set_auto_batch_epoch: Auto-set epochs to 50\n",
      "INFO:nprophet.config:Auto-set epochs to 50\n"
     ]
    },
    {
     "data": {
      "application/vnd.jupyter.widget-view+json": {
       "model_id": "8ccd24b3f9b04fea9ed123133a3cfdd2",
       "version_major": 2,
       "version_minor": 0
      },
      "text/plain": [
       "HBox(children=(HTML(value=''), FloatProgress(value=0.0), HTML(value='')))"
      ]
     },
     "metadata": {},
     "output_type": "display_data"
    },
    {
     "name": "stderr",
     "output_type": "stream",
     "text": [
      "/Users/temp/.pyenv/versions/3.9.6/envs/jenny-3.9.6/lib/python3.9/site-packages/torch/nn/modules/container.py:552: UserWarning: Setting attributes on ParameterDict is not supported.\n",
      "  warnings.warn(\"Setting attributes on ParameterDict is not supported.\")\n",
      "INFO: nprophet - _lr_range_test: learning rate range test found optimal lr: 6.58E-01\n",
      "INFO:nprophet:learning rate range test found optimal lr: 6.58E-01\n",
      "Epoch[50/50]: 100%|██████████████████████████████████████████████████████████████████████████████████████████████████████████████████████████████████████████| 50/50 [00:05<00:00,  9.09it/s, SmoothL1Loss=0.00139, MAE=20.7, RegLoss=0]\n",
      "/Users/temp/.pyenv/versions/3.9.6/envs/jenny-3.9.6/lib/python3.9/site-packages/torch/nn/modules/container.py:552: UserWarning: Setting attributes on ParameterDict is not supported.\n",
      "  warnings.warn(\"Setting attributes on ParameterDict is not supported.\")\n",
      "INFO: nprophet.utils - set_auto_seasonalities: Disabling yearly seasonality. Run NeuralProphet with yearly_seasonality=True to override this.\n",
      "INFO:nprophet.utils:Disabling yearly seasonality. Run NeuralProphet with yearly_seasonality=True to override this.\n",
      "INFO: nprophet.utils - set_auto_seasonalities: Disabling daily seasonality. Run NeuralProphet with daily_seasonality=True to override this.\n",
      "INFO:nprophet.utils:Disabling daily seasonality. Run NeuralProphet with daily_seasonality=True to override this.\n",
      "INFO: nprophet.config - set_auto_batch_epoch: Auto-set batch_size to 8\n",
      "INFO:nprophet.config:Auto-set batch_size to 8\n",
      "INFO: nprophet.config - set_auto_batch_epoch: Auto-set epochs to 49\n",
      "INFO:nprophet.config:Auto-set epochs to 49\n"
     ]
    },
    {
     "data": {
      "application/vnd.jupyter.widget-view+json": {
       "model_id": "abc55943a56e4850be0f3f7702f9d506",
       "version_major": 2,
       "version_minor": 0
      },
      "text/plain": [
       "HBox(children=(HTML(value=''), FloatProgress(value=0.0), HTML(value='')))"
      ]
     },
     "metadata": {},
     "output_type": "display_data"
    },
    {
     "name": "stderr",
     "output_type": "stream",
     "text": [
      "/Users/temp/.pyenv/versions/3.9.6/envs/jenny-3.9.6/lib/python3.9/site-packages/torch/nn/modules/container.py:552: UserWarning: Setting attributes on ParameterDict is not supported.\n",
      "  warnings.warn(\"Setting attributes on ParameterDict is not supported.\")\n",
      "INFO: nprophet - _lr_range_test: learning rate range test found optimal lr: 2.85E-01\n",
      "INFO:nprophet:learning rate range test found optimal lr: 2.85E-01\n",
      "Epoch[49/49]: 100%|██████████████████████████████████████████████████████████████████████████████████████████████████████████████████████████████████████████| 49/49 [00:05<00:00,  9.26it/s, SmoothL1Loss=0.00137, MAE=20.9, RegLoss=0]\n",
      "/Users/temp/.pyenv/versions/3.9.6/envs/jenny-3.9.6/lib/python3.9/site-packages/torch/nn/modules/container.py:552: UserWarning: Setting attributes on ParameterDict is not supported.\n",
      "  warnings.warn(\"Setting attributes on ParameterDict is not supported.\")\n",
      "INFO: nprophet.utils - set_auto_seasonalities: Disabling yearly seasonality. Run NeuralProphet with yearly_seasonality=True to override this.\n",
      "INFO:nprophet.utils:Disabling yearly seasonality. Run NeuralProphet with yearly_seasonality=True to override this.\n",
      "INFO: nprophet.utils - set_auto_seasonalities: Disabling daily seasonality. Run NeuralProphet with daily_seasonality=True to override this.\n",
      "INFO:nprophet.utils:Disabling daily seasonality. Run NeuralProphet with daily_seasonality=True to override this.\n",
      "INFO: nprophet.config - set_auto_batch_epoch: Auto-set batch_size to 8\n",
      "INFO:nprophet.config:Auto-set batch_size to 8\n",
      "INFO: nprophet.config - set_auto_batch_epoch: Auto-set epochs to 49\n",
      "INFO:nprophet.config:Auto-set epochs to 49\n"
     ]
    },
    {
     "data": {
      "application/vnd.jupyter.widget-view+json": {
       "model_id": "63009c4360a640df9427cb5eb448f809",
       "version_major": 2,
       "version_minor": 0
      },
      "text/plain": [
       "HBox(children=(HTML(value=''), FloatProgress(value=0.0), HTML(value='')))"
      ]
     },
     "metadata": {},
     "output_type": "display_data"
    },
    {
     "name": "stderr",
     "output_type": "stream",
     "text": [
      "/Users/temp/.pyenv/versions/3.9.6/envs/jenny-3.9.6/lib/python3.9/site-packages/torch/nn/modules/container.py:552: UserWarning: Setting attributes on ParameterDict is not supported.\n",
      "  warnings.warn(\"Setting attributes on ParameterDict is not supported.\")\n",
      "INFO: nprophet - _lr_range_test: learning rate range test found optimal lr: 2.85E-01\n",
      "INFO:nprophet:learning rate range test found optimal lr: 2.85E-01\n",
      "Epoch[49/49]: 100%|██████████████████████████████████████████████████████████████████████████████████████████████████████████████████████████████████████████| 49/49 [00:05<00:00,  9.25it/s, SmoothL1Loss=0.00156, MAE=23.6, RegLoss=0]\n",
      "/Users/temp/.pyenv/versions/3.9.6/envs/jenny-3.9.6/lib/python3.9/site-packages/torch/nn/modules/container.py:552: UserWarning: Setting attributes on ParameterDict is not supported.\n",
      "  warnings.warn(\"Setting attributes on ParameterDict is not supported.\")\n",
      "INFO: nprophet.utils - set_auto_seasonalities: Disabling yearly seasonality. Run NeuralProphet with yearly_seasonality=True to override this.\n",
      "INFO:nprophet.utils:Disabling yearly seasonality. Run NeuralProphet with yearly_seasonality=True to override this.\n",
      "INFO: nprophet.utils - set_auto_seasonalities: Disabling daily seasonality. Run NeuralProphet with daily_seasonality=True to override this.\n",
      "INFO:nprophet.utils:Disabling daily seasonality. Run NeuralProphet with daily_seasonality=True to override this.\n",
      "INFO: nprophet.config - set_auto_batch_epoch: Auto-set batch_size to 8\n",
      "INFO:nprophet.config:Auto-set batch_size to 8\n",
      "INFO: nprophet.config - set_auto_batch_epoch: Auto-set epochs to 49\n",
      "INFO:nprophet.config:Auto-set epochs to 49\n"
     ]
    },
    {
     "data": {
      "application/vnd.jupyter.widget-view+json": {
       "model_id": "19208560891a4393afe04a38f8169d75",
       "version_major": 2,
       "version_minor": 0
      },
      "text/plain": [
       "HBox(children=(HTML(value=''), FloatProgress(value=0.0), HTML(value='')))"
      ]
     },
     "metadata": {},
     "output_type": "display_data"
    },
    {
     "name": "stderr",
     "output_type": "stream",
     "text": [
      "/Users/temp/.pyenv/versions/3.9.6/envs/jenny-3.9.6/lib/python3.9/site-packages/torch/nn/modules/container.py:552: UserWarning: Setting attributes on ParameterDict is not supported.\n",
      "  warnings.warn(\"Setting attributes on ParameterDict is not supported.\")\n",
      "INFO: nprophet - _lr_range_test: learning rate range test found optimal lr: 6.58E-01\n",
      "INFO:nprophet:learning rate range test found optimal lr: 6.58E-01\n",
      "Epoch[49/49]: 100%|██████████████████████████████████████████████████████████████████████████████████████████████████████████████████████████████████████████| 49/49 [00:05<00:00,  9.66it/s, SmoothL1Loss=0.00156, MAE=23.6, RegLoss=0]\n",
      "/Users/temp/.pyenv/versions/3.9.6/envs/jenny-3.9.6/lib/python3.9/site-packages/torch/nn/modules/container.py:552: UserWarning: Setting attributes on ParameterDict is not supported.\n",
      "  warnings.warn(\"Setting attributes on ParameterDict is not supported.\")\n",
      "INFO: nprophet.utils - set_auto_seasonalities: Disabling yearly seasonality. Run NeuralProphet with yearly_seasonality=True to override this.\n",
      "INFO:nprophet.utils:Disabling yearly seasonality. Run NeuralProphet with yearly_seasonality=True to override this.\n",
      "INFO: nprophet.utils - set_auto_seasonalities: Disabling daily seasonality. Run NeuralProphet with daily_seasonality=True to override this.\n",
      "INFO:nprophet.utils:Disabling daily seasonality. Run NeuralProphet with daily_seasonality=True to override this.\n",
      "INFO: nprophet.config - set_auto_batch_epoch: Auto-set batch_size to 8\n",
      "INFO:nprophet.config:Auto-set batch_size to 8\n",
      "INFO: nprophet.config - set_auto_batch_epoch: Auto-set epochs to 49\n",
      "INFO:nprophet.config:Auto-set epochs to 49\n"
     ]
    },
    {
     "data": {
      "application/vnd.jupyter.widget-view+json": {
       "model_id": "52e7196732094e69baeaf7882ff16d3f",
       "version_major": 2,
       "version_minor": 0
      },
      "text/plain": [
       "HBox(children=(HTML(value=''), FloatProgress(value=0.0), HTML(value='')))"
      ]
     },
     "metadata": {},
     "output_type": "display_data"
    },
    {
     "name": "stderr",
     "output_type": "stream",
     "text": [
      "/Users/temp/.pyenv/versions/3.9.6/envs/jenny-3.9.6/lib/python3.9/site-packages/torch/nn/modules/container.py:552: UserWarning: Setting attributes on ParameterDict is not supported.\n",
      "  warnings.warn(\"Setting attributes on ParameterDict is not supported.\")\n",
      "INFO: nprophet - _lr_range_test: learning rate range test found optimal lr: 1.87E-01\n",
      "INFO:nprophet:learning rate range test found optimal lr: 1.87E-01\n",
      "Epoch[49/49]: 100%|████████████████████████████████████████████████████████████████████████████████████████████████████████████████████████████████████████████| 49/49 [00:04<00:00,  9.81it/s, SmoothL1Loss=0.00134, MAE=21, RegLoss=0]\n",
      "/Users/temp/.pyenv/versions/3.9.6/envs/jenny-3.9.6/lib/python3.9/site-packages/torch/nn/modules/container.py:552: UserWarning: Setting attributes on ParameterDict is not supported.\n",
      "  warnings.warn(\"Setting attributes on ParameterDict is not supported.\")\n",
      "INFO: nprophet.utils - set_auto_seasonalities: Disabling yearly seasonality. Run NeuralProphet with yearly_seasonality=True to override this.\n",
      "INFO:nprophet.utils:Disabling yearly seasonality. Run NeuralProphet with yearly_seasonality=True to override this.\n",
      "INFO: nprophet.utils - set_auto_seasonalities: Disabling daily seasonality. Run NeuralProphet with daily_seasonality=True to override this.\n",
      "INFO:nprophet.utils:Disabling daily seasonality. Run NeuralProphet with daily_seasonality=True to override this.\n",
      "INFO: nprophet.config - set_auto_batch_epoch: Auto-set batch_size to 8\n",
      "INFO:nprophet.config:Auto-set batch_size to 8\n",
      "INFO: nprophet.config - set_auto_batch_epoch: Auto-set epochs to 49\n",
      "INFO:nprophet.config:Auto-set epochs to 49\n"
     ]
    },
    {
     "data": {
      "application/vnd.jupyter.widget-view+json": {
       "model_id": "dfe0d512581b4d8fbe71f099045fdc5f",
       "version_major": 2,
       "version_minor": 0
      },
      "text/plain": [
       "HBox(children=(HTML(value=''), FloatProgress(value=0.0), HTML(value='')))"
      ]
     },
     "metadata": {},
     "output_type": "display_data"
    },
    {
     "name": "stderr",
     "output_type": "stream",
     "text": [
      "/Users/temp/.pyenv/versions/3.9.6/envs/jenny-3.9.6/lib/python3.9/site-packages/torch/nn/modules/container.py:552: UserWarning: Setting attributes on ParameterDict is not supported.\n",
      "  warnings.warn(\"Setting attributes on ParameterDict is not supported.\")\n",
      "INFO: nprophet - _lr_range_test: learning rate range test found optimal lr: 4.33E-01\n",
      "INFO:nprophet:learning rate range test found optimal lr: 4.33E-01\n",
      "Epoch[49/49]: 100%|██████████████████████████████████████████████████████████████████████████████████████████████████████████████████████████████████████████| 49/49 [00:04<00:00, 10.06it/s, SmoothL1Loss=0.00156, MAE=23.8, RegLoss=0]\n",
      "/Users/temp/.pyenv/versions/3.9.6/envs/jenny-3.9.6/lib/python3.9/site-packages/torch/nn/modules/container.py:552: UserWarning: Setting attributes on ParameterDict is not supported.\n",
      "  warnings.warn(\"Setting attributes on ParameterDict is not supported.\")\n",
      "INFO: nprophet.utils - set_auto_seasonalities: Disabling yearly seasonality. Run NeuralProphet with yearly_seasonality=True to override this.\n",
      "INFO:nprophet.utils:Disabling yearly seasonality. Run NeuralProphet with yearly_seasonality=True to override this.\n",
      "INFO: nprophet.utils - set_auto_seasonalities: Disabling daily seasonality. Run NeuralProphet with daily_seasonality=True to override this.\n",
      "INFO:nprophet.utils:Disabling daily seasonality. Run NeuralProphet with daily_seasonality=True to override this.\n",
      "INFO: nprophet.config - set_auto_batch_epoch: Auto-set batch_size to 8\n",
      "INFO:nprophet.config:Auto-set batch_size to 8\n",
      "INFO: nprophet.config - set_auto_batch_epoch: Auto-set epochs to 49\n",
      "INFO:nprophet.config:Auto-set epochs to 49\n"
     ]
    },
    {
     "data": {
      "application/vnd.jupyter.widget-view+json": {
       "model_id": "93d6a9cb3be343ebb6f55fd81fd3112c",
       "version_major": 2,
       "version_minor": 0
      },
      "text/plain": [
       "HBox(children=(HTML(value=''), FloatProgress(value=0.0), HTML(value='')))"
      ]
     },
     "metadata": {},
     "output_type": "display_data"
    },
    {
     "name": "stderr",
     "output_type": "stream",
     "text": [
      "/Users/temp/.pyenv/versions/3.9.6/envs/jenny-3.9.6/lib/python3.9/site-packages/torch/nn/modules/container.py:552: UserWarning: Setting attributes on ParameterDict is not supported.\n",
      "  warnings.warn(\"Setting attributes on ParameterDict is not supported.\")\n",
      "INFO: nprophet - _lr_range_test: learning rate range test found optimal lr: 6.58E-01\n",
      "INFO:nprophet:learning rate range test found optimal lr: 6.58E-01\n",
      "Epoch[49/49]: 100%|██████████████████████████████████████████████████████████████████████████████████████████████████████████████████████████████████████████| 49/49 [00:04<00:00,  9.97it/s, SmoothL1Loss=0.00136, MAE=21.1, RegLoss=0]\n",
      "/Users/temp/.pyenv/versions/3.9.6/envs/jenny-3.9.6/lib/python3.9/site-packages/torch/nn/modules/container.py:552: UserWarning: Setting attributes on ParameterDict is not supported.\n",
      "  warnings.warn(\"Setting attributes on ParameterDict is not supported.\")\n",
      "INFO: nprophet.utils - set_auto_seasonalities: Disabling yearly seasonality. Run NeuralProphet with yearly_seasonality=True to override this.\n",
      "INFO:nprophet.utils:Disabling yearly seasonality. Run NeuralProphet with yearly_seasonality=True to override this.\n",
      "INFO: nprophet.utils - set_auto_seasonalities: Disabling daily seasonality. Run NeuralProphet with daily_seasonality=True to override this.\n",
      "INFO:nprophet.utils:Disabling daily seasonality. Run NeuralProphet with daily_seasonality=True to override this.\n",
      "INFO: nprophet.config - set_auto_batch_epoch: Auto-set batch_size to 8\n",
      "INFO:nprophet.config:Auto-set batch_size to 8\n",
      "INFO: nprophet.config - set_auto_batch_epoch: Auto-set epochs to 48\n",
      "INFO:nprophet.config:Auto-set epochs to 48\n"
     ]
    },
    {
     "data": {
      "application/vnd.jupyter.widget-view+json": {
       "model_id": "cdbaa8014626424e9ace5f85b41384cd",
       "version_major": 2,
       "version_minor": 0
      },
      "text/plain": [
       "HBox(children=(HTML(value=''), FloatProgress(value=0.0), HTML(value='')))"
      ]
     },
     "metadata": {},
     "output_type": "display_data"
    },
    {
     "name": "stderr",
     "output_type": "stream",
     "text": [
      "/Users/temp/.pyenv/versions/3.9.6/envs/jenny-3.9.6/lib/python3.9/site-packages/torch/nn/modules/container.py:552: UserWarning: Setting attributes on ParameterDict is not supported.\n",
      "  warnings.warn(\"Setting attributes on ParameterDict is not supported.\")\n",
      "INFO: nprophet - _lr_range_test: learning rate range test found optimal lr: 1.52E-02\n",
      "INFO:nprophet:learning rate range test found optimal lr: 1.52E-02\n",
      "Epoch[48/48]: 100%|██████████████████████████████████████████████████████████████████████████████████████████████████████████████████████████████████████████| 48/48 [00:04<00:00,  9.87it/s, SmoothL1Loss=0.00143, MAE=22.7, RegLoss=0]\n",
      "/Users/temp/.pyenv/versions/3.9.6/envs/jenny-3.9.6/lib/python3.9/site-packages/torch/nn/modules/container.py:552: UserWarning: Setting attributes on ParameterDict is not supported.\n",
      "  warnings.warn(\"Setting attributes on ParameterDict is not supported.\")\n",
      "INFO: nprophet.utils - set_auto_seasonalities: Disabling yearly seasonality. Run NeuralProphet with yearly_seasonality=True to override this.\n",
      "INFO:nprophet.utils:Disabling yearly seasonality. Run NeuralProphet with yearly_seasonality=True to override this.\n",
      "INFO: nprophet.utils - set_auto_seasonalities: Disabling daily seasonality. Run NeuralProphet with daily_seasonality=True to override this.\n",
      "INFO:nprophet.utils:Disabling daily seasonality. Run NeuralProphet with daily_seasonality=True to override this.\n",
      "INFO: nprophet.config - set_auto_batch_epoch: Auto-set batch_size to 8\n",
      "INFO:nprophet.config:Auto-set batch_size to 8\n",
      "INFO: nprophet.config - set_auto_batch_epoch: Auto-set epochs to 48\n",
      "INFO:nprophet.config:Auto-set epochs to 48\n"
     ]
    },
    {
     "data": {
      "application/vnd.jupyter.widget-view+json": {
       "model_id": "696c506f199f42ab92a9d4b6490e5e87",
       "version_major": 2,
       "version_minor": 0
      },
      "text/plain": [
       "HBox(children=(HTML(value=''), FloatProgress(value=0.0), HTML(value='')))"
      ]
     },
     "metadata": {},
     "output_type": "display_data"
    },
    {
     "name": "stderr",
     "output_type": "stream",
     "text": [
      "/Users/temp/.pyenv/versions/3.9.6/envs/jenny-3.9.6/lib/python3.9/site-packages/torch/nn/modules/container.py:552: UserWarning: Setting attributes on ParameterDict is not supported.\n",
      "  warnings.warn(\"Setting attributes on ParameterDict is not supported.\")\n",
      "INFO: nprophet - _lr_range_test: learning rate range test found optimal lr: 6.58E-01\n",
      "INFO:nprophet:learning rate range test found optimal lr: 6.58E-01\n",
      "Epoch[48/48]: 100%|████████████████████████████████████████████████████████████████████████████████████████████████████████████████████████████████████████████| 48/48 [00:04<00:00,  9.89it/s, SmoothL1Loss=0.00155, MAE=24, RegLoss=0]\n",
      "/Users/temp/.pyenv/versions/3.9.6/envs/jenny-3.9.6/lib/python3.9/site-packages/torch/nn/modules/container.py:552: UserWarning: Setting attributes on ParameterDict is not supported.\n",
      "  warnings.warn(\"Setting attributes on ParameterDict is not supported.\")\n",
      "INFO: nprophet.utils - set_auto_seasonalities: Disabling yearly seasonality. Run NeuralProphet with yearly_seasonality=True to override this.\n",
      "INFO:nprophet.utils:Disabling yearly seasonality. Run NeuralProphet with yearly_seasonality=True to override this.\n",
      "INFO: nprophet.utils - set_auto_seasonalities: Disabling daily seasonality. Run NeuralProphet with daily_seasonality=True to override this.\n",
      "INFO:nprophet.utils:Disabling daily seasonality. Run NeuralProphet with daily_seasonality=True to override this.\n",
      "INFO: nprophet.config - set_auto_batch_epoch: Auto-set batch_size to 8\n",
      "INFO:nprophet.config:Auto-set batch_size to 8\n",
      "INFO: nprophet.config - set_auto_batch_epoch: Auto-set epochs to 48\n",
      "INFO:nprophet.config:Auto-set epochs to 48\n"
     ]
    },
    {
     "data": {
      "application/vnd.jupyter.widget-view+json": {
       "model_id": "ee518315fa8d461b90e68f5a51e923f2",
       "version_major": 2,
       "version_minor": 0
      },
      "text/plain": [
       "HBox(children=(HTML(value=''), FloatProgress(value=0.0), HTML(value='')))"
      ]
     },
     "metadata": {},
     "output_type": "display_data"
    },
    {
     "name": "stderr",
     "output_type": "stream",
     "text": [
      "/Users/temp/.pyenv/versions/3.9.6/envs/jenny-3.9.6/lib/python3.9/site-packages/torch/nn/modules/container.py:552: UserWarning: Setting attributes on ParameterDict is not supported.\n",
      "  warnings.warn(\"Setting attributes on ParameterDict is not supported.\")\n",
      "INFO: nprophet - _lr_range_test: learning rate range test found optimal lr: 2.31E-01\n",
      "INFO:nprophet:learning rate range test found optimal lr: 2.31E-01\n",
      "Epoch[48/48]: 100%|██████████████████████████████████████████████████████████████████████████████████████████████████████████████████████████████████████████| 48/48 [00:04<00:00,  9.83it/s, SmoothL1Loss=0.00154, MAE=23.9, RegLoss=0]\n",
      "/Users/temp/.pyenv/versions/3.9.6/envs/jenny-3.9.6/lib/python3.9/site-packages/torch/nn/modules/container.py:552: UserWarning: Setting attributes on ParameterDict is not supported.\n",
      "  warnings.warn(\"Setting attributes on ParameterDict is not supported.\")\n",
      "INFO: nprophet.utils - set_auto_seasonalities: Disabling yearly seasonality. Run NeuralProphet with yearly_seasonality=True to override this.\n",
      "INFO:nprophet.utils:Disabling yearly seasonality. Run NeuralProphet with yearly_seasonality=True to override this.\n",
      "INFO: nprophet.utils - set_auto_seasonalities: Disabling daily seasonality. Run NeuralProphet with daily_seasonality=True to override this.\n",
      "INFO:nprophet.utils:Disabling daily seasonality. Run NeuralProphet with daily_seasonality=True to override this.\n",
      "INFO: nprophet.config - set_auto_batch_epoch: Auto-set batch_size to 8\n",
      "INFO:nprophet.config:Auto-set batch_size to 8\n",
      "INFO: nprophet.config - set_auto_batch_epoch: Auto-set epochs to 48\n",
      "INFO:nprophet.config:Auto-set epochs to 48\n"
     ]
    },
    {
     "data": {
      "application/vnd.jupyter.widget-view+json": {
       "model_id": "cec4dbe0d7114e2c856a573d02a1b9c2",
       "version_major": 2,
       "version_minor": 0
      },
      "text/plain": [
       "HBox(children=(HTML(value=''), FloatProgress(value=0.0), HTML(value='')))"
      ]
     },
     "metadata": {},
     "output_type": "display_data"
    },
    {
     "name": "stderr",
     "output_type": "stream",
     "text": [
      "/Users/temp/.pyenv/versions/3.9.6/envs/jenny-3.9.6/lib/python3.9/site-packages/torch/nn/modules/container.py:552: UserWarning: Setting attributes on ParameterDict is not supported.\n",
      "  warnings.warn(\"Setting attributes on ParameterDict is not supported.\")\n",
      "INFO: nprophet - _lr_range_test: learning rate range test found optimal lr: 1.52E-02\n",
      "INFO:nprophet:learning rate range test found optimal lr: 1.52E-02\n",
      "Epoch[48/48]: 100%|██████████████████████████████████████████████████████████████████████████████████████████████████████████████████████████████████████████| 48/48 [00:04<00:00,  9.93it/s, SmoothL1Loss=0.00127, MAE=20.9, RegLoss=0]\n",
      "/Users/temp/.pyenv/versions/3.9.6/envs/jenny-3.9.6/lib/python3.9/site-packages/torch/nn/modules/container.py:552: UserWarning: Setting attributes on ParameterDict is not supported.\n",
      "  warnings.warn(\"Setting attributes on ParameterDict is not supported.\")\n",
      "INFO: nprophet.utils - set_auto_seasonalities: Disabling yearly seasonality. Run NeuralProphet with yearly_seasonality=True to override this.\n",
      "INFO:nprophet.utils:Disabling yearly seasonality. Run NeuralProphet with yearly_seasonality=True to override this.\n",
      "INFO: nprophet.utils - set_auto_seasonalities: Disabling daily seasonality. Run NeuralProphet with daily_seasonality=True to override this.\n",
      "INFO:nprophet.utils:Disabling daily seasonality. Run NeuralProphet with daily_seasonality=True to override this.\n",
      "INFO: nprophet.config - set_auto_batch_epoch: Auto-set batch_size to 8\n",
      "INFO:nprophet.config:Auto-set batch_size to 8\n",
      "INFO: nprophet.config - set_auto_batch_epoch: Auto-set epochs to 48\n",
      "INFO:nprophet.config:Auto-set epochs to 48\n"
     ]
    },
    {
     "data": {
      "application/vnd.jupyter.widget-view+json": {
       "model_id": "df19d90a1ae44fd8aee7d8ddaf6a8e1a",
       "version_major": 2,
       "version_minor": 0
      },
      "text/plain": [
       "HBox(children=(HTML(value=''), FloatProgress(value=0.0), HTML(value='')))"
      ]
     },
     "metadata": {},
     "output_type": "display_data"
    },
    {
     "name": "stderr",
     "output_type": "stream",
     "text": [
      "/Users/temp/.pyenv/versions/3.9.6/envs/jenny-3.9.6/lib/python3.9/site-packages/torch/nn/modules/container.py:552: UserWarning: Setting attributes on ParameterDict is not supported.\n",
      "  warnings.warn(\"Setting attributes on ParameterDict is not supported.\")\n",
      "INFO: nprophet - _lr_range_test: learning rate range test found optimal lr: 1.23E+00\n",
      "INFO:nprophet:learning rate range test found optimal lr: 1.23E+00\n",
      "Epoch[48/48]: 100%|██████████████████████████████████████████████████████████████████████████████████████████████████████████████████████████████████████████| 48/48 [00:04<00:00,  9.89it/s, SmoothL1Loss=0.00153, MAE=24.1, RegLoss=0]\n",
      "/Users/temp/.pyenv/versions/3.9.6/envs/jenny-3.9.6/lib/python3.9/site-packages/torch/nn/modules/container.py:552: UserWarning: Setting attributes on ParameterDict is not supported.\n",
      "  warnings.warn(\"Setting attributes on ParameterDict is not supported.\")\n",
      "INFO: nprophet.utils - set_auto_seasonalities: Disabling yearly seasonality. Run NeuralProphet with yearly_seasonality=True to override this.\n",
      "INFO:nprophet.utils:Disabling yearly seasonality. Run NeuralProphet with yearly_seasonality=True to override this.\n",
      "INFO: nprophet.utils - set_auto_seasonalities: Disabling daily seasonality. Run NeuralProphet with daily_seasonality=True to override this.\n",
      "INFO:nprophet.utils:Disabling daily seasonality. Run NeuralProphet with daily_seasonality=True to override this.\n",
      "INFO: nprophet.config - set_auto_batch_epoch: Auto-set batch_size to 8\n",
      "INFO:nprophet.config:Auto-set batch_size to 8\n",
      "INFO: nprophet.config - set_auto_batch_epoch: Auto-set epochs to 47\n",
      "INFO:nprophet.config:Auto-set epochs to 47\n"
     ]
    },
    {
     "data": {
      "application/vnd.jupyter.widget-view+json": {
       "model_id": "1e0ff2de0aba438eb05504285dc4f715",
       "version_major": 2,
       "version_minor": 0
      },
      "text/plain": [
       "HBox(children=(HTML(value=''), FloatProgress(value=0.0), HTML(value='')))"
      ]
     },
     "metadata": {},
     "output_type": "display_data"
    },
    {
     "name": "stderr",
     "output_type": "stream",
     "text": [
      "/Users/temp/.pyenv/versions/3.9.6/envs/jenny-3.9.6/lib/python3.9/site-packages/torch/nn/modules/container.py:552: UserWarning: Setting attributes on ParameterDict is not supported.\n",
      "  warnings.warn(\"Setting attributes on ParameterDict is not supported.\")\n",
      "INFO: nprophet - _lr_range_test: learning rate range test found optimal lr: 8.11E-01\n",
      "INFO:nprophet:learning rate range test found optimal lr: 8.11E-01\n",
      "Epoch[47/47]: 100%|███████████████████████████████████████████████████████████████████████████████████████████████████████████████████████████████████████████| 47/47 [00:04<00:00,  9.81it/s, SmoothL1Loss=0.0015, MAE=24.1, RegLoss=0]\n",
      "/Users/temp/.pyenv/versions/3.9.6/envs/jenny-3.9.6/lib/python3.9/site-packages/torch/nn/modules/container.py:552: UserWarning: Setting attributes on ParameterDict is not supported.\n",
      "  warnings.warn(\"Setting attributes on ParameterDict is not supported.\")\n",
      "INFO: nprophet.utils - set_auto_seasonalities: Disabling yearly seasonality. Run NeuralProphet with yearly_seasonality=True to override this.\n",
      "INFO:nprophet.utils:Disabling yearly seasonality. Run NeuralProphet with yearly_seasonality=True to override this.\n",
      "INFO: nprophet.utils - set_auto_seasonalities: Disabling daily seasonality. Run NeuralProphet with daily_seasonality=True to override this.\n",
      "INFO:nprophet.utils:Disabling daily seasonality. Run NeuralProphet with daily_seasonality=True to override this.\n",
      "INFO: nprophet.config - set_auto_batch_epoch: Auto-set batch_size to 8\n",
      "INFO:nprophet.config:Auto-set batch_size to 8\n",
      "INFO: nprophet.config - set_auto_batch_epoch: Auto-set epochs to 47\n",
      "INFO:nprophet.config:Auto-set epochs to 47\n"
     ]
    },
    {
     "data": {
      "application/vnd.jupyter.widget-view+json": {
       "model_id": "d8d7d58ffacd471da79f355e47fe2a8c",
       "version_major": 2,
       "version_minor": 0
      },
      "text/plain": [
       "HBox(children=(HTML(value=''), FloatProgress(value=0.0), HTML(value='')))"
      ]
     },
     "metadata": {},
     "output_type": "display_data"
    },
    {
     "name": "stderr",
     "output_type": "stream",
     "text": [
      "/Users/temp/.pyenv/versions/3.9.6/envs/jenny-3.9.6/lib/python3.9/site-packages/torch/nn/modules/container.py:552: UserWarning: Setting attributes on ParameterDict is not supported.\n",
      "  warnings.warn(\"Setting attributes on ParameterDict is not supported.\")\n",
      "INFO: nprophet - _lr_range_test: learning rate range test found optimal lr: 1.52E-01\n",
      "INFO:nprophet:learning rate range test found optimal lr: 1.52E-01\n",
      "Epoch[47/47]: 100%|██████████████████████████████████████████████████████████████████████████████████████████████████████████████████████████████████████████| 47/47 [00:04<00:00,  9.75it/s, SmoothL1Loss=0.00125, MAE=21.1, RegLoss=0]\n",
      "/Users/temp/.pyenv/versions/3.9.6/envs/jenny-3.9.6/lib/python3.9/site-packages/torch/nn/modules/container.py:552: UserWarning: Setting attributes on ParameterDict is not supported.\n",
      "  warnings.warn(\"Setting attributes on ParameterDict is not supported.\")\n",
      "INFO: nprophet.utils - set_auto_seasonalities: Disabling yearly seasonality. Run NeuralProphet with yearly_seasonality=True to override this.\n",
      "INFO:nprophet.utils:Disabling yearly seasonality. Run NeuralProphet with yearly_seasonality=True to override this.\n",
      "INFO: nprophet.utils - set_auto_seasonalities: Disabling daily seasonality. Run NeuralProphet with daily_seasonality=True to override this.\n",
      "INFO:nprophet.utils:Disabling daily seasonality. Run NeuralProphet with daily_seasonality=True to override this.\n",
      "INFO: nprophet.config - set_auto_batch_epoch: Auto-set batch_size to 8\n",
      "INFO:nprophet.config:Auto-set batch_size to 8\n",
      "INFO: nprophet.config - set_auto_batch_epoch: Auto-set epochs to 47\n",
      "INFO:nprophet.config:Auto-set epochs to 47\n"
     ]
    },
    {
     "data": {
      "application/vnd.jupyter.widget-view+json": {
       "model_id": "127ed705ec83479a8543697f2d69a693",
       "version_major": 2,
       "version_minor": 0
      },
      "text/plain": [
       "HBox(children=(HTML(value=''), FloatProgress(value=0.0), HTML(value='')))"
      ]
     },
     "metadata": {},
     "output_type": "display_data"
    },
    {
     "name": "stderr",
     "output_type": "stream",
     "text": [
      "/Users/temp/.pyenv/versions/3.9.6/envs/jenny-3.9.6/lib/python3.9/site-packages/torch/nn/modules/container.py:552: UserWarning: Setting attributes on ParameterDict is not supported.\n",
      "  warnings.warn(\"Setting attributes on ParameterDict is not supported.\")\n",
      "INFO: nprophet - _lr_range_test: learning rate range test found optimal lr: 4.33E-02\n",
      "INFO:nprophet:learning rate range test found optimal lr: 4.33E-02\n",
      "Epoch[47/47]: 100%|██████████████████████████████████████████████████████████████████████████████████████████████████████████████████████████████████████████| 47/47 [00:04<00:00,  9.86it/s, SmoothL1Loss=0.00146, MAE=24.1, RegLoss=0]\n",
      "/Users/temp/.pyenv/versions/3.9.6/envs/jenny-3.9.6/lib/python3.9/site-packages/torch/nn/modules/container.py:552: UserWarning: Setting attributes on ParameterDict is not supported.\n",
      "  warnings.warn(\"Setting attributes on ParameterDict is not supported.\")\n",
      "INFO: nprophet.utils - set_auto_seasonalities: Disabling yearly seasonality. Run NeuralProphet with yearly_seasonality=True to override this.\n",
      "INFO:nprophet.utils:Disabling yearly seasonality. Run NeuralProphet with yearly_seasonality=True to override this.\n",
      "INFO: nprophet.utils - set_auto_seasonalities: Disabling daily seasonality. Run NeuralProphet with daily_seasonality=True to override this.\n",
      "INFO:nprophet.utils:Disabling daily seasonality. Run NeuralProphet with daily_seasonality=True to override this.\n",
      "INFO: nprophet.config - set_auto_batch_epoch: Auto-set batch_size to 8\n",
      "INFO:nprophet.config:Auto-set batch_size to 8\n",
      "INFO: nprophet.config - set_auto_batch_epoch: Auto-set epochs to 47\n",
      "INFO:nprophet.config:Auto-set epochs to 47\n"
     ]
    },
    {
     "data": {
      "application/vnd.jupyter.widget-view+json": {
       "model_id": "d3b72469152e4466b81ce82524847538",
       "version_major": 2,
       "version_minor": 0
      },
      "text/plain": [
       "HBox(children=(HTML(value=''), FloatProgress(value=0.0), HTML(value='')))"
      ]
     },
     "metadata": {},
     "output_type": "display_data"
    },
    {
     "name": "stderr",
     "output_type": "stream",
     "text": [
      "/Users/temp/.pyenv/versions/3.9.6/envs/jenny-3.9.6/lib/python3.9/site-packages/torch/nn/modules/container.py:552: UserWarning: Setting attributes on ParameterDict is not supported.\n",
      "  warnings.warn(\"Setting attributes on ParameterDict is not supported.\")\n",
      "INFO: nprophet - _lr_range_test: learning rate range test found optimal lr: 1.52E-01\n",
      "INFO:nprophet:learning rate range test found optimal lr: 1.52E-01\n",
      "Epoch[47/47]: 100%|██████████████████████████████████████████████████████████████████████████████████████████████████████████████████████████████████████████| 47/47 [00:04<00:00,  9.80it/s, SmoothL1Loss=0.00125, MAE=21.2, RegLoss=0]\n",
      "/Users/temp/.pyenv/versions/3.9.6/envs/jenny-3.9.6/lib/python3.9/site-packages/torch/nn/modules/container.py:552: UserWarning: Setting attributes on ParameterDict is not supported.\n",
      "  warnings.warn(\"Setting attributes on ParameterDict is not supported.\")\n",
      "INFO: nprophet.utils - set_auto_seasonalities: Disabling yearly seasonality. Run NeuralProphet with yearly_seasonality=True to override this.\n",
      "INFO:nprophet.utils:Disabling yearly seasonality. Run NeuralProphet with yearly_seasonality=True to override this.\n",
      "INFO: nprophet.utils - set_auto_seasonalities: Disabling daily seasonality. Run NeuralProphet with daily_seasonality=True to override this.\n",
      "INFO:nprophet.utils:Disabling daily seasonality. Run NeuralProphet with daily_seasonality=True to override this.\n",
      "INFO: nprophet.config - set_auto_batch_epoch: Auto-set batch_size to 8\n",
      "INFO:nprophet.config:Auto-set batch_size to 8\n",
      "INFO: nprophet.config - set_auto_batch_epoch: Auto-set epochs to 46\n",
      "INFO:nprophet.config:Auto-set epochs to 46\n"
     ]
    },
    {
     "data": {
      "application/vnd.jupyter.widget-view+json": {
       "model_id": "a5ecc257b38b416fabb8af0d30d6f64b",
       "version_major": 2,
       "version_minor": 0
      },
      "text/plain": [
       "HBox(children=(HTML(value=''), FloatProgress(value=0.0), HTML(value='')))"
      ]
     },
     "metadata": {},
     "output_type": "display_data"
    },
    {
     "name": "stderr",
     "output_type": "stream",
     "text": [
      "/Users/temp/.pyenv/versions/3.9.6/envs/jenny-3.9.6/lib/python3.9/site-packages/torch/nn/modules/container.py:552: UserWarning: Setting attributes on ParameterDict is not supported.\n",
      "  warnings.warn(\"Setting attributes on ParameterDict is not supported.\")\n",
      "INFO: nprophet - _lr_range_test: learning rate range test found optimal lr: 1.52E-02\n",
      "INFO:nprophet:learning rate range test found optimal lr: 1.52E-02\n",
      "Epoch[46/46]: 100%|██████████████████████████████████████████████████████████████████████████████████████████████████████████████████████████████████████████| 46/46 [00:04<00:00,  9.59it/s, SmoothL1Loss=0.00126, MAE=21.5, RegLoss=0]\n",
      "/Users/temp/.pyenv/versions/3.9.6/envs/jenny-3.9.6/lib/python3.9/site-packages/torch/nn/modules/container.py:552: UserWarning: Setting attributes on ParameterDict is not supported.\n",
      "  warnings.warn(\"Setting attributes on ParameterDict is not supported.\")\n",
      "INFO: nprophet.utils - set_auto_seasonalities: Disabling yearly seasonality. Run NeuralProphet with yearly_seasonality=True to override this.\n",
      "INFO:nprophet.utils:Disabling yearly seasonality. Run NeuralProphet with yearly_seasonality=True to override this.\n",
      "INFO: nprophet.utils - set_auto_seasonalities: Disabling daily seasonality. Run NeuralProphet with daily_seasonality=True to override this.\n",
      "INFO:nprophet.utils:Disabling daily seasonality. Run NeuralProphet with daily_seasonality=True to override this.\n",
      "INFO: nprophet.config - set_auto_batch_epoch: Auto-set batch_size to 8\n",
      "INFO:nprophet.config:Auto-set batch_size to 8\n",
      "INFO: nprophet.config - set_auto_batch_epoch: Auto-set epochs to 46\n",
      "INFO:nprophet.config:Auto-set epochs to 46\n"
     ]
    },
    {
     "data": {
      "application/vnd.jupyter.widget-view+json": {
       "model_id": "a4a31be23b9f4e1688aa201504c5cbbd",
       "version_major": 2,
       "version_minor": 0
      },
      "text/plain": [
       "HBox(children=(HTML(value=''), FloatProgress(value=0.0), HTML(value='')))"
      ]
     },
     "metadata": {},
     "output_type": "display_data"
    },
    {
     "name": "stderr",
     "output_type": "stream",
     "text": [
      "/Users/temp/.pyenv/versions/3.9.6/envs/jenny-3.9.6/lib/python3.9/site-packages/torch/nn/modules/container.py:552: UserWarning: Setting attributes on ParameterDict is not supported.\n",
      "  warnings.warn(\"Setting attributes on ParameterDict is not supported.\")\n",
      "INFO: nprophet - _lr_range_test: learning rate range test found optimal lr: 6.58E-01\n",
      "INFO:nprophet:learning rate range test found optimal lr: 6.58E-01\n",
      "Epoch[46/46]: 100%|███████████████████████████████████████████████████████████████████████████████████████████████████████████████████████████████████████████| 46/46 [00:04<00:00,  9.63it/s, SmoothL1Loss=0.0015, MAE=24.6, RegLoss=0]\n",
      "/Users/temp/.pyenv/versions/3.9.6/envs/jenny-3.9.6/lib/python3.9/site-packages/torch/nn/modules/container.py:552: UserWarning: Setting attributes on ParameterDict is not supported.\n",
      "  warnings.warn(\"Setting attributes on ParameterDict is not supported.\")\n",
      "INFO: nprophet.utils - set_auto_seasonalities: Disabling yearly seasonality. Run NeuralProphet with yearly_seasonality=True to override this.\n",
      "INFO:nprophet.utils:Disabling yearly seasonality. Run NeuralProphet with yearly_seasonality=True to override this.\n",
      "INFO: nprophet.utils - set_auto_seasonalities: Disabling daily seasonality. Run NeuralProphet with daily_seasonality=True to override this.\n",
      "INFO:nprophet.utils:Disabling daily seasonality. Run NeuralProphet with daily_seasonality=True to override this.\n",
      "INFO: nprophet.config - set_auto_batch_epoch: Auto-set batch_size to 8\n",
      "INFO:nprophet.config:Auto-set batch_size to 8\n",
      "INFO: nprophet.config - set_auto_batch_epoch: Auto-set epochs to 46\n",
      "INFO:nprophet.config:Auto-set epochs to 46\n"
     ]
    },
    {
     "data": {
      "application/vnd.jupyter.widget-view+json": {
       "model_id": "ff03cf469ce5459cb87e0b1dd708a855",
       "version_major": 2,
       "version_minor": 0
      },
      "text/plain": [
       "HBox(children=(HTML(value=''), FloatProgress(value=0.0), HTML(value='')))"
      ]
     },
     "metadata": {},
     "output_type": "display_data"
    },
    {
     "name": "stderr",
     "output_type": "stream",
     "text": [
      "/Users/temp/.pyenv/versions/3.9.6/envs/jenny-3.9.6/lib/python3.9/site-packages/torch/nn/modules/container.py:552: UserWarning: Setting attributes on ParameterDict is not supported.\n",
      "  warnings.warn(\"Setting attributes on ParameterDict is not supported.\")\n",
      "INFO: nprophet - _lr_range_test: learning rate range test found optimal lr: 2.85E-01\n",
      "INFO:nprophet:learning rate range test found optimal lr: 2.85E-01\n",
      "Epoch[46/46]: 100%|██████████████████████████████████████████████████████████████████████████████████████████████████████████████████████████████████████████| 46/46 [00:04<00:00,  9.59it/s, SmoothL1Loss=0.00126, MAE=21.5, RegLoss=0]\n",
      "/Users/temp/.pyenv/versions/3.9.6/envs/jenny-3.9.6/lib/python3.9/site-packages/torch/nn/modules/container.py:552: UserWarning: Setting attributes on ParameterDict is not supported.\n",
      "  warnings.warn(\"Setting attributes on ParameterDict is not supported.\")\n",
      "INFO: nprophet.utils - set_auto_seasonalities: Disabling yearly seasonality. Run NeuralProphet with yearly_seasonality=True to override this.\n",
      "INFO:nprophet.utils:Disabling yearly seasonality. Run NeuralProphet with yearly_seasonality=True to override this.\n",
      "INFO: nprophet.utils - set_auto_seasonalities: Disabling daily seasonality. Run NeuralProphet with daily_seasonality=True to override this.\n",
      "INFO:nprophet.utils:Disabling daily seasonality. Run NeuralProphet with daily_seasonality=True to override this.\n",
      "INFO: nprophet.config - set_auto_batch_epoch: Auto-set batch_size to 8\n",
      "INFO:nprophet.config:Auto-set batch_size to 8\n",
      "INFO: nprophet.config - set_auto_batch_epoch: Auto-set epochs to 46\n",
      "INFO:nprophet.config:Auto-set epochs to 46\n"
     ]
    },
    {
     "data": {
      "application/vnd.jupyter.widget-view+json": {
       "model_id": "e3369fe54b974340ac6d643aeb02055e",
       "version_major": 2,
       "version_minor": 0
      },
      "text/plain": [
       "HBox(children=(HTML(value=''), FloatProgress(value=0.0), HTML(value='')))"
      ]
     },
     "metadata": {},
     "output_type": "display_data"
    },
    {
     "name": "stderr",
     "output_type": "stream",
     "text": [
      "/Users/temp/.pyenv/versions/3.9.6/envs/jenny-3.9.6/lib/python3.9/site-packages/torch/nn/modules/container.py:552: UserWarning: Setting attributes on ParameterDict is not supported.\n",
      "  warnings.warn(\"Setting attributes on ParameterDict is not supported.\")\n",
      "INFO: nprophet - _lr_range_test: learning rate range test found optimal lr: 8.11E-01\n",
      "INFO:nprophet:learning rate range test found optimal lr: 8.11E-01\n",
      "Epoch[46/46]: 100%|██████████████████████████████████████████████████████████████████████████████████████████████████████████████████████████████████████████| 46/46 [00:05<00:00,  8.32it/s, SmoothL1Loss=0.00126, MAE=21.8, RegLoss=0]\n",
      "/Users/temp/.pyenv/versions/3.9.6/envs/jenny-3.9.6/lib/python3.9/site-packages/torch/nn/modules/container.py:552: UserWarning: Setting attributes on ParameterDict is not supported.\n",
      "  warnings.warn(\"Setting attributes on ParameterDict is not supported.\")\n",
      "INFO: nprophet.utils - set_auto_seasonalities: Disabling yearly seasonality. Run NeuralProphet with yearly_seasonality=True to override this.\n",
      "INFO:nprophet.utils:Disabling yearly seasonality. Run NeuralProphet with yearly_seasonality=True to override this.\n",
      "INFO: nprophet.utils - set_auto_seasonalities: Disabling daily seasonality. Run NeuralProphet with daily_seasonality=True to override this.\n",
      "INFO:nprophet.utils:Disabling daily seasonality. Run NeuralProphet with daily_seasonality=True to override this.\n",
      "INFO: nprophet.config - set_auto_batch_epoch: Auto-set batch_size to 8\n",
      "INFO:nprophet.config:Auto-set batch_size to 8\n",
      "INFO: nprophet.config - set_auto_batch_epoch: Auto-set epochs to 46\n",
      "INFO:nprophet.config:Auto-set epochs to 46\n"
     ]
    },
    {
     "data": {
      "application/vnd.jupyter.widget-view+json": {
       "model_id": "b68603a39da041a59256ff01645ea5bb",
       "version_major": 2,
       "version_minor": 0
      },
      "text/plain": [
       "HBox(children=(HTML(value=''), FloatProgress(value=0.0), HTML(value='')))"
      ]
     },
     "metadata": {},
     "output_type": "display_data"
    },
    {
     "name": "stderr",
     "output_type": "stream",
     "text": [
      "/Users/temp/.pyenv/versions/3.9.6/envs/jenny-3.9.6/lib/python3.9/site-packages/torch/nn/modules/container.py:552: UserWarning: Setting attributes on ParameterDict is not supported.\n",
      "  warnings.warn(\"Setting attributes on ParameterDict is not supported.\")\n",
      "INFO: nprophet - _lr_range_test: learning rate range test found optimal lr: 3.51E-01\n",
      "INFO:nprophet:learning rate range test found optimal lr: 3.51E-01\n",
      "Epoch[46/46]: 100%|██████████████████████████████████████████████████████████████████████████████████████████████████████████████████████████████████████████| 46/46 [00:05<00:00,  8.19it/s, SmoothL1Loss=0.00145, MAE=24.6, RegLoss=0]\n",
      "/Users/temp/.pyenv/versions/3.9.6/envs/jenny-3.9.6/lib/python3.9/site-packages/torch/nn/modules/container.py:552: UserWarning: Setting attributes on ParameterDict is not supported.\n",
      "  warnings.warn(\"Setting attributes on ParameterDict is not supported.\")\n",
      "INFO: nprophet.utils - set_auto_seasonalities: Disabling yearly seasonality. Run NeuralProphet with yearly_seasonality=True to override this.\n",
      "INFO:nprophet.utils:Disabling yearly seasonality. Run NeuralProphet with yearly_seasonality=True to override this.\n",
      "INFO: nprophet.utils - set_auto_seasonalities: Disabling daily seasonality. Run NeuralProphet with daily_seasonality=True to override this.\n",
      "INFO:nprophet.utils:Disabling daily seasonality. Run NeuralProphet with daily_seasonality=True to override this.\n",
      "INFO: nprophet.config - set_auto_batch_epoch: Auto-set batch_size to 8\n",
      "INFO:nprophet.config:Auto-set batch_size to 8\n",
      "INFO: nprophet.config - set_auto_batch_epoch: Auto-set epochs to 46\n",
      "INFO:nprophet.config:Auto-set epochs to 46\n"
     ]
    },
    {
     "data": {
      "application/vnd.jupyter.widget-view+json": {
       "model_id": "1ec9d62ad38b40c1b45151bf9ea2eb14",
       "version_major": 2,
       "version_minor": 0
      },
      "text/plain": [
       "HBox(children=(HTML(value=''), FloatProgress(value=0.0), HTML(value='')))"
      ]
     },
     "metadata": {},
     "output_type": "display_data"
    },
    {
     "name": "stderr",
     "output_type": "stream",
     "text": [
      "/Users/temp/.pyenv/versions/3.9.6/envs/jenny-3.9.6/lib/python3.9/site-packages/torch/nn/modules/container.py:552: UserWarning: Setting attributes on ParameterDict is not supported.\n",
      "  warnings.warn(\"Setting attributes on ParameterDict is not supported.\")\n",
      "INFO: nprophet - _lr_range_test: learning rate range test found optimal lr: 8.11E-06\n",
      "INFO:nprophet:learning rate range test found optimal lr: 8.11E-06\n",
      "Epoch[46/46]: 100%|█████████████████████████████████████████████████████████████████████████████████████████████████████████████████████████████████████████████| 46/46 [00:06<00:00,  7.64it/s, SmoothL1Loss=0.427, MAE=467, RegLoss=0]\n",
      "/Users/temp/.pyenv/versions/3.9.6/envs/jenny-3.9.6/lib/python3.9/site-packages/torch/nn/modules/container.py:552: UserWarning: Setting attributes on ParameterDict is not supported.\n",
      "  warnings.warn(\"Setting attributes on ParameterDict is not supported.\")\n",
      "INFO: nprophet.utils - set_auto_seasonalities: Disabling yearly seasonality. Run NeuralProphet with yearly_seasonality=True to override this.\n",
      "INFO:nprophet.utils:Disabling yearly seasonality. Run NeuralProphet with yearly_seasonality=True to override this.\n",
      "INFO: nprophet.utils - set_auto_seasonalities: Disabling daily seasonality. Run NeuralProphet with daily_seasonality=True to override this.\n",
      "INFO:nprophet.utils:Disabling daily seasonality. Run NeuralProphet with daily_seasonality=True to override this.\n",
      "INFO: nprophet.config - set_auto_batch_epoch: Auto-set batch_size to 8\n",
      "INFO:nprophet.config:Auto-set batch_size to 8\n",
      "INFO: nprophet.config - set_auto_batch_epoch: Auto-set epochs to 45\n",
      "INFO:nprophet.config:Auto-set epochs to 45\n"
     ]
    },
    {
     "data": {
      "application/vnd.jupyter.widget-view+json": {
       "model_id": "ebdc4895103748028c744d168d2922db",
       "version_major": 2,
       "version_minor": 0
      },
      "text/plain": [
       "HBox(children=(HTML(value=''), FloatProgress(value=0.0), HTML(value='')))"
      ]
     },
     "metadata": {},
     "output_type": "display_data"
    },
    {
     "name": "stderr",
     "output_type": "stream",
     "text": [
      "/Users/temp/.pyenv/versions/3.9.6/envs/jenny-3.9.6/lib/python3.9/site-packages/torch/nn/modules/container.py:552: UserWarning: Setting attributes on ParameterDict is not supported.\n",
      "  warnings.warn(\"Setting attributes on ParameterDict is not supported.\")\n",
      "INFO: nprophet - _lr_range_test: learning rate range test found optimal lr: 2.31E-02\n",
      "INFO:nprophet:learning rate range test found optimal lr: 2.31E-02\n",
      "Epoch[45/45]: 100%|████████████████████████████████████████████████████████████████████████████████████████████████████████████████████████████████████████████| 45/45 [00:05<00:00,  8.08it/s, SmoothL1Loss=0.00124, MAE=22, RegLoss=0]\n",
      "/Users/temp/.pyenv/versions/3.9.6/envs/jenny-3.9.6/lib/python3.9/site-packages/torch/nn/modules/container.py:552: UserWarning: Setting attributes on ParameterDict is not supported.\n",
      "  warnings.warn(\"Setting attributes on ParameterDict is not supported.\")\n",
      "INFO: nprophet.utils - set_auto_seasonalities: Disabling yearly seasonality. Run NeuralProphet with yearly_seasonality=True to override this.\n",
      "INFO:nprophet.utils:Disabling yearly seasonality. Run NeuralProphet with yearly_seasonality=True to override this.\n",
      "INFO: nprophet.utils - set_auto_seasonalities: Disabling daily seasonality. Run NeuralProphet with daily_seasonality=True to override this.\n",
      "INFO:nprophet.utils:Disabling daily seasonality. Run NeuralProphet with daily_seasonality=True to override this.\n",
      "INFO: nprophet.config - set_auto_batch_epoch: Auto-set batch_size to 8\n",
      "INFO:nprophet.config:Auto-set batch_size to 8\n",
      "INFO: nprophet.config - set_auto_batch_epoch: Auto-set epochs to 45\n",
      "INFO:nprophet.config:Auto-set epochs to 45\n"
     ]
    },
    {
     "data": {
      "application/vnd.jupyter.widget-view+json": {
       "model_id": "c3b2366670c14ac1bfd9b359fed613d4",
       "version_major": 2,
       "version_minor": 0
      },
      "text/plain": [
       "HBox(children=(HTML(value=''), FloatProgress(value=0.0), HTML(value='')))"
      ]
     },
     "metadata": {},
     "output_type": "display_data"
    },
    {
     "name": "stderr",
     "output_type": "stream",
     "text": [
      "/Users/temp/.pyenv/versions/3.9.6/envs/jenny-3.9.6/lib/python3.9/site-packages/torch/nn/modules/container.py:552: UserWarning: Setting attributes on ParameterDict is not supported.\n",
      "  warnings.warn(\"Setting attributes on ParameterDict is not supported.\")\n",
      "INFO: nprophet - _lr_range_test: learning rate range test found optimal lr: 2.31E-01\n",
      "INFO:nprophet:learning rate range test found optimal lr: 2.31E-01\n",
      "Epoch[45/45]: 100%|██████████████████████████████████████████████████████████████████████████████████████████████████████████████████████████████████████████| 45/45 [00:05<00:00,  7.60it/s, SmoothL1Loss=0.00146, MAE=24.9, RegLoss=0]\n",
      "/Users/temp/.pyenv/versions/3.9.6/envs/jenny-3.9.6/lib/python3.9/site-packages/torch/nn/modules/container.py:552: UserWarning: Setting attributes on ParameterDict is not supported.\n",
      "  warnings.warn(\"Setting attributes on ParameterDict is not supported.\")\n",
      "INFO: nprophet.utils - set_auto_seasonalities: Disabling yearly seasonality. Run NeuralProphet with yearly_seasonality=True to override this.\n",
      "INFO:nprophet.utils:Disabling yearly seasonality. Run NeuralProphet with yearly_seasonality=True to override this.\n",
      "INFO: nprophet.utils - set_auto_seasonalities: Disabling daily seasonality. Run NeuralProphet with daily_seasonality=True to override this.\n",
      "INFO:nprophet.utils:Disabling daily seasonality. Run NeuralProphet with daily_seasonality=True to override this.\n",
      "INFO: nprophet.config - set_auto_batch_epoch: Auto-set batch_size to 8\n",
      "INFO:nprophet.config:Auto-set batch_size to 8\n",
      "INFO: nprophet.config - set_auto_batch_epoch: Auto-set epochs to 45\n",
      "INFO:nprophet.config:Auto-set epochs to 45\n"
     ]
    },
    {
     "data": {
      "application/vnd.jupyter.widget-view+json": {
       "model_id": "b6ed9f5e34f04f69bbf164dc7040b35a",
       "version_major": 2,
       "version_minor": 0
      },
      "text/plain": [
       "HBox(children=(HTML(value=''), FloatProgress(value=0.0), HTML(value='')))"
      ]
     },
     "metadata": {},
     "output_type": "display_data"
    },
    {
     "name": "stderr",
     "output_type": "stream",
     "text": [
      "/Users/temp/.pyenv/versions/3.9.6/envs/jenny-3.9.6/lib/python3.9/site-packages/torch/nn/modules/container.py:552: UserWarning: Setting attributes on ParameterDict is not supported.\n",
      "  warnings.warn(\"Setting attributes on ParameterDict is not supported.\")\n",
      "INFO: nprophet - _lr_range_test: learning rate range test found optimal lr: 3.51E-01\n",
      "INFO:nprophet:learning rate range test found optimal lr: 3.51E-01\n",
      "Epoch[45/45]: 100%|██████████████████████████████████████████████████████████████████████████████████████████████████████████████████████████████████████████| 45/45 [00:06<00:00,  6.90it/s, SmoothL1Loss=0.00145, MAE=24.9, RegLoss=0]\n",
      "/Users/temp/.pyenv/versions/3.9.6/envs/jenny-3.9.6/lib/python3.9/site-packages/torch/nn/modules/container.py:552: UserWarning: Setting attributes on ParameterDict is not supported.\n",
      "  warnings.warn(\"Setting attributes on ParameterDict is not supported.\")\n",
      "INFO: nprophet.utils - set_auto_seasonalities: Disabling yearly seasonality. Run NeuralProphet with yearly_seasonality=True to override this.\n",
      "INFO:nprophet.utils:Disabling yearly seasonality. Run NeuralProphet with yearly_seasonality=True to override this.\n",
      "INFO: nprophet.utils - set_auto_seasonalities: Disabling daily seasonality. Run NeuralProphet with daily_seasonality=True to override this.\n",
      "INFO:nprophet.utils:Disabling daily seasonality. Run NeuralProphet with daily_seasonality=True to override this.\n",
      "INFO: nprophet.config - set_auto_batch_epoch: Auto-set batch_size to 8\n",
      "INFO:nprophet.config:Auto-set batch_size to 8\n",
      "INFO: nprophet.config - set_auto_batch_epoch: Auto-set epochs to 45\n",
      "INFO:nprophet.config:Auto-set epochs to 45\n"
     ]
    },
    {
     "data": {
      "application/vnd.jupyter.widget-view+json": {
       "model_id": "2c57bf122a394be385770990ab24b68b",
       "version_major": 2,
       "version_minor": 0
      },
      "text/plain": [
       "HBox(children=(HTML(value=''), FloatProgress(value=0.0), HTML(value='')))"
      ]
     },
     "metadata": {},
     "output_type": "display_data"
    },
    {
     "name": "stderr",
     "output_type": "stream",
     "text": [
      "/Users/temp/.pyenv/versions/3.9.6/envs/jenny-3.9.6/lib/python3.9/site-packages/torch/nn/modules/container.py:552: UserWarning: Setting attributes on ParameterDict is not supported.\n",
      "  warnings.warn(\"Setting attributes on ParameterDict is not supported.\")\n",
      "INFO: nprophet - _lr_range_test: learning rate range test found optimal lr: 1.52E-01\n",
      "INFO:nprophet:learning rate range test found optimal lr: 1.52E-01\n",
      "Epoch[45/45]: 100%|██████████████████████████████████████████████████████████████████████████████████████████████████████████████████████████████████████████| 45/45 [00:06<00:00,  6.67it/s, SmoothL1Loss=0.00127, MAE=22.4, RegLoss=0]\n",
      "/Users/temp/.pyenv/versions/3.9.6/envs/jenny-3.9.6/lib/python3.9/site-packages/torch/nn/modules/container.py:552: UserWarning: Setting attributes on ParameterDict is not supported.\n",
      "  warnings.warn(\"Setting attributes on ParameterDict is not supported.\")\n",
      "INFO: nprophet.utils - set_auto_seasonalities: Disabling yearly seasonality. Run NeuralProphet with yearly_seasonality=True to override this.\n",
      "INFO:nprophet.utils:Disabling yearly seasonality. Run NeuralProphet with yearly_seasonality=True to override this.\n",
      "INFO: nprophet.utils - set_auto_seasonalities: Disabling daily seasonality. Run NeuralProphet with daily_seasonality=True to override this.\n",
      "INFO:nprophet.utils:Disabling daily seasonality. Run NeuralProphet with daily_seasonality=True to override this.\n",
      "INFO: nprophet.config - set_auto_batch_epoch: Auto-set batch_size to 8\n",
      "INFO:nprophet.config:Auto-set batch_size to 8\n",
      "INFO: nprophet.config - set_auto_batch_epoch: Auto-set epochs to 45\n",
      "INFO:nprophet.config:Auto-set epochs to 45\n"
     ]
    },
    {
     "data": {
      "application/vnd.jupyter.widget-view+json": {
       "model_id": "b652b8f2ec9a41fa8ae832df6e2ca01d",
       "version_major": 2,
       "version_minor": 0
      },
      "text/plain": [
       "HBox(children=(HTML(value=''), FloatProgress(value=0.0), HTML(value='')))"
      ]
     },
     "metadata": {},
     "output_type": "display_data"
    },
    {
     "name": "stderr",
     "output_type": "stream",
     "text": [
      "/Users/temp/.pyenv/versions/3.9.6/envs/jenny-3.9.6/lib/python3.9/site-packages/torch/nn/modules/container.py:552: UserWarning: Setting attributes on ParameterDict is not supported.\n",
      "  warnings.warn(\"Setting attributes on ParameterDict is not supported.\")\n",
      "INFO: nprophet - _lr_range_test: learning rate range test found optimal lr: 1.23E+00\n",
      "INFO:nprophet:learning rate range test found optimal lr: 1.23E+00\n",
      "Epoch[45/45]: 100%|██████████████████████████████████████████████████████████████████████████████████████████████████████████████████████████████████████████| 45/45 [00:06<00:00,  7.32it/s, SmoothL1Loss=0.00154, MAE=25.9, RegLoss=0]\n",
      "/Users/temp/.pyenv/versions/3.9.6/envs/jenny-3.9.6/lib/python3.9/site-packages/torch/nn/modules/container.py:552: UserWarning: Setting attributes on ParameterDict is not supported.\n",
      "  warnings.warn(\"Setting attributes on ParameterDict is not supported.\")\n",
      "INFO: nprophet.utils - set_auto_seasonalities: Disabling yearly seasonality. Run NeuralProphet with yearly_seasonality=True to override this.\n",
      "INFO:nprophet.utils:Disabling yearly seasonality. Run NeuralProphet with yearly_seasonality=True to override this.\n",
      "INFO: nprophet.utils - set_auto_seasonalities: Disabling daily seasonality. Run NeuralProphet with daily_seasonality=True to override this.\n",
      "INFO:nprophet.utils:Disabling daily seasonality. Run NeuralProphet with daily_seasonality=True to override this.\n",
      "INFO: nprophet.config - set_auto_batch_epoch: Auto-set batch_size to 8\n",
      "INFO:nprophet.config:Auto-set batch_size to 8\n",
      "INFO: nprophet.config - set_auto_batch_epoch: Auto-set epochs to 45\n",
      "INFO:nprophet.config:Auto-set epochs to 45\n"
     ]
    },
    {
     "data": {
      "application/vnd.jupyter.widget-view+json": {
       "model_id": "a560cbcb6c384ff199676c5c6c82b399",
       "version_major": 2,
       "version_minor": 0
      },
      "text/plain": [
       "HBox(children=(HTML(value=''), FloatProgress(value=0.0), HTML(value='')))"
      ]
     },
     "metadata": {},
     "output_type": "display_data"
    },
    {
     "name": "stderr",
     "output_type": "stream",
     "text": [
      "/Users/temp/.pyenv/versions/3.9.6/envs/jenny-3.9.6/lib/python3.9/site-packages/torch/nn/modules/container.py:552: UserWarning: Setting attributes on ParameterDict is not supported.\n",
      "  warnings.warn(\"Setting attributes on ParameterDict is not supported.\")\n",
      "INFO: nprophet - _lr_range_test: learning rate range test found optimal lr: 5.34E-01\n",
      "INFO:nprophet:learning rate range test found optimal lr: 5.34E-01\n",
      "Epoch[45/45]: 100%|██████████████████████████████████████████████████████████████████████████████████████████████████████████████████████████████████████████| 45/45 [00:05<00:00,  7.96it/s, SmoothL1Loss=0.00152, MAE=25.5, RegLoss=0]\n",
      "/Users/temp/.pyenv/versions/3.9.6/envs/jenny-3.9.6/lib/python3.9/site-packages/torch/nn/modules/container.py:552: UserWarning: Setting attributes on ParameterDict is not supported.\n",
      "  warnings.warn(\"Setting attributes on ParameterDict is not supported.\")\n",
      "INFO: nprophet.utils - set_auto_seasonalities: Disabling yearly seasonality. Run NeuralProphet with yearly_seasonality=True to override this.\n",
      "INFO:nprophet.utils:Disabling yearly seasonality. Run NeuralProphet with yearly_seasonality=True to override this.\n",
      "INFO: nprophet.utils - set_auto_seasonalities: Disabling daily seasonality. Run NeuralProphet with daily_seasonality=True to override this.\n",
      "INFO:nprophet.utils:Disabling daily seasonality. Run NeuralProphet with daily_seasonality=True to override this.\n",
      "INFO: nprophet.config - set_auto_batch_epoch: Auto-set batch_size to 8\n",
      "INFO:nprophet.config:Auto-set batch_size to 8\n",
      "INFO: nprophet.config - set_auto_batch_epoch: Auto-set epochs to 44\n",
      "INFO:nprophet.config:Auto-set epochs to 44\n"
     ]
    },
    {
     "data": {
      "application/vnd.jupyter.widget-view+json": {
       "model_id": "d4d29ec7229147e6ab0944820f66d942",
       "version_major": 2,
       "version_minor": 0
      },
      "text/plain": [
       "HBox(children=(HTML(value=''), FloatProgress(value=0.0), HTML(value='')))"
      ]
     },
     "metadata": {},
     "output_type": "display_data"
    },
    {
     "name": "stderr",
     "output_type": "stream",
     "text": [
      "/Users/temp/.pyenv/versions/3.9.6/envs/jenny-3.9.6/lib/python3.9/site-packages/torch/nn/modules/container.py:552: UserWarning: Setting attributes on ParameterDict is not supported.\n",
      "  warnings.warn(\"Setting attributes on ParameterDict is not supported.\")\n",
      "INFO: nprophet - _lr_range_test: learning rate range test found optimal lr: 4.33E-01\n",
      "INFO:nprophet:learning rate range test found optimal lr: 4.33E-01\n",
      "Epoch[44/44]: 100%|██████████████████████████████████████████████████████████████████████████████████████████████████████████████████████████████████████████| 44/44 [00:05<00:00,  8.36it/s, SmoothL1Loss=0.00127, MAE=22.8, RegLoss=0]\n",
      "/Users/temp/.pyenv/versions/3.9.6/envs/jenny-3.9.6/lib/python3.9/site-packages/torch/nn/modules/container.py:552: UserWarning: Setting attributes on ParameterDict is not supported.\n",
      "  warnings.warn(\"Setting attributes on ParameterDict is not supported.\")\n",
      "INFO: nprophet.utils - set_auto_seasonalities: Disabling yearly seasonality. Run NeuralProphet with yearly_seasonality=True to override this.\n",
      "INFO:nprophet.utils:Disabling yearly seasonality. Run NeuralProphet with yearly_seasonality=True to override this.\n",
      "INFO: nprophet.utils - set_auto_seasonalities: Disabling daily seasonality. Run NeuralProphet with daily_seasonality=True to override this.\n",
      "INFO:nprophet.utils:Disabling daily seasonality. Run NeuralProphet with daily_seasonality=True to override this.\n",
      "INFO: nprophet.config - set_auto_batch_epoch: Auto-set batch_size to 8\n",
      "INFO:nprophet.config:Auto-set batch_size to 8\n",
      "INFO: nprophet.config - set_auto_batch_epoch: Auto-set epochs to 44\n",
      "INFO:nprophet.config:Auto-set epochs to 44\n"
     ]
    },
    {
     "data": {
      "application/vnd.jupyter.widget-view+json": {
       "model_id": "453c4b0d75f84ab7a1d21fd109970cc7",
       "version_major": 2,
       "version_minor": 0
      },
      "text/plain": [
       "HBox(children=(HTML(value=''), FloatProgress(value=0.0), HTML(value='')))"
      ]
     },
     "metadata": {},
     "output_type": "display_data"
    },
    {
     "name": "stderr",
     "output_type": "stream",
     "text": [
      "/Users/temp/.pyenv/versions/3.9.6/envs/jenny-3.9.6/lib/python3.9/site-packages/torch/nn/modules/container.py:552: UserWarning: Setting attributes on ParameterDict is not supported.\n",
      "  warnings.warn(\"Setting attributes on ParameterDict is not supported.\")\n",
      "INFO: nprophet - _lr_range_test: learning rate range test found optimal lr: 1.52E-01\n",
      "INFO:nprophet:learning rate range test found optimal lr: 1.52E-01\n",
      "Epoch[44/44]: 100%|██████████████████████████████████████████████████████████████████████████████████████████████████████████████████████████████████████████| 44/44 [00:04<00:00,  8.88it/s, SmoothL1Loss=0.00148, MAE=25.7, RegLoss=0]\n",
      "/Users/temp/.pyenv/versions/3.9.6/envs/jenny-3.9.6/lib/python3.9/site-packages/torch/nn/modules/container.py:552: UserWarning: Setting attributes on ParameterDict is not supported.\n",
      "  warnings.warn(\"Setting attributes on ParameterDict is not supported.\")\n",
      "INFO: nprophet.utils - set_auto_seasonalities: Disabling yearly seasonality. Run NeuralProphet with yearly_seasonality=True to override this.\n",
      "INFO:nprophet.utils:Disabling yearly seasonality. Run NeuralProphet with yearly_seasonality=True to override this.\n",
      "INFO: nprophet.utils - set_auto_seasonalities: Disabling daily seasonality. Run NeuralProphet with daily_seasonality=True to override this.\n",
      "INFO:nprophet.utils:Disabling daily seasonality. Run NeuralProphet with daily_seasonality=True to override this.\n",
      "INFO: nprophet.config - set_auto_batch_epoch: Auto-set batch_size to 8\n",
      "INFO:nprophet.config:Auto-set batch_size to 8\n",
      "INFO: nprophet.config - set_auto_batch_epoch: Auto-set epochs to 44\n",
      "INFO:nprophet.config:Auto-set epochs to 44\n"
     ]
    },
    {
     "data": {
      "application/vnd.jupyter.widget-view+json": {
       "model_id": "6a760ac1a99a462ca35ee682bf997b01",
       "version_major": 2,
       "version_minor": 0
      },
      "text/plain": [
       "HBox(children=(HTML(value=''), FloatProgress(value=0.0), HTML(value='')))"
      ]
     },
     "metadata": {},
     "output_type": "display_data"
    },
    {
     "name": "stderr",
     "output_type": "stream",
     "text": [
      "/Users/temp/.pyenv/versions/3.9.6/envs/jenny-3.9.6/lib/python3.9/site-packages/torch/nn/modules/container.py:552: UserWarning: Setting attributes on ParameterDict is not supported.\n",
      "  warnings.warn(\"Setting attributes on ParameterDict is not supported.\")\n",
      "INFO: nprophet - _lr_range_test: learning rate range test found optimal lr: 1.87E-01\n",
      "INFO:nprophet:learning rate range test found optimal lr: 1.87E-01\n",
      "Epoch[44/44]: 100%|██████████████████████████████████████████████████████████████████████████████████████████████████████████████████████████████████████████| 44/44 [00:05<00:00,  8.38it/s, SmoothL1Loss=0.00148, MAE=25.8, RegLoss=0]\n",
      "/Users/temp/.pyenv/versions/3.9.6/envs/jenny-3.9.6/lib/python3.9/site-packages/torch/nn/modules/container.py:552: UserWarning: Setting attributes on ParameterDict is not supported.\n",
      "  warnings.warn(\"Setting attributes on ParameterDict is not supported.\")\n",
      "INFO: nprophet.utils - set_auto_seasonalities: Disabling yearly seasonality. Run NeuralProphet with yearly_seasonality=True to override this.\n",
      "INFO:nprophet.utils:Disabling yearly seasonality. Run NeuralProphet with yearly_seasonality=True to override this.\n",
      "INFO: nprophet.utils - set_auto_seasonalities: Disabling daily seasonality. Run NeuralProphet with daily_seasonality=True to override this.\n",
      "INFO:nprophet.utils:Disabling daily seasonality. Run NeuralProphet with daily_seasonality=True to override this.\n",
      "INFO: nprophet.config - set_auto_batch_epoch: Auto-set batch_size to 8\n",
      "INFO:nprophet.config:Auto-set batch_size to 8\n",
      "INFO: nprophet.config - set_auto_batch_epoch: Auto-set epochs to 44\n",
      "INFO:nprophet.config:Auto-set epochs to 44\n"
     ]
    },
    {
     "data": {
      "application/vnd.jupyter.widget-view+json": {
       "model_id": "0f5b9486bdf14241a4d7c64391c54a5a",
       "version_major": 2,
       "version_minor": 0
      },
      "text/plain": [
       "HBox(children=(HTML(value=''), FloatProgress(value=0.0), HTML(value='')))"
      ]
     },
     "metadata": {},
     "output_type": "display_data"
    },
    {
     "name": "stderr",
     "output_type": "stream",
     "text": [
      "/Users/temp/.pyenv/versions/3.9.6/envs/jenny-3.9.6/lib/python3.9/site-packages/torch/nn/modules/container.py:552: UserWarning: Setting attributes on ParameterDict is not supported.\n",
      "  warnings.warn(\"Setting attributes on ParameterDict is not supported.\")\n",
      "INFO: nprophet - _lr_range_test: learning rate range test found optimal lr: 2.85E-05\n",
      "INFO:nprophet:learning rate range test found optimal lr: 2.85E-05\n",
      "Epoch[44/44]: 100%|█████████████████████████████████████████████████████████████████████████████████████████████████████████████████████████████████████████████| 44/44 [00:05<00:00,  7.67it/s, SmoothL1Loss=0.202, MAE=340, RegLoss=0]\n",
      "/Users/temp/.pyenv/versions/3.9.6/envs/jenny-3.9.6/lib/python3.9/site-packages/torch/nn/modules/container.py:552: UserWarning: Setting attributes on ParameterDict is not supported.\n",
      "  warnings.warn(\"Setting attributes on ParameterDict is not supported.\")\n",
      "INFO: nprophet.utils - set_auto_seasonalities: Disabling yearly seasonality. Run NeuralProphet with yearly_seasonality=True to override this.\n",
      "INFO:nprophet.utils:Disabling yearly seasonality. Run NeuralProphet with yearly_seasonality=True to override this.\n",
      "INFO: nprophet.utils - set_auto_seasonalities: Disabling daily seasonality. Run NeuralProphet with daily_seasonality=True to override this.\n",
      "INFO:nprophet.utils:Disabling daily seasonality. Run NeuralProphet with daily_seasonality=True to override this.\n",
      "INFO: nprophet.config - set_auto_batch_epoch: Auto-set batch_size to 8\n",
      "INFO:nprophet.config:Auto-set batch_size to 8\n",
      "INFO: nprophet.config - set_auto_batch_epoch: Auto-set epochs to 44\n",
      "INFO:nprophet.config:Auto-set epochs to 44\n"
     ]
    },
    {
     "data": {
      "application/vnd.jupyter.widget-view+json": {
       "model_id": "45c4cc0326ec42998fe546549cd11e95",
       "version_major": 2,
       "version_minor": 0
      },
      "text/plain": [
       "HBox(children=(HTML(value=''), FloatProgress(value=0.0), HTML(value='')))"
      ]
     },
     "metadata": {},
     "output_type": "display_data"
    },
    {
     "name": "stderr",
     "output_type": "stream",
     "text": [
      "/Users/temp/.pyenv/versions/3.9.6/envs/jenny-3.9.6/lib/python3.9/site-packages/torch/nn/modules/container.py:552: UserWarning: Setting attributes on ParameterDict is not supported.\n",
      "  warnings.warn(\"Setting attributes on ParameterDict is not supported.\")\n",
      "INFO: nprophet - _lr_range_test: learning rate range test found optimal lr: 4.33E-01\n",
      "INFO:nprophet:learning rate range test found optimal lr: 4.33E-01\n",
      "Epoch[44/44]: 100%|██████████████████████████████████████████████████████████████████████████████████████████████████████████████████████████████████████████| 44/44 [00:05<00:00,  8.46it/s, SmoothL1Loss=0.00142, MAE=25.7, RegLoss=0]\n",
      "/Users/temp/.pyenv/versions/3.9.6/envs/jenny-3.9.6/lib/python3.9/site-packages/torch/nn/modules/container.py:552: UserWarning: Setting attributes on ParameterDict is not supported.\n",
      "  warnings.warn(\"Setting attributes on ParameterDict is not supported.\")\n",
      "INFO: nprophet.utils - set_auto_seasonalities: Disabling yearly seasonality. Run NeuralProphet with yearly_seasonality=True to override this.\n",
      "INFO:nprophet.utils:Disabling yearly seasonality. Run NeuralProphet with yearly_seasonality=True to override this.\n",
      "INFO: nprophet.utils - set_auto_seasonalities: Disabling daily seasonality. Run NeuralProphet with daily_seasonality=True to override this.\n",
      "INFO:nprophet.utils:Disabling daily seasonality. Run NeuralProphet with daily_seasonality=True to override this.\n",
      "INFO: nprophet.config - set_auto_batch_epoch: Auto-set batch_size to 8\n",
      "INFO:nprophet.config:Auto-set batch_size to 8\n",
      "INFO: nprophet.config - set_auto_batch_epoch: Auto-set epochs to 44\n",
      "INFO:nprophet.config:Auto-set epochs to 44\n"
     ]
    },
    {
     "data": {
      "application/vnd.jupyter.widget-view+json": {
       "model_id": "609cfd279a724ee09cf7ed96c0ed8b38",
       "version_major": 2,
       "version_minor": 0
      },
      "text/plain": [
       "HBox(children=(HTML(value=''), FloatProgress(value=0.0), HTML(value='')))"
      ]
     },
     "metadata": {},
     "output_type": "display_data"
    },
    {
     "name": "stderr",
     "output_type": "stream",
     "text": [
      "/Users/temp/.pyenv/versions/3.9.6/envs/jenny-3.9.6/lib/python3.9/site-packages/torch/nn/modules/container.py:552: UserWarning: Setting attributes on ParameterDict is not supported.\n",
      "  warnings.warn(\"Setting attributes on ParameterDict is not supported.\")\n",
      "INFO: nprophet - _lr_range_test: learning rate range test found optimal lr: 1.52E-02\n",
      "INFO:nprophet:learning rate range test found optimal lr: 1.52E-02\n",
      "Epoch[44/44]: 100%|██████████████████████████████████████████████████████████████████████████████████████████████████████████████████████████████████████████| 44/44 [00:04<00:00,  9.06it/s, SmoothL1Loss=0.00142, MAE=25.9, RegLoss=0]\n",
      "/Users/temp/.pyenv/versions/3.9.6/envs/jenny-3.9.6/lib/python3.9/site-packages/torch/nn/modules/container.py:552: UserWarning: Setting attributes on ParameterDict is not supported.\n",
      "  warnings.warn(\"Setting attributes on ParameterDict is not supported.\")\n",
      "INFO:prophet:Disabling yearly seasonality. Run prophet with yearly_seasonality=True to override this.\n",
      "INFO:prophet:Disabling daily seasonality. Run prophet with daily_seasonality=True to override this.\n"
     ]
    },
    {
     "name": "stdout",
     "output_type": "stream",
     "text": [
      "Initial log joint probability = -4.57824\n",
      "    Iter      log prob        ||dx||      ||grad||       alpha      alpha0  # evals  Notes \n",
      "      91       1435.72   0.000202212       96.8852   1.426e-06       0.001      170  LS failed, Hessian reset \n",
      "      99       1436.17    0.00341008       79.9544           1           1      181   \n",
      "    Iter      log prob        ||dx||      ||grad||       alpha      alpha0  # evals  Notes \n",
      "     162       1437.01   0.000185227       74.6119   1.045e-06       0.001      317  LS failed, Hessian reset \n",
      "     199       1437.16   6.15868e-05        71.582      0.5498      0.5498      364   \n",
      "    Iter      log prob        ||dx||      ||grad||       alpha      alpha0  # evals  Notes \n",
      "     299       1437.21   3.87293e-07       81.0839      0.1961      0.1961      492   \n",
      "    Iter      log prob        ||dx||      ||grad||       alpha      alpha0  # evals  Notes \n",
      "     310       1437.21   2.79802e-06        56.373   3.844e-08       0.001      544  LS failed, Hessian reset \n",
      "     320       1437.21   5.13516e-08       54.2402      0.2059      0.2059      558   \n",
      "Optimization terminated normally: \n",
      "  Convergence detected: relative gradient magnitude is below tolerance\n"
     ]
    },
    {
     "name": "stderr",
     "output_type": "stream",
     "text": [
      "INFO:prophet:Disabling yearly seasonality. Run prophet with yearly_seasonality=True to override this.\n",
      "INFO:prophet:Disabling daily seasonality. Run prophet with daily_seasonality=True to override this.\n"
     ]
    },
    {
     "name": "stdout",
     "output_type": "stream",
     "text": [
      "Initial log joint probability = -4.57824\n",
      "    Iter      log prob        ||dx||      ||grad||       alpha      alpha0  # evals  Notes \n",
      "      99       1399.82     0.0016862       86.0868      0.2597           1      129   \n",
      "    Iter      log prob        ||dx||      ||grad||       alpha      alpha0  # evals  Notes \n",
      "     118       1400.75   0.000301458       125.126   1.595e-06       0.001      191  LS failed, Hessian reset \n",
      "     199       1401.45   0.000192966       47.4943      0.4612      0.4612      286   \n",
      "    Iter      log prob        ||dx||      ||grad||       alpha      alpha0  # evals  Notes \n",
      "     279        1401.6   5.09422e-08       65.3484      0.3774      0.3774      396   \n",
      "Optimization terminated normally: \n",
      "  Convergence detected: relative gradient magnitude is below tolerance\n"
     ]
    },
    {
     "name": "stderr",
     "output_type": "stream",
     "text": [
      "INFO:prophet:Disabling yearly seasonality. Run prophet with yearly_seasonality=True to override this.\n",
      "INFO:prophet:Disabling daily seasonality. Run prophet with daily_seasonality=True to override this.\n"
     ]
    },
    {
     "name": "stdout",
     "output_type": "stream",
     "text": [
      "Initial log joint probability = -4.38826\n",
      "    Iter      log prob        ||dx||      ||grad||       alpha      alpha0  # evals  Notes \n",
      "      99       1438.73     0.0140044       114.064           1           1      123   \n",
      "    Iter      log prob        ||dx||      ||grad||       alpha      alpha0  # evals  Notes \n",
      "     102       1439.05   0.000233562       115.721   1.343e-06       0.001      166  LS failed, Hessian reset \n",
      "     129       1439.56    0.00012434       82.5112   1.676e-06       0.001      233  LS failed, Hessian reset \n",
      "     184       1440.02   0.000258717       146.955   2.032e-06       0.001      337  LS failed, Hessian reset \n",
      "     199        1440.2   0.000416575       93.2689           1           1      356   \n",
      "    Iter      log prob        ||dx||      ||grad||       alpha      alpha0  # evals  Notes \n",
      "     299       1440.37   0.000232072       66.6932           1           1      485   \n",
      "    Iter      log prob        ||dx||      ||grad||       alpha      alpha0  # evals  Notes \n",
      "     304       1440.37   1.18479e-05       62.8855   1.717e-07       0.001      545  LS failed, Hessian reset \n",
      "     398       1440.41   3.00489e-08       52.5438      0.1506      0.6273      674   \n",
      "Optimization terminated normally: \n",
      "  Convergence detected: relative gradient magnitude is below tolerance\n"
     ]
    },
    {
     "name": "stderr",
     "output_type": "stream",
     "text": [
      "INFO:prophet:Disabling yearly seasonality. Run prophet with yearly_seasonality=True to override this.\n",
      "INFO:prophet:Disabling daily seasonality. Run prophet with daily_seasonality=True to override this.\n"
     ]
    },
    {
     "name": "stdout",
     "output_type": "stream",
     "text": [
      "Initial log joint probability = -3.54291\n",
      "    Iter      log prob        ||dx||      ||grad||       alpha      alpha0  # evals  Notes \n",
      "      99       1452.26   0.000979954        131.76       4.727      0.4727      140   \n",
      "    Iter      log prob        ||dx||      ||grad||       alpha      alpha0  # evals  Notes \n",
      "     148        1453.1   0.000557059       206.745   4.667e-06       0.001      258  LS failed, Hessian reset \n",
      "     199       1453.67     0.0002273       62.6819      0.3783           1      320   \n",
      "    Iter      log prob        ||dx||      ||grad||       alpha      alpha0  # evals  Notes \n",
      "     290       1453.76   2.03088e-05       77.1988   2.852e-07       0.001      493  LS failed, Hessian reset \n",
      "     299       1453.77   0.000166914       59.5625      0.3306           1      504   \n",
      "    Iter      log prob        ||dx||      ||grad||       alpha      alpha0  # evals  Notes \n",
      "     329       1453.77   1.11234e-07       68.2159      0.2983      0.2983      550   \n",
      "Optimization terminated normally: \n",
      "  Convergence detected: relative gradient magnitude is below tolerance\n"
     ]
    },
    {
     "name": "stderr",
     "output_type": "stream",
     "text": [
      "INFO:prophet:Disabling yearly seasonality. Run prophet with yearly_seasonality=True to override this.\n",
      "INFO:prophet:Disabling daily seasonality. Run prophet with daily_seasonality=True to override this.\n"
     ]
    },
    {
     "name": "stdout",
     "output_type": "stream",
     "text": [
      "Initial log joint probability = -3.54291\n",
      "    Iter      log prob        ||dx||      ||grad||       alpha      alpha0  # evals  Notes \n",
      "      91       1414.51   0.000572243       170.188   5.481e-06       0.001      152  LS failed, Hessian reset \n",
      "      99       1414.69   0.000902728       84.1351      0.7809      0.7809      160   \n",
      "    Iter      log prob        ||dx||      ||grad||       alpha      alpha0  # evals  Notes \n",
      "     161        1415.6    0.00163173       328.329   7.661e-06       0.001      287  LS failed, Hessian reset \n",
      "     199       1415.96   2.74432e-05       71.5946           1           1      339   \n",
      "    Iter      log prob        ||dx||      ||grad||       alpha      alpha0  # evals  Notes \n",
      "     235       1416.11   0.000109967       75.6967   1.255e-06       0.001      437  LS failed, Hessian reset \n",
      "     286        1416.2   2.51839e-06       58.4747   3.761e-08       0.001      543  LS failed, Hessian reset \n",
      "     298        1416.2   6.91181e-08       57.3854      0.7981      0.7981      560   \n",
      "Optimization terminated normally: \n",
      "  Convergence detected: relative gradient magnitude is below tolerance\n"
     ]
    },
    {
     "name": "stderr",
     "output_type": "stream",
     "text": [
      "INFO:prophet:Disabling yearly seasonality. Run prophet with yearly_seasonality=True to override this.\n",
      "INFO:prophet:Disabling daily seasonality. Run prophet with daily_seasonality=True to override this.\n"
     ]
    },
    {
     "name": "stdout",
     "output_type": "stream",
     "text": [
      "Initial log joint probability = -3.65166\n",
      "    Iter      log prob        ||dx||      ||grad||       alpha      alpha0  # evals  Notes \n",
      "      99       1451.94    0.00170979       60.1105           1           1      124   \n",
      "    Iter      log prob        ||dx||      ||grad||       alpha      alpha0  # evals  Notes \n",
      "     119       1452.41   0.000180291       82.3966   1.269e-06       0.001      200  LS failed, Hessian reset \n",
      "     198       1452.99   6.44588e-05       79.5042   1.165e-06       0.001      369  LS failed, Hessian reset \n",
      "     199       1452.99   2.15858e-05       66.0974           1           1      370   \n",
      "    Iter      log prob        ||dx||      ||grad||       alpha      alpha0  # evals  Notes \n",
      "     238          1453   5.34929e-07       64.3588   9.212e-09       0.001      461  LS failed, Hessian reset \n",
      "     245          1453   3.60763e-08       48.2452      0.0382      0.7103      471   \n",
      "Optimization terminated normally: \n",
      "  Convergence detected: relative gradient magnitude is below tolerance\n"
     ]
    },
    {
     "name": "stderr",
     "output_type": "stream",
     "text": [
      "INFO:prophet:Disabling yearly seasonality. Run prophet with yearly_seasonality=True to override this.\n",
      "INFO:prophet:Disabling daily seasonality. Run prophet with daily_seasonality=True to override this.\n"
     ]
    },
    {
     "name": "stdout",
     "output_type": "stream",
     "text": [
      "Initial log joint probability = -3.69847\n",
      "    Iter      log prob        ||dx||      ||grad||       alpha      alpha0  # evals  Notes \n",
      "      99       1469.26   0.000164182       149.431      0.1529      0.1529      132   \n",
      "    Iter      log prob        ||dx||      ||grad||       alpha      alpha0  # evals  Notes \n",
      "     116       1469.88   0.000169823       85.3819   1.285e-06       0.001      217  LS failed, Hessian reset \n",
      "     189       1470.23   5.10924e-08       69.3987      0.1452           1      321   \n",
      "Optimization terminated normally: \n",
      "  Convergence detected: relative gradient magnitude is below tolerance\n"
     ]
    },
    {
     "name": "stderr",
     "output_type": "stream",
     "text": [
      "INFO:prophet:Disabling yearly seasonality. Run prophet with yearly_seasonality=True to override this.\n",
      "INFO:prophet:Disabling daily seasonality. Run prophet with daily_seasonality=True to override this.\n"
     ]
    },
    {
     "name": "stdout",
     "output_type": "stream",
     "text": [
      "Initial log joint probability = -3.69847\n",
      "    Iter      log prob        ||dx||      ||grad||       alpha      alpha0  # evals  Notes \n",
      "      99       1426.99   0.000799709       79.0075           1           1      131   \n",
      "    Iter      log prob        ||dx||      ||grad||       alpha      alpha0  # evals  Notes \n",
      "     120       1427.61   0.000215964       97.1491   2.176e-06       0.001      187  LS failed, Hessian reset \n",
      "     180       1428.21   0.000192269       81.2284   1.728e-06       0.001      328  LS failed, Hessian reset \n",
      "     199        1428.5   0.000861494       77.9556           1           1      351   \n",
      "    Iter      log prob        ||dx||      ||grad||       alpha      alpha0  # evals  Notes \n",
      "     217       1428.61   0.000241252       91.5241   3.571e-06       0.001      418  LS failed, Hessian reset \n",
      "     254       1428.63   4.48688e-08       57.6462      0.4342      0.4342      468   \n",
      "Optimization terminated normally: \n",
      "  Convergence detected: relative gradient magnitude is below tolerance\n"
     ]
    },
    {
     "name": "stderr",
     "output_type": "stream",
     "text": [
      "INFO:prophet:Disabling yearly seasonality. Run prophet with yearly_seasonality=True to override this.\n",
      "INFO:prophet:Disabling daily seasonality. Run prophet with daily_seasonality=True to override this.\n"
     ]
    },
    {
     "name": "stdout",
     "output_type": "stream",
     "text": [
      "Initial log joint probability = -3.49457\n",
      "    Iter      log prob        ||dx||      ||grad||       alpha      alpha0  # evals  Notes \n",
      "      78       1471.88   0.000230052       67.2632   1.052e-06       0.001      144  LS failed, Hessian reset \n",
      "      99       1472.91   0.000920741       152.058       2.769      0.2769      172   \n",
      "    Iter      log prob        ||dx||      ||grad||       alpha      alpha0  # evals  Notes \n",
      "     166       1473.29   1.17092e-07       53.1308           1           1      264   \n",
      "Optimization terminated normally: \n",
      "  Convergence detected: relative gradient magnitude is below tolerance\n"
     ]
    },
    {
     "name": "stderr",
     "output_type": "stream",
     "text": [
      "INFO:prophet:Disabling yearly seasonality. Run prophet with yearly_seasonality=True to override this.\n",
      "INFO:prophet:Disabling daily seasonality. Run prophet with daily_seasonality=True to override this.\n"
     ]
    },
    {
     "name": "stdout",
     "output_type": "stream",
     "text": [
      "Initial log joint probability = -4.54724\n",
      "    Iter      log prob        ||dx||      ||grad||       alpha      alpha0  # evals  Notes \n",
      "      99       1487.17    0.00096152       113.839      0.9673      0.9673      129   \n",
      "    Iter      log prob        ||dx||      ||grad||       alpha      alpha0  # evals  Notes \n",
      "     199       1487.94   0.000245417        85.911      0.1771      0.3347      261   \n",
      "    Iter      log prob        ||dx||      ||grad||       alpha      alpha0  # evals  Notes \n",
      "     299       1487.97    3.9308e-06       64.9419      0.2133           1      394   \n",
      "    Iter      log prob        ||dx||      ||grad||       alpha      alpha0  # evals  Notes \n",
      "     399        1488.3   1.20656e-05       68.3513      0.6707      0.6707      525   \n",
      "    Iter      log prob        ||dx||      ||grad||       alpha      alpha0  # evals  Notes \n",
      "     426       1488.31   1.81352e-05       74.1324   2.547e-07       0.001      605  LS failed, Hessian reset \n",
      "     499       1488.32   2.45494e-07       74.0191      0.1584           1      703   \n",
      "    Iter      log prob        ||dx||      ||grad||       alpha      alpha0  # evals  Notes \n",
      "     599       1488.36   8.96048e-05       70.1512      0.6019      0.6019      823   \n",
      "    Iter      log prob        ||dx||      ||grad||       alpha      alpha0  # evals  Notes \n",
      "     617       1488.62   0.000238175       123.895   2.522e-06       0.001      882  LS failed, Hessian reset \n",
      "     677       1488.87   7.77611e-05       59.9211   1.346e-06       0.001     1009  LS failed, Hessian reset \n",
      "     699       1488.88   2.02042e-06       44.6983      0.7422      0.7422     1042   \n",
      "    Iter      log prob        ||dx||      ||grad||       alpha      alpha0  # evals  Notes \n",
      "     710       1488.88   2.52266e-05       43.3236    4.69e-07       0.001     1091  LS failed, Hessian reset \n",
      "     799       1488.91   6.23878e-06       60.5672      0.4043      0.4043     1200   \n",
      "    Iter      log prob        ||dx||      ||grad||       alpha      alpha0  # evals  Notes \n",
      "     860       1488.91   8.62392e-09       68.3213     0.04533     0.04533     1286   \n",
      "Optimization terminated normally: \n",
      "  Convergence detected: absolute parameter change was below tolerance\n"
     ]
    },
    {
     "name": "stderr",
     "output_type": "stream",
     "text": [
      "INFO:prophet:Disabling yearly seasonality. Run prophet with yearly_seasonality=True to override this.\n",
      "INFO:prophet:Disabling daily seasonality. Run prophet with daily_seasonality=True to override this.\n"
     ]
    },
    {
     "name": "stdout",
     "output_type": "stream",
     "text": [
      "Initial log joint probability = -4.54724\n",
      "    Iter      log prob        ||dx||      ||grad||       alpha      alpha0  # evals  Notes \n",
      "      99       1444.83    0.00237449       77.6805           1           1      134   \n",
      "    Iter      log prob        ||dx||      ||grad||       alpha      alpha0  # evals  Notes \n",
      "     184       1446.01   0.000197834       90.1103   1.468e-06       0.001      287  LS failed, Hessian reset \n",
      "     199       1446.08   7.95505e-05       74.6593       0.248           1      312   \n",
      "    Iter      log prob        ||dx||      ||grad||       alpha      alpha0  # evals  Notes \n",
      "     299       1446.17   6.10476e-06       71.4004      0.5253      0.5253      440   \n",
      "    Iter      log prob        ||dx||      ||grad||       alpha      alpha0  # evals  Notes \n",
      "     372       1446.28   0.000197169       93.5792   2.416e-06       0.001      568  LS failed, Hessian reset \n",
      "     399       1446.29   2.67802e-06       71.0454           1           1      608   \n",
      "    Iter      log prob        ||dx||      ||grad||       alpha      alpha0  # evals  Notes \n",
      "     429        1446.3   6.83148e-05       92.6255   7.848e-07       0.001      681  LS failed, Hessian reset \n",
      "     499       1446.33   0.000696613       89.2083           1           1      763   \n",
      "    Iter      log prob        ||dx||      ||grad||       alpha      alpha0  # evals  Notes \n",
      "     539       1446.35   1.35837e-06       70.3873   1.788e-08       0.001      854  LS failed, Hessian reset \n",
      "     553       1446.35   7.75701e-08        60.481      0.6853      0.6853      872   \n",
      "Optimization terminated normally: \n",
      "  Convergence detected: relative gradient magnitude is below tolerance\n"
     ]
    },
    {
     "name": "stderr",
     "output_type": "stream",
     "text": [
      "INFO:prophet:Disabling yearly seasonality. Run prophet with yearly_seasonality=True to override this.\n",
      "INFO:prophet:Disabling daily seasonality. Run prophet with daily_seasonality=True to override this.\n"
     ]
    },
    {
     "name": "stdout",
     "output_type": "stream",
     "text": [
      "Initial log joint probability = -4.5169\n",
      "    Iter      log prob        ||dx||      ||grad||       alpha      alpha0  # evals  Notes \n",
      "      99       1487.72    0.00457074       117.014       0.577       0.577      128   \n",
      "    Iter      log prob        ||dx||      ||grad||       alpha      alpha0  # evals  Notes \n",
      "     167       1488.83   0.000245675       137.491    1.52e-06       0.001      255  LS failed, Hessian reset \n",
      "     199       1488.93   3.80212e-06       70.3393      0.3494           1      299   \n",
      "    Iter      log prob        ||dx||      ||grad||       alpha      alpha0  # evals  Notes \n",
      "     212       1488.93    0.00010696       77.1297   1.157e-06       0.001      347  LS failed, Hessian reset \n",
      "     299          1489   5.52571e-05       73.7415       0.881       0.881      473   \n",
      "    Iter      log prob        ||dx||      ||grad||       alpha      alpha0  # evals  Notes \n",
      "     331       1489.52   0.000398952       158.635   3.716e-06       0.001      570  LS failed, Hessian reset \n",
      "     382       1489.84   4.28727e-05       73.6665   5.487e-07       0.001      671  LS failed, Hessian reset \n",
      "     399       1489.84   8.02603e-07       58.4052           1           1      694   \n",
      "    Iter      log prob        ||dx||      ||grad||       alpha      alpha0  # evals  Notes \n",
      "     467       1489.88    1.9905e-06       80.3316   3.339e-08       0.001      829  LS failed, Hessian reset \n",
      "     478       1489.88   9.87833e-08       50.5595      0.4959      0.4959      841   \n",
      "Optimization terminated normally: \n",
      "  Convergence detected: relative gradient magnitude is below tolerance\n"
     ]
    },
    {
     "name": "stderr",
     "output_type": "stream",
     "text": [
      "INFO:prophet:Disabling yearly seasonality. Run prophet with yearly_seasonality=True to override this.\n",
      "INFO:prophet:Disabling daily seasonality. Run prophet with daily_seasonality=True to override this.\n"
     ]
    },
    {
     "name": "stdout",
     "output_type": "stream",
     "text": [
      "Initial log joint probability = -3.29657\n",
      "    Iter      log prob        ||dx||      ||grad||       alpha      alpha0  # evals  Notes \n",
      "      99       1546.51   0.000970777       111.676      0.8435      0.8435      132   \n",
      "    Iter      log prob        ||dx||      ||grad||       alpha      alpha0  # evals  Notes \n",
      "     143       1547.49   0.000184667       108.563   1.497e-06       0.001      230  LS failed, Hessian reset \n",
      "     199       1548.18    3.5335e-05       76.7739      0.1527      0.1527      302   \n",
      "    Iter      log prob        ||dx||      ||grad||       alpha      alpha0  # evals  Notes \n",
      "     214        1548.2   7.60388e-05       89.9189   1.551e-06       0.001      358  LS failed, Hessian reset \n",
      "     249        1548.2   4.62179e-08       69.0401      0.3855           1      414   \n",
      "Optimization terminated normally: \n",
      "  Convergence detected: relative gradient magnitude is below tolerance\n"
     ]
    },
    {
     "name": "stderr",
     "output_type": "stream",
     "text": [
      "INFO:prophet:Disabling yearly seasonality. Run prophet with yearly_seasonality=True to override this.\n",
      "INFO:prophet:Disabling daily seasonality. Run prophet with daily_seasonality=True to override this.\n"
     ]
    },
    {
     "name": "stdout",
     "output_type": "stream",
     "text": [
      "Initial log joint probability = -3.29657\n",
      "    Iter      log prob        ||dx||      ||grad||       alpha      alpha0  # evals  Notes \n",
      "      99       1502.07   0.000797522       75.6739      0.9932      0.9932      129   \n",
      "    Iter      log prob        ||dx||      ||grad||       alpha      alpha0  # evals  Notes \n",
      "     180        1503.4   8.94562e-05        62.143   1.218e-06       0.001      273  LS failed, Hessian reset \n",
      "     199       1503.41   5.15432e-06       85.1126     0.05659      0.8992      296   \n",
      "    Iter      log prob        ||dx||      ||grad||       alpha      alpha0  # evals  Notes \n",
      "     221       1503.41   9.25642e-07       69.4536   1.123e-08       0.001      363  LS failed, Hessian reset \n",
      "     229       1503.41   6.62145e-08       56.5186      0.2692      0.2692      373   \n",
      "Optimization terminated normally: \n",
      "  Convergence detected: relative gradient magnitude is below tolerance\n"
     ]
    },
    {
     "name": "stderr",
     "output_type": "stream",
     "text": [
      "INFO:prophet:Disabling yearly seasonality. Run prophet with yearly_seasonality=True to override this.\n",
      "INFO:prophet:Disabling daily seasonality. Run prophet with daily_seasonality=True to override this.\n"
     ]
    },
    {
     "name": "stdout",
     "output_type": "stream",
     "text": [
      "Initial log joint probability = -3.30955\n",
      "    Iter      log prob        ||dx||      ||grad||       alpha      alpha0  # evals  Notes \n",
      "      99       1548.76   0.000323402       76.4146      0.9285      0.9285      137   \n",
      "    Iter      log prob        ||dx||      ||grad||       alpha      alpha0  # evals  Notes \n",
      "     129       1549.38   0.000179113       115.092   1.536e-06       0.001      234  LS failed, Hessian reset \n",
      "     174       1549.89   0.000216413       123.327   2.212e-06       0.001      347  LS failed, Hessian reset \n",
      "     199       1549.92   1.52082e-06       65.1305      0.7751      0.7751      381   \n",
      "    Iter      log prob        ||dx||      ||grad||       alpha      alpha0  # evals  Notes \n",
      "     299        1550.4   0.000505431       120.923           1           1      509   \n",
      "    Iter      log prob        ||dx||      ||grad||       alpha      alpha0  # evals  Notes \n",
      "     399       1550.74    2.9565e-07       77.4172     0.03188   0.0003188      649   \n",
      "    Iter      log prob        ||dx||      ||grad||       alpha      alpha0  # evals  Notes \n",
      "     457       1550.78   1.21229e-06       52.8528    1.93e-08       0.001      765  LS failed, Hessian reset \n",
      "     463       1550.78   7.71473e-08       42.9081      0.2115      0.8375      776   \n",
      "Optimization terminated normally: \n",
      "  Convergence detected: relative gradient magnitude is below tolerance\n"
     ]
    },
    {
     "name": "stderr",
     "output_type": "stream",
     "text": [
      "INFO:prophet:Disabling yearly seasonality. Run prophet with yearly_seasonality=True to override this.\n",
      "INFO:prophet:Disabling daily seasonality. Run prophet with daily_seasonality=True to override this.\n"
     ]
    },
    {
     "name": "stdout",
     "output_type": "stream",
     "text": [
      "Initial log joint probability = -3.32185\n",
      "    Iter      log prob        ||dx||      ||grad||       alpha      alpha0  # evals  Notes \n",
      "      99       1555.39   0.000248315       129.994      0.7028      0.7028      132   \n",
      "    Iter      log prob        ||dx||      ||grad||       alpha      alpha0  # evals  Notes \n",
      "     161       1556.43   0.000123452       68.8296   1.105e-06       0.001      268  LS failed, Hessian reset \n",
      "     199        1556.7   6.07802e-05       64.4526           1           1      316   \n",
      "    Iter      log prob        ||dx||      ||grad||       alpha      alpha0  # evals  Notes \n",
      "     299       1557.22    0.00389698       84.8791           1           1      437   \n",
      "    Iter      log prob        ||dx||      ||grad||       alpha      alpha0  # evals  Notes \n",
      "     312        1557.3   0.000651395       96.0158    1.39e-05       0.001      499  LS failed, Hessian reset \n",
      "     360       1557.58   0.000162577       99.6449   2.289e-06       0.001      598  LS failed, Hessian reset \n",
      "     399        1557.6   4.49655e-06       74.4282      0.3294           1      646   \n",
      "    Iter      log prob        ||dx||      ||grad||       alpha      alpha0  # evals  Notes \n",
      "     454       1557.63   6.89464e-08       56.6638      0.8518      0.8518      716   \n",
      "Optimization terminated normally: \n",
      "  Convergence detected: relative gradient magnitude is below tolerance\n"
     ]
    },
    {
     "name": "stderr",
     "output_type": "stream",
     "text": [
      "INFO:prophet:Disabling yearly seasonality. Run prophet with yearly_seasonality=True to override this.\n",
      "INFO:prophet:Disabling daily seasonality. Run prophet with daily_seasonality=True to override this.\n"
     ]
    },
    {
     "name": "stdout",
     "output_type": "stream",
     "text": [
      "Initial log joint probability = -3.32185\n",
      "    Iter      log prob        ||dx||      ||grad||       alpha      alpha0  # evals  Notes \n",
      "      99       1510.24    0.00187605         183.7      0.6559      0.6559      128   \n",
      "    Iter      log prob        ||dx||      ||grad||       alpha      alpha0  # evals  Notes \n",
      "     199       1510.64   1.12667e-05       60.9897           1           1      272   \n",
      "    Iter      log prob        ||dx||      ||grad||       alpha      alpha0  # evals  Notes \n",
      "     265       1511.13   0.000311881       152.518   3.472e-06       0.001      397  LS failed, Hessian reset \n",
      "     299       1511.35   7.24322e-06       58.3281        0.36        0.36      439   \n",
      "    Iter      log prob        ||dx||      ||grad||       alpha      alpha0  # evals  Notes \n",
      "     322       1511.36   0.000121951       66.5014   1.468e-06       0.001      502  LS failed, Hessian reset \n",
      "     342       1511.36   9.21838e-08       52.6255      0.5109      0.5109      529   \n",
      "Optimization terminated normally: \n",
      "  Convergence detected: relative gradient magnitude is below tolerance\n"
     ]
    },
    {
     "name": "stderr",
     "output_type": "stream",
     "text": [
      "INFO:prophet:Disabling yearly seasonality. Run prophet with yearly_seasonality=True to override this.\n",
      "INFO:prophet:Disabling daily seasonality. Run prophet with daily_seasonality=True to override this.\n"
     ]
    },
    {
     "name": "stdout",
     "output_type": "stream",
     "text": [
      "Initial log joint probability = -3.68884\n",
      "    Iter      log prob        ||dx||      ||grad||       alpha      alpha0  # evals  Notes \n",
      "      47       1510.75   0.000537022       178.987   5.536e-06       0.001       97  LS failed, Hessian reset \n",
      "      94       1513.15    0.00092657       171.533   1.542e-05       0.001      193  LS failed, Hessian reset \n",
      "      99       1513.22    0.00100894       122.609       0.403           1      199   \n",
      "    Iter      log prob        ||dx||      ||grad||       alpha      alpha0  # evals  Notes \n",
      "     185       1513.69    0.00041307       158.008   5.823e-06       0.001      343  LS failed, Hessian reset \n",
      "     199       1513.83   0.000803058       69.3573           1           1      363   \n",
      "    Iter      log prob        ||dx||      ||grad||       alpha      alpha0  # evals  Notes \n",
      "     278       1513.88   1.09623e-07       51.8156       1.458      0.1458      482   \n",
      "Optimization terminated normally: \n",
      "  Convergence detected: relative gradient magnitude is below tolerance\n"
     ]
    },
    {
     "name": "stderr",
     "output_type": "stream",
     "text": [
      "INFO:prophet:Disabling yearly seasonality. Run prophet with yearly_seasonality=True to override this.\n",
      "INFO:prophet:Disabling daily seasonality. Run prophet with daily_seasonality=True to override this.\n"
     ]
    },
    {
     "name": "stdout",
     "output_type": "stream",
     "text": [
      "Initial log joint probability = -6.84884\n",
      "    Iter      log prob        ||dx||      ||grad||       alpha      alpha0  # evals  Notes \n",
      "      99       1569.93   0.000977318       70.3131           1           1      130   \n",
      "    Iter      log prob        ||dx||      ||grad||       alpha      alpha0  # evals  Notes \n",
      "     199       1571.02    0.00273315       67.4756           1           1      265   \n",
      "    Iter      log prob        ||dx||      ||grad||       alpha      alpha0  # evals  Notes \n",
      "     299       1571.33   0.000301156       95.4476      0.1317           1      388   \n",
      "    Iter      log prob        ||dx||      ||grad||       alpha      alpha0  # evals  Notes \n",
      "     300       1571.33   9.83649e-05       101.265   1.031e-06       0.001      423  LS failed, Hessian reset \n",
      "     334       1571.35   1.49615e-08       50.0737      0.1106      0.3253      473   \n",
      "Optimization terminated normally: \n",
      "  Convergence detected: relative gradient magnitude is below tolerance\n"
     ]
    },
    {
     "name": "stderr",
     "output_type": "stream",
     "text": [
      "INFO:prophet:Disabling yearly seasonality. Run prophet with yearly_seasonality=True to override this.\n",
      "INFO:prophet:Disabling daily seasonality. Run prophet with daily_seasonality=True to override this.\n"
     ]
    },
    {
     "name": "stdout",
     "output_type": "stream",
     "text": [
      "Initial log joint probability = -6.84884\n",
      "    Iter      log prob        ||dx||      ||grad||       alpha      alpha0  # evals  Notes \n",
      "      99       1524.59    0.00103886       63.5249       2.834      0.6125      130   \n",
      "    Iter      log prob        ||dx||      ||grad||       alpha      alpha0  # evals  Notes \n",
      "     112       1524.82   0.000281131        136.55   3.352e-06       0.001      179  LS failed, Hessian reset \n",
      "     199       1525.02   2.74296e-05       65.2138       0.579       0.579      288   \n",
      "    Iter      log prob        ||dx||      ||grad||       alpha      alpha0  # evals  Notes \n",
      "     208       1525.25   0.000705157       270.805   3.558e-06       0.001      331  LS failed, Hessian reset \n",
      "     257       1525.42   7.38213e-05       73.1396   9.379e-07       0.001      442  LS failed, Hessian reset \n",
      "     291       1525.42   1.85332e-07       59.4429      0.5424      0.5424      488   \n",
      "Optimization terminated normally: \n",
      "  Convergence detected: relative gradient magnitude is below tolerance\n"
     ]
    },
    {
     "name": "stderr",
     "output_type": "stream",
     "text": [
      "INFO:prophet:Disabling yearly seasonality. Run prophet with yearly_seasonality=True to override this.\n",
      "INFO:prophet:Disabling daily seasonality. Run prophet with daily_seasonality=True to override this.\n"
     ]
    },
    {
     "name": "stdout",
     "output_type": "stream",
     "text": [
      "Initial log joint probability = -6.82303\n",
      "    Iter      log prob        ||dx||      ||grad||       alpha      alpha0  # evals  Notes \n",
      "      99       1572.16    0.00209276       66.2147      0.2407      0.4344      143   \n",
      "    Iter      log prob        ||dx||      ||grad||       alpha      alpha0  # evals  Notes \n",
      "     100       1572.17   0.000405998        170.07   6.132e-06       0.001      191  LS failed, Hessian reset \n",
      "     126       1572.73   0.000816269       251.081   1.018e-05       0.001      249  LS failed, Hessian reset \n",
      "     195       1573.23   0.000207843       106.649    1.09e-06       0.001      370  LS failed, Hessian reset \n",
      "     199       1573.35   0.000667682       69.4673           1           1      374   \n",
      "    Iter      log prob        ||dx||      ||grad||       alpha      alpha0  # evals  Notes \n",
      "     291       1573.78   0.000218356       84.8198   3.425e-06       0.001      559  LS failed, Hessian reset \n",
      "     299       1573.89   0.000427303        80.004        0.92        0.92      567   \n",
      "    Iter      log prob        ||dx||      ||grad||       alpha      alpha0  # evals  Notes \n",
      "     360       1573.95   2.36123e-07       63.6414      0.9892      0.9892      666   \n",
      "Optimization terminated normally: \n",
      "  Convergence detected: relative gradient magnitude is below tolerance\n"
     ]
    },
    {
     "name": "stderr",
     "output_type": "stream",
     "text": [
      "INFO:prophet:Disabling yearly seasonality. Run prophet with yearly_seasonality=True to override this.\n",
      "INFO:prophet:Disabling daily seasonality. Run prophet with daily_seasonality=True to override this.\n"
     ]
    },
    {
     "name": "stdout",
     "output_type": "stream",
     "text": [
      "Initial log joint probability = -3.88931\n",
      "    Iter      log prob        ||dx||      ||grad||       alpha      alpha0  # evals  Notes \n",
      "      99       1585.46     0.0049591       147.181           1           1      135   \n",
      "    Iter      log prob        ||dx||      ||grad||       alpha      alpha0  # evals  Notes \n",
      "     140       1587.05   0.000235037       87.1511   9.424e-07       0.001      217  LS failed, Hessian reset \n",
      "     196       1587.81   0.000155664       89.5845   1.174e-06       0.001      328  LS failed, Hessian reset \n",
      "     199       1587.84   0.000179048       79.9438       0.798       0.798      331   \n",
      "    Iter      log prob        ||dx||      ||grad||       alpha      alpha0  # evals  Notes \n",
      "     299       1588.33     0.0010889       72.6803           1           1      460   \n",
      "    Iter      log prob        ||dx||      ||grad||       alpha      alpha0  # evals  Notes \n",
      "     315       1588.49   0.000512552       79.0756   6.219e-06       0.001      522  LS failed, Hessian reset \n",
      "     366        1588.6   1.65392e-05       69.1566   2.698e-07       0.001      622  LS failed, Hessian reset \n",
      "     387       1588.61   8.85855e-08       61.8718      0.3653           1      649   \n",
      "Optimization terminated normally: \n",
      "  Convergence detected: relative gradient magnitude is below tolerance\n"
     ]
    },
    {
     "name": "stderr",
     "output_type": "stream",
     "text": [
      "INFO:prophet:Disabling yearly seasonality. Run prophet with yearly_seasonality=True to override this.\n",
      "INFO:prophet:Disabling daily seasonality. Run prophet with daily_seasonality=True to override this.\n"
     ]
    },
    {
     "name": "stdout",
     "output_type": "stream",
     "text": [
      "Initial log joint probability = -3.88931\n",
      "    Iter      log prob        ||dx||      ||grad||       alpha      alpha0  # evals  Notes \n",
      "      99       1536.15    0.00587661       178.805           1           1      137   \n",
      "    Iter      log prob        ||dx||      ||grad||       alpha      alpha0  # evals  Notes \n",
      "     129       1536.98   0.000204066       100.815   1.985e-06       0.001      211  LS failed, Hessian reset \n",
      "     176       1537.49   0.000338348       160.218    2.93e-06       0.001      302  LS failed, Hessian reset \n",
      "     199       1537.51    7.2032e-06       79.7763      0.4254      0.4254      327   \n",
      "    Iter      log prob        ||dx||      ||grad||       alpha      alpha0  # evals  Notes \n",
      "     278       1537.54   0.000162595       81.5038   2.058e-06       0.001      464  LS failed, Hessian reset \n",
      "     299       1537.55   4.24715e-06       60.5126      0.4441      0.4441      494   \n",
      "    Iter      log prob        ||dx||      ||grad||       alpha      alpha0  # evals  Notes \n",
      "     334       1537.56   2.97088e-05       68.4645   4.414e-07       0.001      578  LS failed, Hessian reset \n",
      "     370       1537.56   3.40708e-06       56.9956   4.972e-08       0.001      663  LS failed, Hessian reset \n",
      "     399       1537.56   4.80275e-06       71.5541      0.4357      0.4357      706   \n",
      "    Iter      log prob        ||dx||      ||grad||       alpha      alpha0  # evals  Notes \n",
      "     429       1537.56   1.23384e-07       69.9537      0.4022      0.4022      746   \n",
      "Optimization terminated normally: \n",
      "  Convergence detected: relative gradient magnitude is below tolerance\n"
     ]
    },
    {
     "name": "stderr",
     "output_type": "stream",
     "text": [
      "INFO:prophet:Disabling yearly seasonality. Run prophet with yearly_seasonality=True to override this.\n",
      "INFO:prophet:Disabling daily seasonality. Run prophet with daily_seasonality=True to override this.\n"
     ]
    },
    {
     "name": "stdout",
     "output_type": "stream",
     "text": [
      "Initial log joint probability = -3.45362\n",
      "    Iter      log prob        ||dx||      ||grad||       alpha      alpha0  # evals  Notes \n",
      "      99       1537.53   0.000188737       83.6046   1.421e-06       0.001      162  LS failed, Hessian reset \n",
      "    Iter      log prob        ||dx||      ||grad||       alpha      alpha0  # evals  Notes \n",
      "     199       1539.41    0.00122017       81.1235       3.642      0.3642      293   \n",
      "    Iter      log prob        ||dx||      ||grad||       alpha      alpha0  # evals  Notes \n",
      "     229       1539.56   0.000275302       90.9692   3.519e-06       0.001      395  LS failed, Hessian reset \n",
      "     250       1539.58   3.51766e-05       62.2885   4.984e-07       0.001      455  LS failed, Hessian reset \n",
      "     299       1539.61   0.000158576       112.417      0.7728      0.7728      517   \n",
      "    Iter      log prob        ||dx||      ||grad||       alpha      alpha0  # evals  Notes \n",
      "     374       1539.63   2.26735e-08       73.7909     0.01933           1      617   \n",
      "Optimization terminated normally: \n",
      "  Convergence detected: relative gradient magnitude is below tolerance\n"
     ]
    },
    {
     "name": "stderr",
     "output_type": "stream",
     "text": [
      "INFO:prophet:Disabling yearly seasonality. Run prophet with yearly_seasonality=True to override this.\n",
      "INFO:prophet:Disabling daily seasonality. Run prophet with daily_seasonality=True to override this.\n"
     ]
    },
    {
     "name": "stdout",
     "output_type": "stream",
     "text": [
      "Initial log joint probability = -3.55106\n",
      "    Iter      log prob        ||dx||      ||grad||       alpha      alpha0  # evals  Notes \n",
      "      99       1601.01    0.00394051       119.216       0.294           1      130   \n",
      "    Iter      log prob        ||dx||      ||grad||       alpha      alpha0  # evals  Notes \n",
      "     181        1603.2   0.000249141       126.117   3.241e-06       0.001      271  LS failed, Hessian reset \n",
      "     199        1603.3   1.38008e-05       69.7528      0.2341      0.8373      294   \n",
      "    Iter      log prob        ||dx||      ||grad||       alpha      alpha0  # evals  Notes \n",
      "     225       1603.31   9.98472e-05       73.4163   1.473e-06       0.001      378  LS failed, Hessian reset \n",
      "     289       1603.32   1.04177e-07       68.2317       0.414      0.7842      483   \n",
      "Optimization terminated normally: \n",
      "  Convergence detected: relative gradient magnitude is below tolerance\n"
     ]
    },
    {
     "name": "stderr",
     "output_type": "stream",
     "text": [
      "INFO:prophet:Disabling yearly seasonality. Run prophet with yearly_seasonality=True to override this.\n",
      "INFO:prophet:Disabling daily seasonality. Run prophet with daily_seasonality=True to override this.\n"
     ]
    },
    {
     "name": "stdout",
     "output_type": "stream",
     "text": [
      "Initial log joint probability = -3.55106\n",
      "    Iter      log prob        ||dx||      ||grad||       alpha      alpha0  # evals  Notes \n",
      "      99       1550.09   0.000680174       77.0011      0.7856      0.7856      128   \n",
      "    Iter      log prob        ||dx||      ||grad||       alpha      alpha0  # evals  Notes \n",
      "     107       1550.31    0.00019655        75.323   1.219e-06       0.001      176  LS failed, Hessian reset \n",
      "     146       1551.12   0.000181555       86.9732   2.159e-06       0.001      285  LS failed, Hessian reset \n",
      "     175        1551.6   0.000119626       70.0811   1.562e-06       0.001      354  LS failed, Hessian reset \n",
      "     199       1551.61    1.2269e-05       64.5313           1           1      386   \n",
      "    Iter      log prob        ||dx||      ||grad||       alpha      alpha0  # evals  Notes \n",
      "     237       1551.99   3.37319e-11       109.585    1.44e-09           1      457   \n",
      "Optimization terminated normally: \n",
      "  Convergence detected: absolute parameter change was below tolerance\n"
     ]
    },
    {
     "name": "stderr",
     "output_type": "stream",
     "text": [
      "INFO:prophet:Disabling yearly seasonality. Run prophet with yearly_seasonality=True to override this.\n",
      "INFO:prophet:Disabling daily seasonality. Run prophet with daily_seasonality=True to override this.\n"
     ]
    },
    {
     "name": "stdout",
     "output_type": "stream",
     "text": [
      "Initial log joint probability = -3.64113\n",
      "    Iter      log prob        ||dx||      ||grad||       alpha      alpha0  # evals  Notes \n",
      "      92       1602.85   0.000132924        78.415   1.559e-06       0.001      169  LS failed, Hessian reset \n",
      "      99       1603.02   0.000309573       45.2175      0.4778      0.4778      178   \n",
      "    Iter      log prob        ||dx||      ||grad||       alpha      alpha0  # evals  Notes \n",
      "     192       1604.84   0.000171351       115.179    1.37e-06       0.001      332  LS failed, Hessian reset \n",
      "     199       1604.87   0.000150952       55.2439       3.577      0.3577      342   \n",
      "    Iter      log prob        ||dx||      ||grad||       alpha      alpha0  # evals  Notes \n",
      "     299       1605.11   0.000337589       49.8751           1           1      468   \n",
      "    Iter      log prob        ||dx||      ||grad||       alpha      alpha0  # evals  Notes \n",
      "     399       1605.77     0.0109253       75.9022      0.1692      0.1692      585   \n",
      "    Iter      log prob        ||dx||      ||grad||       alpha      alpha0  # evals  Notes \n",
      "     401       1605.78   0.000677432        85.402   1.007e-05       0.001      659  LS failed, Hessian reset \n",
      "     469       1605.91   8.44384e-05       67.1018   1.138e-06       0.001      781  LS failed, Hessian reset \n",
      "     499       1605.94   3.32441e-05       67.9411      0.6989      0.6989      819   \n",
      "    Iter      log prob        ||dx||      ||grad||       alpha      alpha0  # evals  Notes \n",
      "     543       1605.97   2.00317e-07       71.5562           1           1      880   \n",
      "Optimization terminated normally: \n",
      "  Convergence detected: relative gradient magnitude is below tolerance\n"
     ]
    },
    {
     "name": "stderr",
     "output_type": "stream",
     "text": [
      "INFO:prophet:Disabling yearly seasonality. Run prophet with yearly_seasonality=True to override this.\n",
      "INFO:prophet:Disabling daily seasonality. Run prophet with daily_seasonality=True to override this.\n"
     ]
    },
    {
     "name": "stdout",
     "output_type": "stream",
     "text": [
      "Initial log joint probability = -4.00344\n",
      "    Iter      log prob        ||dx||      ||grad||       alpha      alpha0  # evals  Notes \n",
      "      99       1636.92   0.000498127       60.9228           1           1      124   \n",
      "    Iter      log prob        ||dx||      ||grad||       alpha      alpha0  # evals  Notes \n",
      "     108       1637.34   0.000249411       148.585   1.628e-06       0.001      174  LS failed, Hessian reset \n",
      "     165       1638.47   0.000122693       69.0569   9.941e-07       0.001      292  LS failed, Hessian reset \n",
      "     199       1638.87   0.000348753       80.1519           1           1      338   \n",
      "    Iter      log prob        ||dx||      ||grad||       alpha      alpha0  # evals  Notes \n",
      "     299        1639.9     0.0318834       144.025           1           1      455   \n",
      "    Iter      log prob        ||dx||      ||grad||       alpha      alpha0  # evals  Notes \n",
      "     302       1640.17    0.00255566       107.766   2.977e-05       0.001      498  LS failed, Hessian reset \n",
      "     381       1640.65   0.000217435       89.2929    3.99e-06       0.001      688  LS failed, Hessian reset \n",
      "     399       1640.67   0.000800023       85.6078       8.431      0.8431      714   \n",
      "    Iter      log prob        ||dx||      ||grad||       alpha      alpha0  # evals  Notes \n",
      "     499        1640.8   1.81414e-05       69.3397       1.843      0.1843      845   \n",
      "    Iter      log prob        ||dx||      ||grad||       alpha      alpha0  # evals  Notes \n",
      "     502        1640.8   6.25923e-06       64.8676   1.154e-07       0.001      889  LS failed, Hessian reset \n",
      "     599       1640.84   1.69262e-05       59.3037     0.05662           1     1008   \n",
      "    Iter      log prob        ||dx||      ||grad||       alpha      alpha0  # evals  Notes \n",
      "     659       1641.06   0.000309284       186.703   2.936e-06       0.001     1141  LS failed, Hessian reset \n",
      "     699       1641.18   2.21524e-05       70.0904           1           1     1198   \n",
      "    Iter      log prob        ||dx||      ||grad||       alpha      alpha0  # evals  Notes \n",
      "     754       1641.18   5.42774e-07       71.6978      0.5153      0.5153     1272   \n",
      "Optimization terminated normally: \n",
      "  Convergence detected: relative gradient magnitude is below tolerance\n"
     ]
    },
    {
     "name": "stderr",
     "output_type": "stream",
     "text": [
      "INFO:prophet:Disabling yearly seasonality. Run prophet with yearly_seasonality=True to override this.\n",
      "INFO:prophet:Disabling daily seasonality. Run prophet with daily_seasonality=True to override this.\n"
     ]
    },
    {
     "name": "stdout",
     "output_type": "stream",
     "text": [
      "Initial log joint probability = -4.00344\n",
      "    Iter      log prob        ||dx||      ||grad||       alpha      alpha0  # evals  Notes \n",
      "      99          1587    0.00775995       163.259      0.8901      0.8901      125   \n",
      "    Iter      log prob        ||dx||      ||grad||       alpha      alpha0  # evals  Notes \n",
      "     186       1588.78   0.000235562       130.182   2.096e-06       0.001      265  LS failed, Hessian reset \n",
      "     199       1588.96   0.000668217       68.2153           1           1      283   \n",
      "    Iter      log prob        ||dx||      ||grad||       alpha      alpha0  # evals  Notes \n",
      "     299       1589.55   8.98894e-05        68.068           1           1      415   \n",
      "    Iter      log prob        ||dx||      ||grad||       alpha      alpha0  # evals  Notes \n",
      "     363       1590.09   0.000169092       54.1635   1.085e-06       0.001      540  LS failed, Hessian reset \n",
      "     399       1590.43   4.67888e-05       61.7666           1           1      590   \n",
      "    Iter      log prob        ||dx||      ||grad||       alpha      alpha0  # evals  Notes \n",
      "     439       1590.47   0.000118814       76.3014   1.461e-06       0.001      679  LS failed, Hessian reset \n",
      "     499       1590.53   0.000166988       74.7009           1           1      755   \n",
      "    Iter      log prob        ||dx||      ||grad||       alpha      alpha0  # evals  Notes \n",
      "     599       1590.54    9.4991e-06        70.057       0.686       0.686      884   \n",
      "    Iter      log prob        ||dx||      ||grad||       alpha      alpha0  # evals  Notes \n",
      "     664       1590.64   0.000168069       77.0205   1.909e-06       0.001     1020  LS failed, Hessian reset \n",
      "     699       1590.81    1.3299e-06       61.6844      0.2034           1     1070   \n",
      "    Iter      log prob        ||dx||      ||grad||       alpha      alpha0  # evals  Notes \n",
      "     719       1590.81   6.75827e-07       64.8812   9.759e-09       0.001     1134  LS failed, Hessian reset \n",
      "     724       1590.81   7.94505e-08       53.6312      0.1481           1     1141   \n",
      "Optimization terminated normally: \n",
      "  Convergence detected: relative gradient magnitude is below tolerance\n"
     ]
    },
    {
     "name": "stderr",
     "output_type": "stream",
     "text": [
      "INFO:prophet:Disabling yearly seasonality. Run prophet with yearly_seasonality=True to override this.\n",
      "INFO:prophet:Disabling daily seasonality. Run prophet with daily_seasonality=True to override this.\n"
     ]
    },
    {
     "name": "stdout",
     "output_type": "stream",
     "text": [
      "Initial log joint probability = -4.22095\n",
      "    Iter      log prob        ||dx||      ||grad||       alpha      alpha0  # evals  Notes \n",
      "      99       1640.47    0.00145854       170.115           1           1      125   \n",
      "    Iter      log prob        ||dx||      ||grad||       alpha      alpha0  # evals  Notes \n",
      "     116       1641.15   0.000193463        79.917   8.779e-07       0.001      194  LS failed, Hessian reset \n",
      "     199       1642.51    0.00794135       136.223      0.4781      0.4781      305   \n",
      "    Iter      log prob        ||dx||      ||grad||       alpha      alpha0  # evals  Notes \n",
      "     212       1643.52   0.000197464        94.272   8.489e-07       0.001      364  LS failed, Hessian reset \n",
      "     287       1644.33   0.000129751       98.5883   1.146e-06       0.001      503  LS failed, Hessian reset \n",
      "     299       1644.33   9.50389e-07       73.2513      0.1849      0.1849      518   \n",
      "    Iter      log prob        ||dx||      ||grad||       alpha      alpha0  # evals  Notes \n",
      "     378       1644.62   0.000829527       76.1126   1.122e-05       0.001      649  LS failed, Hessian reset \n",
      "     399       1644.66   0.000100881       78.0996           1           1      675   \n",
      "    Iter      log prob        ||dx||      ||grad||       alpha      alpha0  # evals  Notes \n",
      "     491       1644.77   2.55492e-08       61.4807    0.007079           1      801   \n",
      "Optimization terminated normally: \n",
      "  Convergence detected: relative gradient magnitude is below tolerance\n"
     ]
    },
    {
     "name": "stderr",
     "output_type": "stream",
     "text": [
      "INFO:prophet:Disabling yearly seasonality. Run prophet with yearly_seasonality=True to override this.\n",
      "INFO:prophet:Disabling daily seasonality. Run prophet with daily_seasonality=True to override this.\n"
     ]
    },
    {
     "name": "stdout",
     "output_type": "stream",
     "text": [
      "Initial log joint probability = -3.79379\n",
      "    Iter      log prob        ||dx||      ||grad||       alpha      alpha0  # evals  Notes \n",
      "      99       1655.61   0.000719826       78.4086           1           1      126   \n",
      "    Iter      log prob        ||dx||      ||grad||       alpha      alpha0  # evals  Notes \n",
      "     129        1656.5   0.000243415       140.049   2.571e-06       0.001      198  LS failed, Hessian reset \n",
      "     199       1656.93     0.0110873       113.339           1           1      288   \n",
      "    Iter      log prob        ||dx||      ||grad||       alpha      alpha0  # evals  Notes \n",
      "     234       1658.75   0.000226749       139.092   1.808e-06       0.001      365  LS failed, Hessian reset \n",
      "     292       1659.49   0.000110331       84.1383   1.445e-06       0.001      485  LS failed, Hessian reset \n",
      "     299        1659.5   3.13509e-05       59.2715      0.7228      0.7228      493   \n",
      "    Iter      log prob        ||dx||      ||grad||       alpha      alpha0  # evals  Notes \n",
      "     329        1659.5    4.0439e-08       69.2361      0.4662      0.1131      539   \n",
      "Optimization terminated normally: \n",
      "  Convergence detected: relative gradient magnitude is below tolerance\n"
     ]
    },
    {
     "name": "stderr",
     "output_type": "stream",
     "text": [
      "INFO:prophet:Disabling yearly seasonality. Run prophet with yearly_seasonality=True to override this.\n",
      "INFO:prophet:Disabling daily seasonality. Run prophet with daily_seasonality=True to override this.\n"
     ]
    },
    {
     "name": "stdout",
     "output_type": "stream",
     "text": [
      "Initial log joint probability = -3.79379\n",
      "    Iter      log prob        ||dx||      ||grad||       alpha      alpha0  # evals  Notes \n",
      "      99       1606.61    0.00260956       91.9921      0.5182      0.5182      122   \n",
      "    Iter      log prob        ||dx||      ||grad||       alpha      alpha0  # evals  Notes \n",
      "     134       1607.06   0.000206007       110.258   2.972e-06       0.001      216  LS failed, Hessian reset \n",
      "     193       1607.66   0.000247589         111.3   2.939e-06       0.001      320  LS failed, Hessian reset \n",
      "     199       1607.72    0.00022647       76.9002       0.408       0.408      327   \n",
      "    Iter      log prob        ||dx||      ||grad||       alpha      alpha0  # evals  Notes \n",
      "     283       1608.57   0.000317867       116.527   5.956e-06       0.001      469  LS failed, Hessian reset \n",
      "     299       1608.81   0.000171285       131.727       0.407       0.407      489   \n",
      "    Iter      log prob        ||dx||      ||grad||       alpha      alpha0  # evals  Notes \n",
      "     351       1608.86   6.87188e-07       71.3678    1.06e-08       0.001      606  LS failed, Hessian reset \n",
      "     359       1608.86   6.85544e-08       58.1347      0.4317           1      621   \n",
      "Optimization terminated normally: \n",
      "  Convergence detected: relative gradient magnitude is below tolerance\n"
     ]
    },
    {
     "name": "stderr",
     "output_type": "stream",
     "text": [
      "INFO:prophet:Disabling yearly seasonality. Run prophet with yearly_seasonality=True to override this.\n",
      "INFO:prophet:Disabling daily seasonality. Run prophet with daily_seasonality=True to override this.\n"
     ]
    },
    {
     "name": "stdout",
     "output_type": "stream",
     "text": [
      "Initial log joint probability = -3.41104\n",
      "    Iter      log prob        ||dx||      ||grad||       alpha      alpha0  # evals  Notes \n",
      "      99       1609.65   0.000423856       45.3742      0.8663      0.8663      121   \n",
      "    Iter      log prob        ||dx||      ||grad||       alpha      alpha0  # evals  Notes \n",
      "     113       1609.99    0.00165047       239.557   2.196e-05       0.001      193  LS failed, Hessian reset \n",
      "     199       1610.24    3.7688e-06       69.7314           1           1      303   \n",
      "    Iter      log prob        ||dx||      ||grad||       alpha      alpha0  # evals  Notes \n",
      "     257       1611.69   0.000274129       131.274   3.136e-06       0.001      429  LS failed, Hessian reset \n",
      "     299       1612.45   3.28667e-05       71.2031      0.1865           1      485   \n",
      "    Iter      log prob        ||dx||      ||grad||       alpha      alpha0  # evals  Notes \n",
      "     311       1612.45   9.71799e-06       57.8488   1.565e-07       0.001      538  LS failed, Hessian reset \n",
      "     342       1612.45   2.74138e-08       61.6394      0.3369           1      583   \n",
      "Optimization terminated normally: \n",
      "  Convergence detected: relative gradient magnitude is below tolerance\n"
     ]
    },
    {
     "name": "stderr",
     "output_type": "stream",
     "text": [
      "INFO:prophet:Disabling yearly seasonality. Run prophet with yearly_seasonality=True to override this.\n",
      "INFO:prophet:Disabling daily seasonality. Run prophet with daily_seasonality=True to override this.\n"
     ]
    },
    {
     "name": "stdout",
     "output_type": "stream",
     "text": [
      "Initial log joint probability = -6.40089\n",
      "    Iter      log prob        ||dx||      ||grad||       alpha      alpha0  # evals  Notes \n",
      "      99       1688.25     0.0121748        99.788      0.8565      0.8565      121   \n",
      "    Iter      log prob        ||dx||      ||grad||       alpha      alpha0  # evals  Notes \n",
      "     153       1691.31   0.000630827       141.162   7.896e-06       0.001      226  LS failed, Hessian reset \n",
      "     199       1691.67   7.67222e-05       70.7174       0.257      0.9615      295   \n",
      "    Iter      log prob        ||dx||      ||grad||       alpha      alpha0  # evals  Notes \n",
      "     240       1691.67   6.13947e-07       59.6589   9.588e-09       0.001      407  LS failed, Hessian reset \n",
      "     246       1691.67   1.19521e-07       52.7896           1           1      415   \n",
      "Optimization terminated normally: \n",
      "  Convergence detected: relative gradient magnitude is below tolerance\n"
     ]
    },
    {
     "name": "stderr",
     "output_type": "stream",
     "text": [
      "INFO:prophet:Disabling yearly seasonality. Run prophet with yearly_seasonality=True to override this.\n",
      "INFO:prophet:Disabling daily seasonality. Run prophet with daily_seasonality=True to override this.\n"
     ]
    },
    {
     "name": "stdout",
     "output_type": "stream",
     "text": [
      "Initial log joint probability = -6.40089\n",
      "    Iter      log prob        ||dx||      ||grad||       alpha      alpha0  # evals  Notes \n",
      "      99          1641    0.00455746        92.397      0.2151           1      122   \n",
      "    Iter      log prob        ||dx||      ||grad||       alpha      alpha0  # evals  Notes \n",
      "     199       1642.89   3.36703e-06       69.0435           1           1      260   \n",
      "    Iter      log prob        ||dx||      ||grad||       alpha      alpha0  # evals  Notes \n",
      "     228       1643.15   0.000124862       58.0521   1.059e-06       0.001      341  LS failed, Hessian reset \n",
      "     265       1643.42   0.000219274       86.7449   2.709e-06       0.001      417  LS failed, Hessian reset \n",
      "     299       1643.43   5.43946e-07       65.9216           1           1      462   \n",
      "    Iter      log prob        ||dx||      ||grad||       alpha      alpha0  # evals  Notes \n",
      "     304       1643.43   4.44761e-08       74.7533     0.08561           1      470   \n",
      "Optimization terminated normally: \n",
      "  Convergence detected: relative gradient magnitude is below tolerance\n"
     ]
    },
    {
     "name": "stderr",
     "output_type": "stream",
     "text": [
      "INFO:prophet:Disabling yearly seasonality. Run prophet with yearly_seasonality=True to override this.\n",
      "INFO:prophet:Disabling daily seasonality. Run prophet with daily_seasonality=True to override this.\n"
     ]
    },
    {
     "name": "stdout",
     "output_type": "stream",
     "text": [
      "Initial log joint probability = -4.04578\n",
      "    Iter      log prob        ||dx||      ||grad||       alpha      alpha0  # evals  Notes \n",
      "      99       1691.05    0.00231175       73.1759       1.768      0.1768      130   \n",
      "    Iter      log prob        ||dx||      ||grad||       alpha      alpha0  # evals  Notes \n",
      "     193       1692.69   1.53107e-07       53.4865      0.7447      0.1928      259   \n",
      "Optimization terminated normally: \n",
      "  Convergence detected: relative gradient magnitude is below tolerance\n"
     ]
    },
    {
     "name": "stderr",
     "output_type": "stream",
     "text": [
      "INFO:prophet:Disabling yearly seasonality. Run prophet with yearly_seasonality=True to override this.\n",
      "INFO:prophet:Disabling daily seasonality. Run prophet with daily_seasonality=True to override this.\n"
     ]
    },
    {
     "name": "stdout",
     "output_type": "stream",
     "text": [
      "Initial log joint probability = -4.53787\n",
      "    Iter      log prob        ||dx||      ||grad||       alpha      alpha0  # evals  Notes \n",
      "      99       1716.59    0.00261289       144.973           1           1      132   \n",
      "    Iter      log prob        ||dx||      ||grad||       alpha      alpha0  # evals  Notes \n",
      "     141       1720.37   0.000231477       128.012   3.887e-06       0.001      228  LS failed, Hessian reset \n",
      "     199       1721.05   1.46291e-05       53.3814      0.5175      0.5175      302   \n",
      "    Iter      log prob        ||dx||      ||grad||       alpha      alpha0  # evals  Notes \n",
      "     247       1721.06   4.83395e-05       83.7551   6.017e-07       0.001      405  LS failed, Hessian reset \n",
      "     285       1721.07   8.28539e-08        85.384      0.2048           1      455   \n",
      "Optimization terminated normally: \n",
      "  Convergence detected: relative gradient magnitude is below tolerance\n"
     ]
    },
    {
     "name": "stderr",
     "output_type": "stream",
     "text": [
      "INFO:prophet:Disabling yearly seasonality. Run prophet with yearly_seasonality=True to override this.\n",
      "INFO:prophet:Disabling daily seasonality. Run prophet with daily_seasonality=True to override this.\n"
     ]
    },
    {
     "name": "stdout",
     "output_type": "stream",
     "text": [
      "Initial log joint probability = -4.53787\n",
      "    Iter      log prob        ||dx||      ||grad||       alpha      alpha0  # evals  Notes \n",
      "      99       1667.38    0.00139282       148.348      0.1762           1      126   \n",
      "    Iter      log prob        ||dx||      ||grad||       alpha      alpha0  # evals  Notes \n",
      "     111       1668.32   0.000141831       83.1628   2.018e-06       0.001      190  LS failed, Hessian reset \n",
      "     164       1670.05   0.000926744       227.161   1.059e-05       0.001      292  LS failed, Hessian reset \n",
      "     199       1670.21   0.000142007       77.6252      0.2251      0.8515      334   \n",
      "    Iter      log prob        ||dx||      ||grad||       alpha      alpha0  # evals  Notes \n",
      "     208       1670.33    0.00124789       243.175   1.303e-05       0.001      408  LS failed, Hessian reset \n",
      "     271       1670.47   1.13141e-05       68.4272   1.772e-07       0.001      529  LS failed, Hessian reset \n",
      "     299       1670.48   1.13069e-07       65.6925      0.3071           1      569   \n",
      "    Iter      log prob        ||dx||      ||grad||       alpha      alpha0  # evals  Notes \n",
      "     300       1670.48   2.29542e-07       66.5501           1           1      570   \n",
      "Optimization terminated normally: \n",
      "  Convergence detected: relative gradient magnitude is below tolerance\n"
     ]
    },
    {
     "name": "stderr",
     "output_type": "stream",
     "text": [
      "INFO:prophet:Disabling yearly seasonality. Run prophet with yearly_seasonality=True to override this.\n",
      "INFO:prophet:Disabling daily seasonality. Run prophet with daily_seasonality=True to override this.\n"
     ]
    },
    {
     "name": "stdout",
     "output_type": "stream",
     "text": [
      "Initial log joint probability = -4.05554\n",
      "    Iter      log prob        ||dx||      ||grad||       alpha      alpha0  # evals  Notes \n",
      "      99       1721.27    0.00507226        393.03      0.3024      0.3024      130   \n",
      "    Iter      log prob        ||dx||      ||grad||       alpha      alpha0  # evals  Notes \n",
      "     141       1724.03   0.000274542       153.524   3.046e-06       0.001      221  LS failed, Hessian reset \n",
      "     185       1724.39   0.000119411       80.9721   1.619e-06       0.001      315  LS failed, Hessian reset \n",
      "     199        1724.4   1.27642e-05       67.6195           1           1      334   \n",
      "    Iter      log prob        ||dx||      ||grad||       alpha      alpha0  # evals  Notes \n",
      "     220        1724.4   4.83913e-08       70.5095      0.1656      0.5333      363   \n",
      "Optimization terminated normally: \n",
      "  Convergence detected: relative gradient magnitude is below tolerance\n"
     ]
    },
    {
     "name": "stderr",
     "output_type": "stream",
     "text": [
      "INFO:prophet:Disabling yearly seasonality. Run prophet with yearly_seasonality=True to override this.\n",
      "INFO:prophet:Disabling daily seasonality. Run prophet with daily_seasonality=True to override this.\n"
     ]
    },
    {
     "name": "stdout",
     "output_type": "stream",
     "text": [
      "Initial log joint probability = -6.17573\n",
      "    Iter      log prob        ||dx||      ||grad||       alpha      alpha0  # evals  Notes \n",
      "      99       1732.35    0.00126741       83.7631      0.6797           1      126   \n",
      "    Iter      log prob        ||dx||      ||grad||       alpha      alpha0  # evals  Notes \n",
      "     199        1736.1   0.000446666       107.159      0.7911      0.7911      254   \n",
      "    Iter      log prob        ||dx||      ||grad||       alpha      alpha0  # evals  Notes \n",
      "     254       1736.47   3.23944e-05       58.6053   4.475e-07       0.001      363  LS failed, Hessian reset \n",
      "     299       1736.57   0.000160241       62.8013           1           1      415   \n",
      "    Iter      log prob        ||dx||      ||grad||       alpha      alpha0  # evals  Notes \n",
      "     380       1736.63   4.38465e-08       61.7737      0.2539           1      525   \n",
      "Optimization terminated normally: \n",
      "  Convergence detected: relative gradient magnitude is below tolerance\n"
     ]
    },
    {
     "name": "stderr",
     "output_type": "stream",
     "text": [
      "INFO:prophet:Disabling yearly seasonality. Run prophet with yearly_seasonality=True to override this.\n",
      "INFO:prophet:Disabling daily seasonality. Run prophet with daily_seasonality=True to override this.\n"
     ]
    },
    {
     "name": "stdout",
     "output_type": "stream",
     "text": [
      "Initial log joint probability = -6.17573\n",
      "    Iter      log prob        ||dx||      ||grad||       alpha      alpha0  # evals  Notes \n",
      "      99       1677.71    0.00971615       99.3934       6.903      0.6903      126   \n",
      "    Iter      log prob        ||dx||      ||grad||       alpha      alpha0  # evals  Notes \n",
      "     163        1680.6    0.00026536         147.1   2.034e-06       0.001      247  LS failed, Hessian reset \n",
      "     199       1680.79    7.1324e-05       60.8464       0.759       0.759      297   \n",
      "    Iter      log prob        ||dx||      ||grad||       alpha      alpha0  # evals  Notes \n",
      "     286       1680.94   8.92787e-05       77.1549   8.989e-07       0.001      454  LS failed, Hessian reset \n",
      "     299       1680.95   4.11678e-07       66.0548      0.1977      0.1977      474   \n",
      "    Iter      log prob        ||dx||      ||grad||       alpha      alpha0  # evals  Notes \n",
      "     344        1681.1   1.24199e-05       71.8653   1.696e-07       0.001      566  LS failed, Hessian reset \n",
      "     399       1681.11   4.84592e-07       65.2065           1           1      647   \n",
      "    Iter      log prob        ||dx||      ||grad||       alpha      alpha0  # evals  Notes \n",
      "     472       1681.18   7.86273e-05       51.2293   8.009e-07       0.001      793  LS failed, Hessian reset \n",
      "     499       1681.22   0.000368814        87.222           1           1      823   \n",
      "    Iter      log prob        ||dx||      ||grad||       alpha      alpha0  # evals  Notes \n",
      "     545       1681.24   3.22339e-08       68.1831      0.2621           1      883   \n",
      "Optimization terminated normally: \n",
      "  Convergence detected: relative gradient magnitude is below tolerance\n"
     ]
    },
    {
     "name": "stderr",
     "output_type": "stream",
     "text": [
      "INFO:prophet:Disabling yearly seasonality. Run prophet with yearly_seasonality=True to override this.\n",
      "INFO:prophet:Disabling daily seasonality. Run prophet with daily_seasonality=True to override this.\n"
     ]
    },
    {
     "name": "stdout",
     "output_type": "stream",
     "text": [
      "Initial log joint probability = -5.5416\n",
      "    Iter      log prob        ||dx||      ||grad||       alpha      alpha0  # evals  Notes \n",
      "      99        1734.5    0.00196434         233.6           1           1      122   \n",
      "    Iter      log prob        ||dx||      ||grad||       alpha      alpha0  # evals  Notes \n",
      "     160       1737.78   0.000708224       280.152   7.866e-06       0.001      236  LS failed, Hessian reset \n",
      "     199       1738.19   0.000327635        80.858           1           1      289   \n",
      "    Iter      log prob        ||dx||      ||grad||       alpha      alpha0  # evals  Notes \n",
      "     225       1738.51   0.000954293       69.8805   1.036e-05       0.001      371  LS failed, Hessian reset \n",
      "     257       1738.62   7.43352e-05       75.2438   9.604e-07       0.001      440  LS failed, Hessian reset \n",
      "     282       1738.63   6.25825e-06       80.1606   8.238e-08       0.001      511  LS failed, Hessian reset \n",
      "     297       1738.63   1.10101e-07       65.5469      0.2749           1      533   \n",
      "Optimization terminated normally: \n",
      "  Convergence detected: relative gradient magnitude is below tolerance\n"
     ]
    },
    {
     "name": "stderr",
     "output_type": "stream",
     "text": [
      "INFO:prophet:Disabling yearly seasonality. Run prophet with yearly_seasonality=True to override this.\n",
      "INFO:prophet:Disabling daily seasonality. Run prophet with daily_seasonality=True to override this.\n"
     ]
    },
    {
     "name": "stdout",
     "output_type": "stream",
     "text": [
      "Initial log joint probability = -5.56277\n",
      "    Iter      log prob        ||dx||      ||grad||       alpha      alpha0  # evals  Notes \n",
      "      99          1751   0.000879069       73.8762      0.6406      0.6406      132   \n",
      "    Iter      log prob        ||dx||      ||grad||       alpha      alpha0  # evals  Notes \n",
      "     134        1751.7   0.000113794       70.6529   9.479e-07       0.001      213  LS failed, Hessian reset \n",
      "     199       1752.68    0.00592586       87.0014           1           1      298   \n",
      "    Iter      log prob        ||dx||      ||grad||       alpha      alpha0  # evals  Notes \n",
      "     208       1752.94   0.000138737       86.5022   9.792e-07       0.001      361  LS failed, Hessian reset \n",
      "     299       1753.53   0.000144969       73.4738      0.4347      0.4347      470   \n",
      "    Iter      log prob        ||dx||      ||grad||       alpha      alpha0  # evals  Notes \n",
      "     374        1753.7   7.69564e-05       68.0615   1.379e-06       0.001      594  LS failed, Hessian reset \n",
      "     399       1753.71   6.34514e-07        68.401      0.2051           1      629   \n",
      "    Iter      log prob        ||dx||      ||grad||       alpha      alpha0  # evals  Notes \n",
      "     411       1753.71   0.000290207       64.4737   3.788e-06       0.001      688  LS failed, Hessian reset \n",
      "     469       1753.72   8.89674e-08       61.2922      0.8637      0.8637      771   \n",
      "Optimization terminated normally: \n",
      "  Convergence detected: relative gradient magnitude is below tolerance\n"
     ]
    },
    {
     "name": "stderr",
     "output_type": "stream",
     "text": [
      "INFO:prophet:Disabling yearly seasonality. Run prophet with yearly_seasonality=True to override this.\n",
      "INFO:prophet:Disabling daily seasonality. Run prophet with daily_seasonality=True to override this.\n"
     ]
    },
    {
     "name": "stdout",
     "output_type": "stream",
     "text": [
      "Initial log joint probability = -5.56277\n",
      "    Iter      log prob        ||dx||      ||grad||       alpha      alpha0  # evals  Notes \n",
      "      99        1693.8    0.00409449       115.391      0.2686           1      129   \n",
      "    Iter      log prob        ||dx||      ||grad||       alpha      alpha0  # evals  Notes \n",
      "     134       1694.65   0.000183992       81.4553   1.038e-06       0.001      212  LS failed, Hessian reset \n",
      "     196       1695.26    0.00105461       199.464   7.961e-06       0.001      318  LS failed, Hessian reset \n",
      "     199       1695.29   0.000155341       70.2877      0.6708      0.6708      322   \n",
      "    Iter      log prob        ||dx||      ||grad||       alpha      alpha0  # evals  Notes \n",
      "     255       1695.43   2.45845e-07       64.5298           1           1      400   \n",
      "Optimization terminated normally: \n",
      "  Convergence detected: relative gradient magnitude is below tolerance\n"
     ]
    },
    {
     "name": "stderr",
     "output_type": "stream",
     "text": [
      "INFO:prophet:Disabling yearly seasonality. Run prophet with yearly_seasonality=True to override this.\n",
      "INFO:prophet:Disabling daily seasonality. Run prophet with daily_seasonality=True to override this.\n"
     ]
    },
    {
     "name": "stdout",
     "output_type": "stream",
     "text": [
      "Initial log joint probability = -3.4587\n",
      "    Iter      log prob        ||dx||      ||grad||       alpha      alpha0  # evals  Notes \n",
      "      99       1696.97   0.000293051       102.118      0.4659      0.4659      130   \n",
      "    Iter      log prob        ||dx||      ||grad||       alpha      alpha0  # evals  Notes \n",
      "     192       1698.84   0.000545576       185.926   8.254e-06       0.001      317  LS failed, Hessian reset \n",
      "     199       1698.96   0.000754999       66.1937           1           1      328   \n",
      "    Iter      log prob        ||dx||      ||grad||       alpha      alpha0  # evals  Notes \n",
      "     299       1699.84    0.00143753       75.3864           1           1      459   \n",
      "    Iter      log prob        ||dx||      ||grad||       alpha      alpha0  # evals  Notes \n",
      "     377       1699.86   1.04142e-07       57.0545      0.8004      0.1997      569   \n",
      "Optimization terminated normally: \n",
      "  Convergence detected: relative gradient magnitude is below tolerance\n"
     ]
    },
    {
     "name": "stderr",
     "output_type": "stream",
     "text": [
      "INFO:prophet:Disabling yearly seasonality. Run prophet with yearly_seasonality=True to override this.\n",
      "INFO:prophet:Disabling daily seasonality. Run prophet with daily_seasonality=True to override this.\n"
     ]
    },
    {
     "name": "stdout",
     "output_type": "stream",
     "text": [
      "Initial log joint probability = -3.81626\n",
      "    Iter      log prob        ||dx||      ||grad||       alpha      alpha0  # evals  Notes \n",
      "      99       1771.45   0.000202981       69.9715      0.3711      0.3711      128   \n",
      "    Iter      log prob        ||dx||      ||grad||       alpha      alpha0  # evals  Notes \n",
      "     121       1771.66   0.000229036       151.076   1.551e-06       0.001      195  LS failed, Hessian reset \n",
      "     199       1772.33   0.000209663       71.4285       0.555       0.555      291   \n",
      "    Iter      log prob        ||dx||      ||grad||       alpha      alpha0  # evals  Notes \n",
      "     222       1773.42   0.000233948       158.647   1.781e-06       0.001      374  LS failed, Hessian reset \n",
      "     299       1774.36   1.54095e-05       64.6227           1           1      472   \n",
      "    Iter      log prob        ||dx||      ||grad||       alpha      alpha0  # evals  Notes \n",
      "     367        1774.4   7.30672e-05       74.3307   1.126e-06       0.001      637  LS failed, Hessian reset \n",
      "     399       1774.41   1.52709e-05        79.756           1           1      673   \n",
      "    Iter      log prob        ||dx||      ||grad||       alpha      alpha0  # evals  Notes \n",
      "     436       1774.41   1.26289e-07       61.5758           1           1      717   \n",
      "Optimization terminated normally: \n",
      "  Convergence detected: relative gradient magnitude is below tolerance\n"
     ]
    },
    {
     "name": "stderr",
     "output_type": "stream",
     "text": [
      "INFO:prophet:Disabling yearly seasonality. Run prophet with yearly_seasonality=True to override this.\n",
      "INFO:prophet:Disabling daily seasonality. Run prophet with daily_seasonality=True to override this.\n"
     ]
    },
    {
     "name": "stdout",
     "output_type": "stream",
     "text": [
      "Initial log joint probability = -3.81626\n",
      "    Iter      log prob        ||dx||      ||grad||       alpha      alpha0  # evals  Notes \n",
      "      99       1712.85    0.00336978       79.0717           1           1      120   \n",
      "    Iter      log prob        ||dx||      ||grad||       alpha      alpha0  # evals  Notes \n",
      "     146       1713.39   0.000214682       80.2924   3.116e-06       0.001      231  LS failed, Hessian reset \n",
      "     199       1713.43   9.62858e-06       65.0802           1           1      307   \n",
      "    Iter      log prob        ||dx||      ||grad||       alpha      alpha0  # evals  Notes \n",
      "     256       1713.63   0.000200256       93.3591   1.114e-06       0.001      416  LS failed, Hessian reset \n",
      "     299       1713.78   4.17939e-06       68.8254      0.4472      0.4472      467   \n",
      "    Iter      log prob        ||dx||      ||grad||       alpha      alpha0  # evals  Notes \n",
      "     372       1714.46   0.000172557       103.266    1.52e-06       0.001      615  LS failed, Hessian reset \n",
      "     399        1715.4   0.000125205       60.2057      0.9101      0.9101      646   \n",
      "    Iter      log prob        ||dx||      ||grad||       alpha      alpha0  # evals  Notes \n",
      "     418       1715.41   7.79179e-05       80.4522   1.287e-06       0.001      712  LS failed, Hessian reset \n",
      "     442       1715.41   1.92331e-08       59.1903     0.08419      0.4125      747   \n",
      "Optimization terminated normally: \n",
      "  Convergence detected: relative gradient magnitude is below tolerance\n"
     ]
    },
    {
     "name": "stderr",
     "output_type": "stream",
     "text": [
      "INFO:prophet:Disabling yearly seasonality. Run prophet with yearly_seasonality=True to override this.\n",
      "INFO:prophet:Disabling daily seasonality. Run prophet with daily_seasonality=True to override this.\n"
     ]
    },
    {
     "name": "stdout",
     "output_type": "stream",
     "text": [
      "Initial log joint probability = -3.69323\n",
      "    Iter      log prob        ||dx||      ||grad||       alpha      alpha0  # evals  Notes \n",
      "      99       1715.05   0.000219765       67.5327      0.3004      0.3004      128   \n",
      "    Iter      log prob        ||dx||      ||grad||       alpha      alpha0  # evals  Notes \n",
      "     182       1716.02   0.000310348       88.2474   5.058e-06       0.001      276  LS failed, Hessian reset \n",
      "     199       1716.16    0.00583261       105.578           1           1      298   \n",
      "    Iter      log prob        ||dx||      ||grad||       alpha      alpha0  # evals  Notes \n",
      "     295       1716.86   0.000500765        210.44   4.428e-06       0.001      527  LS failed, Hessian reset \n",
      "     299       1716.97    0.00161339       150.728           1           1      531   \n",
      "    Iter      log prob        ||dx||      ||grad||       alpha      alpha0  # evals  Notes \n",
      "     394       1717.53     0.0002139       69.0644    3.83e-06       0.001      686  LS failed, Hessian reset \n",
      "     399       1717.55   4.94015e-05       60.3246      0.5977      0.5977      694   \n",
      "    Iter      log prob        ||dx||      ||grad||       alpha      alpha0  # evals  Notes \n",
      "     499        1717.6   1.07379e-05       75.0041      0.8755      0.8755      820   \n",
      "    Iter      log prob        ||dx||      ||grad||       alpha      alpha0  # evals  Notes \n",
      "     543       1717.62   0.000191774        81.781   2.544e-06       0.001      908  LS failed, Hessian reset \n",
      "     597       1717.63   3.43434e-07       71.7286           1           1      979   \n",
      "Optimization terminated normally: \n",
      "  Convergence detected: relative gradient magnitude is below tolerance\n"
     ]
    },
    {
     "name": "stderr",
     "output_type": "stream",
     "text": [
      "INFO:prophet:Disabling yearly seasonality. Run prophet with yearly_seasonality=True to override this.\n",
      "INFO:prophet:Disabling daily seasonality. Run prophet with daily_seasonality=True to override this.\n"
     ]
    },
    {
     "name": "stdout",
     "output_type": "stream",
     "text": [
      "Initial log joint probability = -3.69096\n",
      "    Iter      log prob        ||dx||      ||grad||       alpha      alpha0  # evals  Notes \n",
      "      99       1788.73    0.00953522       387.929           1           1      124   \n",
      "    Iter      log prob        ||dx||      ||grad||       alpha      alpha0  # evals  Notes \n",
      "     111       1789.85   0.000244207       125.069   4.242e-06       0.001      174  LS failed, Hessian reset \n",
      "     199       1791.18    0.00197563       90.4328           1           1      290   \n",
      "    Iter      log prob        ||dx||      ||grad||       alpha      alpha0  # evals  Notes \n",
      "     204       1791.26   0.000313091       150.825   4.288e-06       0.001      363  LS failed, Hessian reset \n",
      "     291       1791.57   3.76485e-05       63.6666    5.06e-07       0.001      515  LS failed, Hessian reset \n",
      "     299       1791.57   1.31913e-06       48.5062      0.6244      0.6244      528   \n",
      "    Iter      log prob        ||dx||      ||grad||       alpha      alpha0  # evals  Notes \n",
      "     315       1791.57   5.63756e-06       73.7564   8.323e-08       0.001      588  LS failed, Hessian reset \n",
      "     333       1791.57   2.97478e-08       63.2109      0.2246      0.2246      615   \n",
      "Optimization terminated normally: \n",
      "  Convergence detected: relative gradient magnitude is below tolerance\n"
     ]
    },
    {
     "name": "stderr",
     "output_type": "stream",
     "text": [
      "INFO:prophet:Disabling yearly seasonality. Run prophet with yearly_seasonality=True to override this.\n",
      "INFO:prophet:Disabling daily seasonality. Run prophet with daily_seasonality=True to override this.\n"
     ]
    },
    {
     "name": "stdout",
     "output_type": "stream",
     "text": [
      "Initial log joint probability = -3.69096\n",
      "    Iter      log prob        ||dx||      ||grad||       alpha      alpha0  # evals  Notes \n",
      "      99       1733.04    0.00228184       101.247      0.5764      0.5764      136   \n",
      "    Iter      log prob        ||dx||      ||grad||       alpha      alpha0  # evals  Notes \n",
      "     199       1734.51    0.00162799       58.2525           1           1      269   \n",
      "    Iter      log prob        ||dx||      ||grad||       alpha      alpha0  # evals  Notes \n",
      "     221       1734.58   9.22312e-05        70.713    1.06e-06       0.001      343  LS failed, Hessian reset \n",
      "     299       1734.89   6.03457e-05       70.1871      0.4966      0.4966      448   \n",
      "    Iter      log prob        ||dx||      ||grad||       alpha      alpha0  # evals  Notes \n",
      "     305       1734.91   5.09357e-05       59.5294   7.485e-07       0.001      501  LS failed, Hessian reset \n",
      "     325       1734.91   3.07961e-08        65.253     0.04427      0.4066      533   \n",
      "Optimization terminated normally: \n",
      "  Convergence detected: relative gradient magnitude is below tolerance\n"
     ]
    },
    {
     "name": "stderr",
     "output_type": "stream",
     "text": [
      "INFO:prophet:Disabling yearly seasonality. Run prophet with yearly_seasonality=True to override this.\n",
      "INFO:prophet:Disabling daily seasonality. Run prophet with daily_seasonality=True to override this.\n"
     ]
    },
    {
     "name": "stdout",
     "output_type": "stream",
     "text": [
      "Initial log joint probability = -7.22776\n",
      "    Iter      log prob        ||dx||      ||grad||       alpha      alpha0  # evals  Notes \n",
      "      99       1824.25    0.00421157       102.521           1           1      135   \n",
      "    Iter      log prob        ||dx||      ||grad||       alpha      alpha0  # evals  Notes \n",
      "     199       1826.59    0.00164801       58.7219           1           1      258   \n",
      "    Iter      log prob        ||dx||      ||grad||       alpha      alpha0  # evals  Notes \n",
      "     210       1826.82   0.000158968       117.544   1.699e-06       0.001      307  LS failed, Hessian reset \n",
      "     299       1827.03   2.29665e-07       58.5187      0.8373     0.08373      417   \n",
      "    Iter      log prob        ||dx||      ||grad||       alpha      alpha0  # evals  Notes \n",
      "     303       1827.03   1.34323e-07        55.876           1           1      422   \n",
      "Optimization terminated normally: \n",
      "  Convergence detected: relative gradient magnitude is below tolerance\n"
     ]
    },
    {
     "name": "stderr",
     "output_type": "stream",
     "text": [
      "INFO:prophet:Disabling yearly seasonality. Run prophet with yearly_seasonality=True to override this.\n",
      "INFO:prophet:Disabling daily seasonality. Run prophet with daily_seasonality=True to override this.\n"
     ]
    },
    {
     "name": "stdout",
     "output_type": "stream",
     "text": [
      "Initial log joint probability = -3.24611\n",
      "    Iter      log prob        ||dx||      ||grad||       alpha      alpha0  # evals  Notes \n",
      "      99       1869.05    0.00403276       57.8771      0.9507      0.9507      130   \n",
      "    Iter      log prob        ||dx||      ||grad||       alpha      alpha0  # evals  Notes \n",
      "     199       1870.57   8.90195e-05       76.2748       4.303      0.4303      263   \n",
      "    Iter      log prob        ||dx||      ||grad||       alpha      alpha0  # evals  Notes \n",
      "     220       1870.72   0.000208879       106.089   2.352e-06       0.001      336  LS failed, Hessian reset \n",
      "     282       1870.81     6.955e-07        61.371   9.526e-09       0.001      456  LS failed, Hessian reset \n",
      "     290       1870.81   1.49335e-07       56.2975           1           1      468   \n",
      "Optimization terminated normally: \n",
      "  Convergence detected: relative gradient magnitude is below tolerance\n"
     ]
    },
    {
     "name": "stderr",
     "output_type": "stream",
     "text": [
      "INFO:prophet:Disabling yearly seasonality. Run prophet with yearly_seasonality=True to override this.\n",
      "INFO:prophet:Disabling daily seasonality. Run prophet with daily_seasonality=True to override this.\n"
     ]
    },
    {
     "name": "stdout",
     "output_type": "stream",
     "text": [
      "Initial log joint probability = -3.24611\n",
      "    Iter      log prob        ||dx||      ||grad||       alpha      alpha0  # evals  Notes \n",
      "      99       1811.34    0.00178693       93.4957      0.0534           1      131   \n",
      "    Iter      log prob        ||dx||      ||grad||       alpha      alpha0  # evals  Notes \n",
      "     151       1812.35    0.00126078       92.0202   1.823e-05       0.001      231  LS failed, Hessian reset \n",
      "     189       1812.61   0.000229852       80.6484   3.238e-06       0.001      323  LS failed, Hessian reset \n",
      "     199       1812.74    8.8989e-05       73.9882      0.7056      0.7056      333   \n",
      "    Iter      log prob        ||dx||      ||grad||       alpha      alpha0  # evals  Notes \n",
      "     260        1812.8   8.88146e-05       80.5153   1.265e-06       0.001      454  LS failed, Hessian reset \n",
      "     296       1812.81   1.13262e-07        55.246      0.3206      0.3206      508   \n",
      "Optimization terminated normally: \n",
      "  Convergence detected: relative gradient magnitude is below tolerance\n"
     ]
    },
    {
     "name": "stderr",
     "output_type": "stream",
     "text": [
      "INFO:prophet:Disabling yearly seasonality. Run prophet with yearly_seasonality=True to override this.\n",
      "INFO:prophet:Disabling daily seasonality. Run prophet with daily_seasonality=True to override this.\n"
     ]
    },
    {
     "name": "stdout",
     "output_type": "stream",
     "text": [
      "Initial log joint probability = -5.07075\n",
      "    Iter      log prob        ||dx||      ||grad||       alpha      alpha0  # evals  Notes \n",
      "      99       1872.29    0.00134015       286.493      0.4217           1      139   \n",
      "    Iter      log prob        ||dx||      ||grad||       alpha      alpha0  # evals  Notes \n",
      "     148       1873.75   0.000138533        97.155   7.342e-07       0.001      242  LS failed, Hessian reset \n",
      "     199       1873.86   0.000104168       82.8342      0.4988      0.4988      306   \n",
      "    Iter      log prob        ||dx||      ||grad||       alpha      alpha0  # evals  Notes \n",
      "     208       1873.93   0.000118739       98.5488   1.009e-06       0.001      389  LS failed, Hessian reset \n",
      "     286       1873.99   8.85935e-08       61.4321      0.4096           1      497   \n",
      "Optimization terminated normally: \n",
      "  Convergence detected: relative gradient magnitude is below tolerance\n"
     ]
    },
    {
     "name": "stderr",
     "output_type": "stream",
     "text": [
      "INFO:prophet:Disabling yearly seasonality. Run prophet with yearly_seasonality=True to override this.\n",
      "INFO:prophet:Disabling daily seasonality. Run prophet with daily_seasonality=True to override this.\n"
     ]
    },
    {
     "name": "stdout",
     "output_type": "stream",
     "text": [
      "Initial log joint probability = -6.01719\n",
      "    Iter      log prob        ||dx||      ||grad||       alpha      alpha0  # evals  Notes \n",
      "      99       1889.04    0.00450211         326.9       0.789       0.789      128   \n",
      "    Iter      log prob        ||dx||      ||grad||       alpha      alpha0  # evals  Notes \n",
      "     199       1892.38   5.75637e-05        69.538      0.3265           1      259   \n",
      "    Iter      log prob        ||dx||      ||grad||       alpha      alpha0  # evals  Notes \n",
      "     224        1892.5   0.000895038       267.614   1.075e-05       0.001      321  LS failed, Hessian reset \n",
      "     264       1892.58   9.51967e-05       67.9986   1.493e-06       0.001      410  LS failed, Hessian reset \n",
      "     299       1892.59   3.41647e-05       79.4142           1           1      453   \n",
      "    Iter      log prob        ||dx||      ||grad||       alpha      alpha0  # evals  Notes \n",
      "     327        1892.8   0.000200708       113.578   6.436e-07       0.001      533  LS failed, Hessian reset \n",
      "     370       1892.97   4.11543e-05       68.0496   6.526e-07       0.001      636  LS failed, Hessian reset \n",
      "     390       1892.97   1.57483e-07       50.4082           1           1      664   \n",
      "Optimization terminated normally: \n",
      "  Convergence detected: relative gradient magnitude is below tolerance\n"
     ]
    },
    {
     "name": "stderr",
     "output_type": "stream",
     "text": [
      "INFO:prophet:Disabling yearly seasonality. Run prophet with yearly_seasonality=True to override this.\n",
      "INFO:prophet:Disabling daily seasonality. Run prophet with daily_seasonality=True to override this.\n"
     ]
    },
    {
     "name": "stdout",
     "output_type": "stream",
     "text": [
      "Initial log joint probability = -6.01719\n",
      "    Iter      log prob        ||dx||      ||grad||       alpha      alpha0  # evals  Notes \n",
      "      99       1829.09    0.00328815        159.25           1           1      129   \n",
      "    Iter      log prob        ||dx||      ||grad||       alpha      alpha0  # evals  Notes \n",
      "     180       1831.08   0.000162116       123.867   1.717e-06       0.001      288  LS failed, Hessian reset \n",
      "     199       1831.13   8.51968e-06       61.6203       0.247           1      312   \n",
      "    Iter      log prob        ||dx||      ||grad||       alpha      alpha0  # evals  Notes \n",
      "     224       1831.17   4.88618e-05       61.1289   1.065e-06       0.001      390  LS failed, Hessian reset \n",
      "     248       1831.17   2.28822e-06       60.6745   3.658e-08       0.001      464  LS failed, Hessian reset \n",
      "     299       1831.21   0.000156296       58.8746      0.9378      0.9378      536   \n",
      "    Iter      log prob        ||dx||      ||grad||       alpha      alpha0  # evals  Notes \n",
      "     329       1831.35   0.000285631       158.518   2.759e-06       0.001      619  LS failed, Hessian reset \n",
      "     356       1831.53     1.357e-05       55.2684   2.522e-07       0.001      693  LS failed, Hessian reset \n",
      "     399       1831.54   0.000179239       68.9919           1           1      753   \n",
      "    Iter      log prob        ||dx||      ||grad||       alpha      alpha0  # evals  Notes \n",
      "     402       1831.54   4.84292e-05       68.3142   5.832e-07       0.001      817  LS failed, Hessian reset \n",
      "     461       1831.55   1.04361e-07       68.3439           1           1      897   \n",
      "Optimization terminated normally: \n",
      "  Convergence detected: relative gradient magnitude is below tolerance\n"
     ]
    },
    {
     "name": "stderr",
     "output_type": "stream",
     "text": [
      "INFO:prophet:Disabling yearly seasonality. Run prophet with yearly_seasonality=True to override this.\n",
      "INFO:prophet:Disabling daily seasonality. Run prophet with daily_seasonality=True to override this.\n"
     ]
    },
    {
     "name": "stdout",
     "output_type": "stream",
     "text": [
      "Initial log joint probability = -4.57744\n",
      "    Iter      log prob        ||dx||      ||grad||       alpha      alpha0  # evals  Notes \n",
      "      99       1892.16   0.000430576       50.0622           1           1      132   \n",
      "    Iter      log prob        ||dx||      ||grad||       alpha      alpha0  # evals  Notes \n",
      "     199       1893.38   7.34828e-05       50.8795      0.4749           1      259   \n",
      "    Iter      log prob        ||dx||      ||grad||       alpha      alpha0  # evals  Notes \n",
      "     258       1893.62   0.000161699       59.1619   6.185e-07       0.001      373  LS failed, Hessian reset \n",
      "     287       1893.81   8.32886e-05       73.3922   1.512e-06       0.001      447  LS failed, Hessian reset \n",
      "     299       1893.82   1.11362e-05       61.7079      0.9223      0.9223      461   \n",
      "    Iter      log prob        ||dx||      ||grad||       alpha      alpha0  # evals  Notes \n",
      "     399       1893.86   2.67784e-06       77.6964      0.3739      0.3739      600   \n",
      "    Iter      log prob        ||dx||      ||grad||       alpha      alpha0  # evals  Notes \n",
      "     410       1893.86   3.04752e-07        61.233       0.917       0.917      617   \n",
      "Optimization terminated normally: \n",
      "  Convergence detected: relative gradient magnitude is below tolerance\n"
     ]
    },
    {
     "name": "stderr",
     "output_type": "stream",
     "text": [
      "INFO:prophet:Disabling yearly seasonality. Run prophet with yearly_seasonality=True to override this.\n",
      "INFO:prophet:Disabling daily seasonality. Run prophet with daily_seasonality=True to override this.\n"
     ]
    },
    {
     "name": "stdout",
     "output_type": "stream",
     "text": [
      "Initial log joint probability = -3.90508\n",
      "    Iter      log prob        ||dx||      ||grad||       alpha      alpha0  # evals  Notes \n",
      "      99       1940.32    0.00109024       88.6772           1           1      127   \n",
      "    Iter      log prob        ||dx||      ||grad||       alpha      alpha0  # evals  Notes \n",
      "     105       1940.75   0.000857621        344.15   7.881e-06       0.001      164  LS failed, Hessian reset \n",
      "     199       1941.47    0.00668541       185.021           1           1      281   \n",
      "    Iter      log prob        ||dx||      ||grad||       alpha      alpha0  # evals  Notes \n",
      "     207       1941.87    0.00010143       85.1406   7.534e-07       0.001      328  LS failed, Hessian reset \n",
      "     299       1942.38   1.07457e-05       63.8386      0.3491           1      457   \n",
      "    Iter      log prob        ||dx||      ||grad||       alpha      alpha0  # evals  Notes \n",
      "     383       1942.55    0.00157396       330.288   1.951e-05       0.001      600  LS failed, Hessian reset \n",
      "     399       1942.68   0.000715948       61.4919      0.2602           1      619   \n",
      "    Iter      log prob        ||dx||      ||grad||       alpha      alpha0  # evals  Notes \n",
      "     448       1942.73   5.05033e-05       60.9711    6.36e-07       0.001      722  LS failed, Hessian reset \n",
      "     481       1942.74   7.33337e-08        51.584        0.69        0.69      771   \n",
      "Optimization terminated normally: \n",
      "  Convergence detected: relative gradient magnitude is below tolerance\n"
     ]
    },
    {
     "name": "stderr",
     "output_type": "stream",
     "text": [
      "INFO:prophet:Disabling yearly seasonality. Run prophet with yearly_seasonality=True to override this.\n",
      "INFO:prophet:Disabling daily seasonality. Run prophet with daily_seasonality=True to override this.\n"
     ]
    },
    {
     "name": "stdout",
     "output_type": "stream",
     "text": [
      "Initial log joint probability = -3.90508\n",
      "    Iter      log prob        ||dx||      ||grad||       alpha      alpha0  # evals  Notes \n",
      "      99       1878.07    0.00272036       151.531           1           1      122   \n",
      "    Iter      log prob        ||dx||      ||grad||       alpha      alpha0  # evals  Notes \n",
      "     149       1878.66   9.19008e-05       67.1518   1.154e-06       0.001      222  LS failed, Hessian reset \n",
      "     178       1878.71   0.000165503       151.255   1.618e-06       0.001      299  LS failed, Hessian reset \n",
      "     199       1878.73   7.08276e-05       63.8694      0.3159           1      324   \n",
      "    Iter      log prob        ||dx||      ||grad||       alpha      alpha0  # evals  Notes \n",
      "     205       1878.73   1.12435e-05       64.5212   1.762e-07       0.001      369  LS failed, Hessian reset \n",
      "     285       1879.07   0.000633737       190.731   4.723e-06       0.001      510  LS failed, Hessian reset \n",
      "     299       1879.23   0.000125833       91.8075      0.5182      0.5182      524   \n",
      "    Iter      log prob        ||dx||      ||grad||       alpha      alpha0  # evals  Notes \n",
      "     304       1879.28   0.000161366       73.1237   2.087e-06       0.001      568  LS failed, Hessian reset \n",
      "     349       1879.29   1.17037e-07       75.0548      0.3167           1      637   \n",
      "Optimization terminated normally: \n",
      "  Convergence detected: relative gradient magnitude is below tolerance\n"
     ]
    },
    {
     "name": "stderr",
     "output_type": "stream",
     "text": [
      "INFO:prophet:Disabling yearly seasonality. Run prophet with yearly_seasonality=True to override this.\n",
      "INFO:prophet:Disabling daily seasonality. Run prophet with daily_seasonality=True to override this.\n"
     ]
    },
    {
     "name": "stdout",
     "output_type": "stream",
     "text": [
      "Initial log joint probability = -3.90826\n",
      "    Iter      log prob        ||dx||      ||grad||       alpha      alpha0  # evals  Notes \n",
      "      82       1878.14   0.000125104       79.2011   8.362e-07       0.001      140  LS failed, Hessian reset \n",
      "      99       1878.65    0.00106563        71.427      0.3721           1      160   \n",
      "    Iter      log prob        ||dx||      ||grad||       alpha      alpha0  # evals  Notes \n",
      "     193       1880.07   0.000953747       285.757   1.407e-05       0.001      311  LS failed, Hessian reset \n",
      "     199       1880.16   0.000409383       122.606      0.7364      0.7364      317   \n",
      "    Iter      log prob        ||dx||      ||grad||       alpha      alpha0  # evals  Notes \n",
      "     269        1880.3   0.000226747       138.828    2.36e-06       0.001      448  LS failed, Hessian reset \n",
      "     299       1880.32   7.33469e-07        57.024           1           1      486   \n",
      "    Iter      log prob        ||dx||      ||grad||       alpha      alpha0  # evals  Notes \n",
      "     399       1880.59   0.000227503       76.1356      0.2462      0.2462      606   \n",
      "    Iter      log prob        ||dx||      ||grad||       alpha      alpha0  # evals  Notes \n",
      "     414       1880.72   0.000106666       90.0012   1.798e-06       0.001      707  LS failed, Hessian reset \n",
      "     490       1880.97   6.24435e-05       52.5054   1.007e-06       0.001      843  LS failed, Hessian reset \n",
      "     499       1880.97   1.19664e-05       56.2248           1           1      853   \n",
      "    Iter      log prob        ||dx||      ||grad||       alpha      alpha0  # evals  Notes \n",
      "     560       1880.99   3.50336e-05        76.049   4.038e-07       0.001      970  LS failed, Hessian reset \n",
      "     598       1880.99   2.41591e-08       69.6626      0.0609      0.2548     1020   \n",
      "Optimization terminated normally: \n",
      "  Convergence detected: relative gradient magnitude is below tolerance\n"
     ]
    },
    {
     "name": "stderr",
     "output_type": "stream",
     "text": [
      "INFO:prophet:Disabling yearly seasonality. Run prophet with yearly_seasonality=True to override this.\n",
      "INFO:prophet:Disabling daily seasonality. Run prophet with daily_seasonality=True to override this.\n"
     ]
    },
    {
     "name": "stdout",
     "output_type": "stream",
     "text": [
      "Initial log joint probability = -3.23239\n",
      "    Iter      log prob        ||dx||      ||grad||       alpha      alpha0  # evals  Notes \n",
      "      99       1959.59    0.00141677       87.6729      0.8052      0.8052      133   \n",
      "    Iter      log prob        ||dx||      ||grad||       alpha      alpha0  # evals  Notes \n",
      "     140       1960.12   0.000157052       151.941   1.986e-06       0.001      232  LS failed, Hessian reset \n",
      "     199       1960.49   0.000551655       76.7675           1           1      302   \n",
      "    Iter      log prob        ||dx||      ||grad||       alpha      alpha0  # evals  Notes \n",
      "     299       1961.94   9.05886e-05       80.0104           1           1      426   \n",
      "    Iter      log prob        ||dx||      ||grad||       alpha      alpha0  # evals  Notes \n",
      "     399       1962.37    0.00175952       68.7885           1           1      545   \n",
      "    Iter      log prob        ||dx||      ||grad||       alpha      alpha0  # evals  Notes \n",
      "     421       1962.53   0.000209386        56.236   3.235e-06       0.001      627  LS failed, Hessian reset \n",
      "     499       1962.71   4.40767e-05       71.6299      0.5381           1      732   \n",
      "    Iter      log prob        ||dx||      ||grad||       alpha      alpha0  # evals  Notes \n",
      "     567       1962.71   2.35675e-07       64.1891      0.4411           1      838   \n",
      "Optimization terminated normally: \n",
      "  Convergence detected: relative gradient magnitude is below tolerance\n"
     ]
    },
    {
     "name": "stderr",
     "output_type": "stream",
     "text": [
      "INFO:prophet:Disabling yearly seasonality. Run prophet with yearly_seasonality=True to override this.\n",
      "INFO:prophet:Disabling daily seasonality. Run prophet with daily_seasonality=True to override this.\n"
     ]
    },
    {
     "name": "stdout",
     "output_type": "stream",
     "text": [
      "Initial log joint probability = -3.23239\n",
      "    Iter      log prob        ||dx||      ||grad||       alpha      alpha0  # evals  Notes \n",
      "      99        1898.4    0.00165364       171.557           1           1      124   \n",
      "    Iter      log prob        ||dx||      ||grad||       alpha      alpha0  # evals  Notes \n",
      "     125       1898.87   0.000625461       74.0505   1.001e-05       0.001      192  LS failed, Hessian reset \n",
      "     161       1898.96   4.50161e-05       78.6034    6.88e-07       0.001      276  LS failed, Hessian reset \n",
      "     199       1899.03   0.000197174        69.441           1           1      321   \n",
      "    Iter      log prob        ||dx||      ||grad||       alpha      alpha0  # evals  Notes \n",
      "     208       1899.21   0.000181213       138.441   1.007e-06       0.001      380  LS failed, Hessian reset \n",
      "     299       1900.07   0.000874622       119.381      0.0771      0.7831      504   \n",
      "    Iter      log prob        ||dx||      ||grad||       alpha      alpha0  # evals  Notes \n",
      "     300       1900.09   0.000538099       179.708   4.507e-06       0.001      548  LS failed, Hessian reset \n",
      "     344       1900.48   8.45541e-05       49.4411   1.348e-06       0.001      641  LS failed, Hessian reset \n",
      "     376       1900.52   0.000145904       90.7955   2.001e-06       0.001      727  LS failed, Hessian reset \n",
      "     399       1900.52   1.07734e-06       67.8741       2.062      0.2062      761   \n",
      "    Iter      log prob        ||dx||      ||grad||       alpha      alpha0  # evals  Notes \n",
      "     406       1900.52   1.41582e-07       53.1525      0.2363           1      770   \n",
      "Optimization terminated normally: \n",
      "  Convergence detected: relative gradient magnitude is below tolerance\n"
     ]
    },
    {
     "name": "stderr",
     "output_type": "stream",
     "text": [
      "INFO:prophet:Disabling yearly seasonality. Run prophet with yearly_seasonality=True to override this.\n",
      "INFO:prophet:Disabling daily seasonality. Run prophet with daily_seasonality=True to override this.\n"
     ]
    },
    {
     "name": "stdout",
     "output_type": "stream",
     "text": [
      "Initial log joint probability = -3.83247\n",
      "    Iter      log prob        ||dx||      ||grad||       alpha      alpha0  # evals  Notes \n",
      "      99       1899.76     0.0019123       65.8996           1           1      146   \n",
      "    Iter      log prob        ||dx||      ||grad||       alpha      alpha0  # evals  Notes \n",
      "     196       1901.27   0.000162627       129.914   1.343e-06       0.001      312  LS failed, Hessian reset \n",
      "     199       1901.29   5.61726e-05       74.8869       0.738       0.738      315   \n",
      "    Iter      log prob        ||dx||      ||grad||       alpha      alpha0  # evals  Notes \n",
      "     299       1902.17   0.000284067        85.583           1           1      447   \n",
      "    Iter      log prob        ||dx||      ||grad||       alpha      alpha0  # evals  Notes \n",
      "     399       1902.33   3.28703e-05       60.4957           1           1      575   \n",
      "    Iter      log prob        ||dx||      ||grad||       alpha      alpha0  # evals  Notes \n",
      "     451        1902.5   0.000140031       73.9549   2.313e-06       0.001      714  LS failed, Hessian reset \n",
      "     499       1902.68   1.66384e-05       69.7775      0.4825      0.4825      770   \n",
      "    Iter      log prob        ||dx||      ||grad||       alpha      alpha0  # evals  Notes \n",
      "     548        1902.7   3.92111e-05       52.8327   4.623e-07       0.001      875  LS failed, Hessian reset \n",
      "     599       1902.73   8.52196e-05       64.6208           1           1      938   \n",
      "    Iter      log prob        ||dx||      ||grad||       alpha      alpha0  # evals  Notes \n",
      "     631       1902.73   1.10241e-07       66.9975      0.3642           1      988   \n",
      "Optimization terminated normally: \n",
      "  Convergence detected: relative gradient magnitude is below tolerance\n"
     ]
    },
    {
     "name": "stderr",
     "output_type": "stream",
     "text": [
      "INFO:prophet:Disabling yearly seasonality. Run prophet with yearly_seasonality=True to override this.\n",
      "INFO:prophet:Disabling daily seasonality. Run prophet with daily_seasonality=True to override this.\n"
     ]
    },
    {
     "name": "stdout",
     "output_type": "stream",
     "text": [
      "Initial log joint probability = -4.05661\n",
      "    Iter      log prob        ||dx||      ||grad||       alpha      alpha0  # evals  Notes \n",
      "      99       1970.37   0.000270915       96.6433     0.05501           1      137   \n",
      "    Iter      log prob        ||dx||      ||grad||       alpha      alpha0  # evals  Notes \n",
      "     162       1971.34   0.000474875       218.006   5.583e-06       0.001      260  LS failed, Hessian reset \n",
      "     199        1971.5   0.000719404       73.3529           1           1      302   \n",
      "    Iter      log prob        ||dx||      ||grad||       alpha      alpha0  # evals  Notes \n",
      "     244       1971.82   7.84596e-05       70.4676   1.086e-06       0.001      412  LS failed, Hessian reset \n",
      "     299       1972.28   3.05548e-05        52.021           1           1      481   \n",
      "    Iter      log prob        ||dx||      ||grad||       alpha      alpha0  # evals  Notes \n",
      "     320       1972.28   3.61452e-07       54.1426   5.904e-09       0.001      560  LS failed, Hessian reset \n",
      "     325       1972.28   9.92806e-08       55.4646      0.3312     0.03312      568   \n",
      "Optimization terminated normally: \n",
      "  Convergence detected: relative gradient magnitude is below tolerance\n"
     ]
    },
    {
     "name": "stderr",
     "output_type": "stream",
     "text": [
      "INFO:prophet:Disabling yearly seasonality. Run prophet with yearly_seasonality=True to override this.\n",
      "INFO:prophet:Disabling daily seasonality. Run prophet with daily_seasonality=True to override this.\n"
     ]
    },
    {
     "name": "stdout",
     "output_type": "stream",
     "text": [
      "Initial log joint probability = -4.05661\n",
      "    Iter      log prob        ||dx||      ||grad||       alpha      alpha0  # evals  Notes \n",
      "      99       1910.01   0.000938382       78.9638           1           1      136   \n",
      "    Iter      log prob        ||dx||      ||grad||       alpha      alpha0  # evals  Notes \n",
      "     108       1910.29   0.000877777       240.168   9.393e-06       0.001      178  LS failed, Hessian reset \n",
      "     199       1910.75   0.000955232       81.4167       1.982      0.1982      289   \n",
      "    Iter      log prob        ||dx||      ||grad||       alpha      alpha0  # evals  Notes \n",
      "     207       1910.99   0.000173331       72.8439   7.117e-07       0.001      351  LS failed, Hessian reset \n",
      "     280       1911.52   0.000159651       81.9696   2.188e-06       0.001      489  LS failed, Hessian reset \n",
      "     299       1911.53   2.86266e-06       52.8198      0.5324      0.5324      517   \n",
      "    Iter      log prob        ||dx||      ||grad||       alpha      alpha0  # evals  Notes \n",
      "     306       1911.53   1.29945e-07       51.4094     0.08395           1      531   \n",
      "Optimization terminated normally: \n",
      "  Convergence detected: relative gradient magnitude is below tolerance\n"
     ]
    },
    {
     "name": "stderr",
     "output_type": "stream",
     "text": [
      "INFO:prophet:Disabling yearly seasonality. Run prophet with yearly_seasonality=True to override this.\n",
      "INFO:prophet:Disabling daily seasonality. Run prophet with daily_seasonality=True to override this.\n"
     ]
    },
    {
     "name": "stdout",
     "output_type": "stream",
     "text": [
      "Initial log joint probability = -3.57438\n",
      "    Iter      log prob        ||dx||      ||grad||       alpha      alpha0  # evals  Notes \n",
      "      99       1913.22   0.000306561       70.7409      0.3487      0.3487      122   \n",
      "    Iter      log prob        ||dx||      ||grad||       alpha      alpha0  # evals  Notes \n",
      "     127       1913.64   0.000128585       80.7559   2.535e-06       0.001      193  LS failed, Hessian reset \n",
      "     159       1913.75   0.000103114       88.0765   9.744e-07       0.001      274  LS failed, Hessian reset \n",
      "     199       1913.83   4.87793e-05       64.2025      0.3676           1      322   \n",
      "    Iter      log prob        ||dx||      ||grad||       alpha      alpha0  # evals  Notes \n",
      "     238       1914.21   0.000100882       77.7395   1.293e-06       0.001      455  LS failed, Hessian reset \n",
      "     295       1914.66   0.000106704       80.1544   9.353e-07       0.001      580  LS failed, Hessian reset \n",
      "     299       1914.67   6.36213e-05       50.9724           1           1      586   \n",
      "    Iter      log prob        ||dx||      ||grad||       alpha      alpha0  # evals  Notes \n",
      "     334       1914.68   1.02877e-07       59.0344      0.2338           1      637   \n",
      "Optimization terminated normally: \n",
      "  Convergence detected: relative gradient magnitude is below tolerance\n"
     ]
    },
    {
     "name": "stderr",
     "output_type": "stream",
     "text": [
      "INFO:prophet:Disabling yearly seasonality. Run prophet with yearly_seasonality=True to override this.\n",
      "INFO:prophet:Disabling daily seasonality. Run prophet with daily_seasonality=True to override this.\n"
     ]
    },
    {
     "name": "stdout",
     "output_type": "stream",
     "text": [
      "Initial log joint probability = -4.13525\n",
      "    Iter      log prob        ||dx||      ||grad||       alpha      alpha0  # evals  Notes \n",
      "      99       1987.43    0.00944617       126.759           1           1      135   \n",
      "    Iter      log prob        ||dx||      ||grad||       alpha      alpha0  # evals  Notes \n",
      "     123       1988.66   0.000160702       115.739   2.311e-06       0.001      226  LS failed, Hessian reset \n",
      "     177       1989.39   0.000113388       79.9144   6.846e-07       0.001      379  LS failed, Hessian reset \n",
      "     199       1989.52   0.000214635       66.5535           1           1      408   \n",
      "    Iter      log prob        ||dx||      ||grad||       alpha      alpha0  # evals  Notes \n",
      "     249       1989.68   9.02079e-05        64.507   1.309e-06       0.001      508  LS failed, Hessian reset \n",
      "     299       1989.69   5.96309e-05       72.6515           1           1      577   \n",
      "    Iter      log prob        ||dx||      ||grad||       alpha      alpha0  # evals  Notes \n",
      "     399       1989.73    5.1615e-07       69.0109      0.3985      0.3985      706   \n",
      "    Iter      log prob        ||dx||      ||grad||       alpha      alpha0  # evals  Notes \n",
      "     446       1989.75   1.10106e-05       72.3964   1.645e-07       0.001      808  LS failed, Hessian reset \n",
      "     464       1989.75    5.6047e-08       61.5209      0.3813      0.3813      835   \n",
      "Optimization terminated normally: \n",
      "  Convergence detected: relative gradient magnitude is below tolerance\n"
     ]
    },
    {
     "name": "stderr",
     "output_type": "stream",
     "text": [
      "INFO:prophet:Disabling yearly seasonality. Run prophet with yearly_seasonality=True to override this.\n",
      "INFO:prophet:Disabling daily seasonality. Run prophet with daily_seasonality=True to override this.\n"
     ]
    },
    {
     "name": "stdout",
     "output_type": "stream",
     "text": [
      "Initial log joint probability = -4.13525\n",
      "    Iter      log prob        ||dx||      ||grad||       alpha      alpha0  # evals  Notes \n",
      "      85       1930.43   0.000740059       161.944   8.195e-06       0.001      154  LS failed, Hessian reset \n",
      "      99       1931.12     0.0037998        134.96      0.5478           1      178   \n",
      "    Iter      log prob        ||dx||      ||grad||       alpha      alpha0  # evals  Notes \n",
      "     137       1931.81   0.000196584       135.918   1.825e-06       0.001      270  LS failed, Hessian reset \n",
      "     199        1932.1   0.000789147       117.862           1           1      344   \n",
      "    Iter      log prob        ||dx||      ||grad||       alpha      alpha0  # evals  Notes \n",
      "     217       1932.29   0.000207903       144.945   2.336e-06       0.001      414  LS failed, Hessian reset \n",
      "     299       1932.52    0.00131297       97.4866           1           1      523   \n",
      "    Iter      log prob        ||dx||      ||grad||       alpha      alpha0  # evals  Notes \n",
      "     349       1932.53   6.27193e-06       69.8611   1.049e-07       0.001      638  LS failed, Hessian reset \n",
      "     369       1932.53   7.16265e-08        62.507     0.05879           1      662   \n",
      "Optimization terminated normally: \n",
      "  Convergence detected: relative gradient magnitude is below tolerance\n"
     ]
    },
    {
     "name": "stderr",
     "output_type": "stream",
     "text": [
      "INFO:prophet:Disabling yearly seasonality. Run prophet with yearly_seasonality=True to override this.\n",
      "INFO:prophet:Disabling daily seasonality. Run prophet with daily_seasonality=True to override this.\n"
     ]
    },
    {
     "name": "stdout",
     "output_type": "stream",
     "text": [
      "Initial log joint probability = -4.11408\n",
      "    Iter      log prob        ||dx||      ||grad||       alpha      alpha0  # evals  Notes \n",
      "      99       1990.62   0.000610052       172.981      0.6798      0.6798      143   \n",
      "    Iter      log prob        ||dx||      ||grad||       alpha      alpha0  # evals  Notes \n",
      "     191       1992.47   0.000158189       120.904   1.698e-06       0.001      296  LS failed, Hessian reset \n",
      "     199       1992.58    0.00147884       190.726           1           1      308   \n",
      "    Iter      log prob        ||dx||      ||grad||       alpha      alpha0  # evals  Notes \n",
      "     280       1992.83    2.8341e-06       75.8328   4.159e-08       0.001      458  LS failed, Hessian reset \n",
      "     296       1992.83   1.06378e-07        62.753     0.01858           1      482   \n",
      "Optimization terminated normally: \n",
      "  Convergence detected: relative gradient magnitude is below tolerance\n"
     ]
    }
   ],
   "source": [
    "cross_validation_metrics_results = cross_validation.run(data_pdf=profiling_df.sort(\"ts\").toPandas())"
   ]
  },
  {
   "cell_type": "code",
   "execution_count": 26,
   "id": "b6220505",
   "metadata": {},
   "outputs": [
    {
     "name": "stdout",
     "output_type": "stream",
     "text": [
      "neural-prophet avg error=0.11807321550842209, min_error=0.00546133281379346, max error=1.0, std error=0.19233509080453068\n",
      "\n",
      "prophet avg error=0.06918603569797034, min_error=0.006327105257649969, max error=0.14285352393165335, std error=0.0425779548913361\n",
      "\n"
     ]
    }
   ],
   "source": [
    "for metrics in cross_validation_metrics_results:\n",
    "    print(metrics.name, f\"avg error={metrics.errors_avg}, min_error={metrics.errors_min}, max error={metrics.errors_max}, std error={metrics.errors_stddev}\\n\")"
   ]
  },
  {
   "cell_type": "code",
   "execution_count": null,
   "id": "77cb646e",
   "metadata": {},
   "outputs": [],
   "source": []
  }
 ],
 "metadata": {
  "kernelspec": {
   "display_name": "Python 3 (ipykernel)",
   "language": "python",
   "name": "python3"
  },
  "language_info": {
   "codemirror_mode": {
    "name": "ipython",
    "version": 3
   },
   "file_extension": ".py",
   "mimetype": "text/x-python",
   "name": "python",
   "nbconvert_exporter": "python",
   "pygments_lexer": "ipython3",
   "version": "3.9.6"
  }
 },
 "nbformat": 4,
 "nbformat_minor": 5
}
