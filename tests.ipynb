{
 "cells": [
  {
   "cell_type": "code",
   "execution_count": 45,
   "id": "32fb002a",
   "metadata": {},
   "outputs": [],
   "source": [
    "import numpy as np\n",
    "import matplotlib.pyplot as plt\n",
    "%matplotlib inline"
   ]
  },
  {
   "cell_type": "code",
   "execution_count": 46,
   "id": "a64bb5f3",
   "metadata": {},
   "outputs": [],
   "source": [
    "from scipy.interpolate import make_interp_spline\n",
    "import matplotlib.pyplot as plt\n",
    "import matplotlib.ticker as mticker\n",
    "\n",
    "\n",
    "def plot_time_series(time, values, label, smooth=0, repeat=1):\n",
    "    n = len(time)\n",
    "    x_and_label = {i: label for i, label in enumerate(time*repeat)}\n",
    "    update_ticks = lambda x, pos: x_and_label[x] if x in x_and_label.keys() else \"\"\n",
    "\n",
    "    values = values * repeat\n",
    "    time = list(x_and_label.keys())\n",
    "\n",
    "    if smooth:\n",
    "        x_new = np.linspace(min(time), max(time), 100)\n",
    "        spline = make_interp_spline(time, values)\n",
    "        values = spline(x_new)\n",
    "        time = x_new\n",
    "\n",
    "    # plot\n",
    "    ax = plt.subplot()\n",
    "    ax.plot(time, values)\n",
    "    ax.xaxis.set_major_formatter(mticker.FuncFormatter(update_ticks))\n",
    "    ax.xaxis.set_major_locator(mticker.MaxNLocator(integer=True))\n",
    "\n",
    "    # labels\n",
    "    ax.set_xlabel(\"Time\", fontsize=10)\n",
    "    ax.set_ylabel(\"Value\", fontsize=10)\n",
    "    plt.title(label, fontsize=20)\n",
    "    plt.grid(True)"
   ]
  },
  {
   "cell_type": "code",
   "execution_count": 47,
   "id": "c27144fa",
   "metadata": {},
   "outputs": [],
   "source": [
    "from datetime import datetime\n",
    "from dataclasses import dataclass\n",
    "from typing import List, Optional\n",
    "\n",
    "import pandas as pd\n",
    "import numpy as np \n",
    "\n",
    "\n",
    "class Trend:\n",
    "    def __init__(self, slope: float = 0):\n",
    "        self.slope = slope\n",
    "\n",
    "    def get_value(self, start_ts: datetime, ts: datetime, base_value: Optional[float] = 0) -> float:\n",
    "        x = (ts - start_ts).days\n",
    "        return base_value + self.slope * x\n",
    "\n",
    "\n",
    "class Sazonality:\n",
    "    def __init__(\n",
    "        self,\n",
    "        week_days: Optional[List[float]] = None,\n",
    "        month_period: Optional[List[float]] = None,\n",
    "        year_months: Optional[List[float]] = None\n",
    "    ):\n",
    "        self.week_days = week_days or [1]*7\n",
    "        self.month_period = month_period or [1]*3\n",
    "        self.year_months = year_months or [1]*12\n",
    "\n",
    "    def get_week_days_constant(self, ts: datetime) -> float:\n",
    "        return self.week_days[ts.weekday()]\n",
    "\n",
    "    def get_month_period_constant(self, ts: datetime) -> float:\n",
    "        if ts.day > 20:\n",
    "            return self.month_period[2]\n",
    "        if ts.day > 10:\n",
    "            return self.month_period[1]\n",
    "        return self.month_period[0]\n",
    "\n",
    "    def get_year_months_constant(self, ts: datetime) -> float:\n",
    "        return self.year_months[ts.month - 1]\n",
    "\n",
    "    def get_constant(self, ts: datetime) -> float:\n",
    "        return self.get_week_days_constant(ts) * self.get_month_period_constant(ts) * self.get_year_months_constant(ts)\n",
    "\n",
    "\n",
    "class Noise:\n",
    "    def __init__(self, mean: float = 1, var: float = 0, seed: Optional[int] = None, generator = None):\n",
    "        self.generator = generator or np.random.default_rng(seed=seed)\n",
    "        self.mean = mean\n",
    "        self.var = var\n",
    "\n",
    "    def generate(self) -> float:\n",
    "        return self.generator.normal(loc=self.mean, scale=self.var)\n",
    "\n",
    "\n",
    "@dataclass(frozen=True)\n",
    "class TimeSeries:\n",
    "    date_points: np.ndarray\n",
    "    value_points: np.ndarray\n",
    "#     trend_points: np.ndarray\n",
    "#     sazonality_points: np.ndarray\n",
    "#     noise_points: np.ndarray\n",
    "\n",
    "\n",
    "class TimeSeriesGenerator:\n",
    "    def __init__(\n",
    "        self,\n",
    "        trend: Optional[Trend] = None,\n",
    "        sazonality: Optional[Sazonality] = None,\n",
    "        noise: Optional[Noise] = None,\n",
    "    ):\n",
    "        self.trend = trend or Trend()\n",
    "        self.sazonality = sazonality or Sazonality()\n",
    "        self.noise = noise or Noise()\n",
    "\n",
    "    def generate(self, start_date: datetime, base_value: float, n: int) -> \"TimeSeriesGenerator\":\n",
    "        date_points = pd.date_range(\n",
    "            datetime(year=2021, month=1, day=1), periods=n\n",
    "        ).to_list()\n",
    "        start_ts = date_points[0]\n",
    "\n",
    "        trend_points = np.fromiter(\n",
    "            (\n",
    "                trend_spec.get_value(\n",
    "                    start_ts=start_ts , ts=ts, base_value=base_value\n",
    "                ) for ts in date_points\n",
    "            ),\n",
    "            dtype=float\n",
    "        )\n",
    "        sazonality_points = np.fromiter(\n",
    "            (self.sazonality.get_constant(ts) for ts in date_points),\n",
    "            dtype=float\n",
    "        )\n",
    "        noise_points = np.fromiter(\n",
    "            (self.noise.generate() for ts in date_points),\n",
    "            dtype=float\n",
    "        )\n",
    "        value_points = trend_points * sazonality_points * noise_points\n",
    "        return TimeSeries(date_points=date_points, value_points=value_points)\n"
   ]
  },
  {
   "cell_type": "code",
   "execution_count": 48,
   "id": "086f60f1",
   "metadata": {},
   "outputs": [
    {
     "data": {
      "text/plain": [
       "pandas._libs.tslibs.timestamps.Timestamp"
      ]
     },
     "execution_count": 48,
     "metadata": {},
     "output_type": "execute_result"
    }
   ],
   "source": [
    "start_ts = datetime(year=2021, month=1, day=1)\n",
    "date_points = pd.date_range(start_ts, periods=50).to_list()\n",
    "type(date_points[0])"
   ]
  },
  {
   "cell_type": "code",
   "execution_count": null,
   "id": "86c38935",
   "metadata": {},
   "outputs": [],
   "source": []
  },
  {
   "cell_type": "code",
   "execution_count": null,
   "id": "cca65f84",
   "metadata": {},
   "outputs": [],
   "source": []
  },
  {
   "cell_type": "code",
   "execution_count": 49,
   "id": "46570364",
   "metadata": {},
   "outputs": [],
   "source": [
    "week_labels = [\"mon\", \"tue\", \"wed\", \"thu\", \"fri\", \"sat\", \"sun\"]\n",
    "week_sazonality = [0.85, 0.9, 1, 1, 0.9, 0.8, 0.8]\n",
    "\n",
    "month_labels = [\"begin\", \"middle\", \"end\"]\n",
    "month_sazonality = [1, 0.9, 1]\n",
    "\n",
    "year_labels = [\"jan\",\"feb\",\"mar\",\"apr\",\"may\",\"jun\",\"jul\",\"aug\",\"sep\",\"oct\",\"nov\",\"dec\"]\n",
    "year_sazonality = [1, 0.95, 0.9, 0.9, 0.85, 0.85, 0.85, 0.85, 0.9, 0.9, 0.95, 1]\n",
    "\n",
    "sazonality_spec = Sazonality(\n",
    "    week_days=week_sazonality,\n",
    "    #month_period=month_sazonality,\n",
    "    year_months=year_sazonality\n",
    ")\n",
    "\n",
    "trend_spec = Trend(slope=5)\n",
    "\n",
    "noise_spec = Noise(var=0.05)\n",
    "\n",
    "time_series_generator = TimeSeriesGenerator(\n",
    "    trend=trend_spec,\n",
    "    sazonality=sazonality_spec,\n",
    "    #noise=noise_spec\n",
    ")\n"
   ]
  },
  {
   "cell_type": "code",
   "execution_count": 50,
   "id": "2ada1610",
   "metadata": {},
   "outputs": [],
   "source": [
    "time_series = time_series_generator.generate(\n",
    "    start_date=datetime(year=2020, month=1, day=1),\n",
    "    base_value=1000,\n",
    "    n=365*3\n",
    ")"
   ]
  },
  {
   "cell_type": "code",
   "execution_count": 51,
   "id": "5e439cf8",
   "metadata": {},
   "outputs": [
    {
     "data": {
      "image/png": "[encoded data removed]",
      "text/plain": [
       "<Figure size 432x288 with 1 Axes>"
      ]
     },
     "metadata": {
      "needs_background": "light"
     },
     "output_type": "display_data"
    }
   ],
   "source": [
    "# show week sazonality\n",
    "plot_time_series(\n",
    "    time=week_labels,\n",
    "    values=week_sazonality,\n",
    "    label=\"week days sazonality\",\n",
    ")"
   ]
  },
  {
   "cell_type": "code",
   "execution_count": 52,
   "id": "2842637b",
   "metadata": {},
   "outputs": [
    {
     "data": {
      "image/png": "[encoded data removed]",
      "text/plain": [
       "<Figure size 432x288 with 1 Axes>"
      ]
     },
     "metadata": {
      "needs_background": "light"
     },
     "output_type": "display_data"
    }
   ],
   "source": [
    "# show month sazonality\n",
    "plot_time_series(\n",
    "    time=month_labels,\n",
    "    values=month_sazonality,\n",
    "    label=\"month period sazonality\",\n",
    ")"
   ]
  },
  {
   "cell_type": "code",
   "execution_count": 53,
   "id": "24483769",
   "metadata": {},
   "outputs": [
    {
     "data": {
      "image/png": "[encoded data removed]",
      "text/plain": [
       "<Figure size 432x288 with 1 Axes>"
      ]
     },
     "metadata": {
      "needs_background": "light"
     },
     "output_type": "display_data"
    }
   ],
   "source": [
    "# show year sazonality\n",
    "plot_time_series(\n",
    "    time=year_labels,\n",
    "    values=year_sazonality,\n",
    "    label=\"year months sazonality\",\n",
    ")"
   ]
  },
  {
   "cell_type": "code",
   "execution_count": 54,
   "id": "2515e131",
   "metadata": {},
   "outputs": [
    {
     "data": {
      "image/png": "[encoded data removed]",
      "text/plain": [
       "<Figure size 432x288 with 1 Axes>"
      ]
     },
     "metadata": {
      "needs_background": "light"
     },
     "output_type": "display_data"
    }
   ],
   "source": [
    "# show noise sample\n",
    "plot_time_series(\n",
    "    time=[i for i in range(50)],\n",
    "    values=[noise_spec.generate() for i in range(50)],\n",
    "    label=\"noise sample\",\n",
    ")"
   ]
  },
  {
   "cell_type": "code",
   "execution_count": 55,
   "id": "b12c28e4",
   "metadata": {},
   "outputs": [
    {
     "data": {
      "image/png": "[encoded data removed]",
      "text/plain": [
       "<Figure size 432x288 with 1 Axes>"
      ]
     },
     "metadata": {
      "needs_background": "light"
     },
     "output_type": "display_data"
    }
   ],
   "source": [
    "# show time series\n",
    "plot_time_series(\n",
    "    time=[i for i, _ in enumerate(time_series.date_points)],\n",
    "    values=time_series.value_points,\n",
    "    label=\"time series with sazonality\"\n",
    ")"
   ]
  },
  {
   "cell_type": "code",
   "execution_count": 56,
   "id": "62d3e156",
   "metadata": {},
   "outputs": [
    {
     "data": {
      "image/png": "[encoded data removed]",
      "text/plain": [
       "<Figure size 432x288 with 1 Axes>"
      ]
     },
     "metadata": {
      "needs_background": "light"
     },
     "output_type": "display_data"
    }
   ],
   "source": [
    "# show zoomed time series\n",
    "\n",
    "plot_time_series(\n",
    "    time=[i for i, _ in enumerate(time_series.date_points)][365:395],\n",
    "    values=time_series.value_points[365:395],\n",
    "    label=\"zoomed time series with sazonality\"\n",
    ")"
   ]
  },
  {
   "cell_type": "markdown",
   "id": "340abf50",
   "metadata": {},
   "source": [
    "## Forecasting/Anomally Detection Libs"
   ]
  },
  {
   "cell_type": "code",
   "execution_count": 57,
   "id": "fde7e178",
   "metadata": {},
   "outputs": [],
   "source": [
    "import pandas as pd\n",
    "from prophet import Prophet\n",
    "\n",
    "df = pd.DataFrame(\n",
    "    {\"ds\": time_series.date_points, \"y\": time_series.value_points}\n",
    ")\n",
    "df_train = pd.DataFrame(\n",
    "    {\"ds\": time_series.date_points[:875],\n",
    "     \"y\": time_series.value_points[:875]}\n",
    ")"
   ]
  },
  {
   "cell_type": "code",
   "execution_count": 58,
   "id": "fe985cfc",
   "metadata": {},
   "outputs": [],
   "source": [
    "model = Prophet(\n",
    "    seasonality_mode=\"multiplicative\",\n",
    ")"
   ]
  },
  {
   "cell_type": "code",
   "execution_count": 59,
   "id": "0b680cb3",
   "metadata": {},
   "outputs": [
    {
     "name": "stderr",
     "output_type": "stream",
     "text": [
      "INFO:prophet:Disabling daily seasonality. Run prophet with daily_seasonality=True to override this.\n"
     ]
    },
    {
     "name": "stdout",
     "output_type": "stream",
     "text": [
      "Initial log joint probability = -4.012\n"
     ]
    },
    {
     "data": {
      "text/plain": [
       "<prophet.forecaster.Prophet at 0x1347c2130>"
      ]
     },
     "execution_count": 59,
     "metadata": {},
     "output_type": "execute_result"
    },
    {
     "name": "stdout",
     "output_type": "stream",
     "text": [
      "    Iter      log prob        ||dx||      ||grad||       alpha      alpha0  # evals  Notes \n",
      "      99       3930.56   0.000138043        101.91       0.308           1      138   \n",
      "    Iter      log prob        ||dx||      ||grad||       alpha      alpha0  # evals  Notes \n",
      "     199       3932.02    0.00116282       386.553           1           1      256   \n",
      "    Iter      log prob        ||dx||      ||grad||       alpha      alpha0  # evals  Notes \n",
      "     299       3932.99   7.42639e-06       201.836      0.4006      0.4006      386   \n",
      "    Iter      log prob        ||dx||      ||grad||       alpha      alpha0  # evals  Notes \n",
      "     399       3933.33   3.69487e-05       79.3227           1           1      507   \n",
      "    Iter      log prob        ||dx||      ||grad||       alpha      alpha0  # evals  Notes \n",
      "     499       3935.66    0.00063028       458.239      0.8074      0.8074      619   \n",
      "    Iter      log prob        ||dx||      ||grad||       alpha      alpha0  # evals  Notes \n",
      "     556       3937.71   8.16563e-06       280.572   2.676e-08       0.001      737  LS failed, Hessian reset \n",
      "     599       3938.13   0.000217843       428.746      0.5528      0.5528      789   \n",
      "    Iter      log prob        ||dx||      ||grad||       alpha      alpha0  # evals  Notes \n",
      "     699       3938.56   0.000307513       175.057           1           1      911   \n",
      "    Iter      log prob        ||dx||      ||grad||       alpha      alpha0  # evals  Notes \n",
      "     799       3938.87   0.000162206       111.088      0.6512      0.6512     1030   \n",
      "    Iter      log prob        ||dx||      ||grad||       alpha      alpha0  # evals  Notes \n",
      "     828       3939.42   6.60656e-06        221.97   2.322e-08       0.001     1114  LS failed, Hessian reset \n",
      "     847        3939.8   4.00984e-06       133.673   2.254e-08       0.001     1189  LS failed, Hessian reset \n",
      "     899       3939.99   0.000112668       259.227           1           1     1255   \n",
      "    Iter      log prob        ||dx||      ||grad||       alpha      alpha0  # evals  Notes \n",
      "     999        3940.1   2.84398e-06       71.5931       0.255       0.255     1398   \n",
      "    Iter      log prob        ||dx||      ||grad||       alpha      alpha0  # evals  Notes \n",
      "    1037       3940.17    6.7945e-06       192.371   1.752e-08       0.001     1500  LS failed, Hessian reset \n",
      "    1099       3940.25   2.66282e-06       53.6426      0.2752           1     1581   \n",
      "    Iter      log prob        ||dx||      ||grad||       alpha      alpha0  # evals  Notes \n",
      "    1114       3940.26   2.63331e-06        73.981   3.421e-08       0.001     1649  LS failed, Hessian reset \n",
      "    1127       3940.26   2.14198e-07       55.5196     0.07425           1     1668   \n",
      "Optimization terminated normally: \n",
      "  Convergence detected: relative gradient magnitude is below tolerance\n"
     ]
    }
   ],
   "source": [
    "model.fit(df_train)"
   ]
  },
  {
   "cell_type": "code",
   "execution_count": 60,
   "id": "6a110f78",
   "metadata": {},
   "outputs": [],
   "source": [
    "future = model.make_future_dataframe(periods=1, include_history=False)"
   ]
  },
  {
   "cell_type": "code",
   "execution_count": 61,
   "id": "55160576",
   "metadata": {},
   "outputs": [
    {
     "data": {
      "text/html": [
       "<div>\n",
       "<style scoped>\n",
       "    .dataframe tbody tr th:only-of-type {\n",
       "        vertical-align: middle;\n",
       "    }\n",
       "\n",
       "    .dataframe tbody tr th {\n",
       "        vertical-align: top;\n",
       "    }\n",
       "\n",
       "    .dataframe thead th {\n",
       "        text-align: right;\n",
       "    }\n",
       "</style>\n",
       "<table border=\"1\" class=\"dataframe\">\n",
       "  <thead>\n",
       "    <tr style=\"text-align: right;\">\n",
       "      <th></th>\n",
       "      <th>ds</th>\n",
       "    </tr>\n",
       "  </thead>\n",
       "  <tbody>\n",
       "    <tr>\n",
       "      <th>0</th>\n",
       "      <td>2023-05-26</td>\n",
       "    </tr>\n",
       "  </tbody>\n",
       "</table>\n",
       "</div>"
      ],
      "text/plain": [
       "          ds\n",
       "0 2023-05-26"
      ]
     },
     "execution_count": 61,
     "metadata": {},
     "output_type": "execute_result"
    }
   ],
   "source": [
    "future"
   ]
  },
  {
   "cell_type": "code",
   "execution_count": 62,
   "id": "910dbd93",
   "metadata": {},
   "outputs": [
    {
     "data": {
      "text/html": [
       "<div>\n",
       "<style scoped>\n",
       "    .dataframe tbody tr th:only-of-type {\n",
       "        vertical-align: middle;\n",
       "    }\n",
       "\n",
       "    .dataframe tbody tr th {\n",
       "        vertical-align: top;\n",
       "    }\n",
       "\n",
       "    .dataframe thead th {\n",
       "        text-align: right;\n",
       "    }\n",
       "</style>\n",
       "<table border=\"1\" class=\"dataframe\">\n",
       "  <thead>\n",
       "    <tr style=\"text-align: right;\">\n",
       "      <th></th>\n",
       "      <th>ds</th>\n",
       "      <th>yhat</th>\n",
       "      <th>yhat_lower</th>\n",
       "      <th>yhat_upper</th>\n",
       "    </tr>\n",
       "  </thead>\n",
       "  <tbody>\n",
       "    <tr>\n",
       "      <th>0</th>\n",
       "      <td>2023-05-26</td>\n",
       "      <td>4100.203747</td>\n",
       "      <td>4061.069526</td>\n",
       "      <td>4138.721525</td>\n",
       "    </tr>\n",
       "  </tbody>\n",
       "</table>\n",
       "</div>"
      ],
      "text/plain": [
       "          ds         yhat   yhat_lower   yhat_upper\n",
       "0 2023-05-26  4100.203747  4061.069526  4138.721525"
      ]
     },
     "execution_count": 62,
     "metadata": {},
     "output_type": "execute_result"
    }
   ],
   "source": [
    "forecast = model.predict(future)\n",
    "forecast[[\"ds\", \"yhat\", \"yhat_lower\", \"yhat_upper\"]]"
   ]
  },
  {
   "cell_type": "code",
   "execution_count": 63,
   "id": "4f12afa4",
   "metadata": {},
   "outputs": [
    {
     "data": {
      "text/html": [
       "<div>\n",
       "<style scoped>\n",
       "    .dataframe tbody tr th:only-of-type {\n",
       "        vertical-align: middle;\n",
       "    }\n",
       "\n",
       "    .dataframe tbody tr th {\n",
       "        vertical-align: top;\n",
       "    }\n",
       "\n",
       "    .dataframe thead th {\n",
       "        text-align: right;\n",
       "    }\n",
       "</style>\n",
       "<table border=\"1\" class=\"dataframe\">\n",
       "  <thead>\n",
       "    <tr style=\"text-align: right;\">\n",
       "      <th></th>\n",
       "      <th>ds</th>\n",
       "      <th>trend</th>\n",
       "      <th>yhat_lower</th>\n",
       "      <th>yhat_upper</th>\n",
       "      <th>trend_lower</th>\n",
       "      <th>trend_upper</th>\n",
       "      <th>multiplicative_terms</th>\n",
       "      <th>multiplicative_terms_lower</th>\n",
       "      <th>multiplicative_terms_upper</th>\n",
       "      <th>weekly</th>\n",
       "      <th>weekly_lower</th>\n",
       "      <th>weekly_upper</th>\n",
       "      <th>yearly</th>\n",
       "      <th>yearly_lower</th>\n",
       "      <th>yearly_upper</th>\n",
       "      <th>additive_terms</th>\n",
       "      <th>additive_terms_lower</th>\n",
       "      <th>additive_terms_upper</th>\n",
       "      <th>yhat</th>\n",
       "    </tr>\n",
       "  </thead>\n",
       "  <tbody>\n",
       "    <tr>\n",
       "      <th>0</th>\n",
       "      <td>2023-05-26</td>\n",
       "      <td>4263.824106</td>\n",
       "      <td>4061.069526</td>\n",
       "      <td>4138.721525</td>\n",
       "      <td>4263.824106</td>\n",
       "      <td>4263.824106</td>\n",
       "      <td>-0.038374</td>\n",
       "      <td>-0.038374</td>\n",
       "      <td>-0.038374</td>\n",
       "      <td>0.00856</td>\n",
       "      <td>0.00856</td>\n",
       "      <td>0.00856</td>\n",
       "      <td>-0.046934</td>\n",
       "      <td>-0.046934</td>\n",
       "      <td>-0.046934</td>\n",
       "      <td>0.0</td>\n",
       "      <td>0.0</td>\n",
       "      <td>0.0</td>\n",
       "      <td>4100.203747</td>\n",
       "    </tr>\n",
       "  </tbody>\n",
       "</table>\n",
       "</div>"
      ],
      "text/plain": [
       "          ds        trend   yhat_lower   yhat_upper  trend_lower  trend_upper  \\\n",
       "0 2023-05-26  4263.824106  4061.069526  4138.721525  4263.824106  4263.824106   \n",
       "\n",
       "   multiplicative_terms  multiplicative_terms_lower  \\\n",
       "0             -0.038374                   -0.038374   \n",
       "\n",
       "   multiplicative_terms_upper   weekly  weekly_lower  weekly_upper    yearly  \\\n",
       "0                   -0.038374  0.00856       0.00856       0.00856 -0.046934   \n",
       "\n",
       "   yearly_lower  yearly_upper  additive_terms  additive_terms_lower  \\\n",
       "0     -0.046934     -0.046934             0.0                   0.0   \n",
       "\n",
       "   additive_terms_upper         yhat  \n",
       "0                   0.0  4100.203747  "
      ]
     },
     "execution_count": 63,
     "metadata": {},
     "output_type": "execute_result"
    }
   ],
   "source": [
    "forecast"
   ]
  },
  {
   "cell_type": "code",
   "execution_count": 64,
   "id": "a4e5e021",
   "metadata": {},
   "outputs": [
    {
     "data": {
      "image/png": "[encoded data removed]",
      "text/plain": [
       "<Figure size 720x432 with 1 Axes>"
      ]
     },
     "metadata": {},
     "output_type": "display_data"
    }
   ],
   "source": [
    "fig1 = model.plot(forecast)"
   ]
  },
  {
   "cell_type": "code",
   "execution_count": 65,
   "id": "057c9e9c",
   "metadata": {},
   "outputs": [
    {
     "data": {
      "image/png": "[encoded data removed]",
      "text/plain": [
       "<Figure size 648x648 with 3 Axes>"
      ]
     },
     "metadata": {},
     "output_type": "display_data"
    }
   ],
   "source": [
    "fig2 = model.plot_components(forecast)"
   ]
  },
  {
   "cell_type": "code",
   "execution_count": 66,
   "id": "d401721e",
   "metadata": {
    "scrolled": false
   },
   "outputs": [
    {
     "ename": "ValueError",
     "evalue": "x and y must have same first dimension, but have shapes (0,) and (60,)",
     "output_type": "error",
     "traceback": [
      "\u001b[0;31m---------------------------------------------------------------------------\u001b[0m",
      "\u001b[0;31mValueError\u001b[0m                                Traceback (most recent call last)",
      "\u001b[0;32m/var/folders/mt/skbs2bt55kdgf8gjclys9fm80000gn/T/ipykernel_39761/2281570462.py\u001b[0m in \u001b[0;36m<module>\u001b[0;34m\u001b[0m\n\u001b[1;32m     24\u001b[0m \u001b[0mlower_bound\u001b[0m \u001b[0;34m=\u001b[0m \u001b[0;36m830\u001b[0m\u001b[0;34m\u001b[0m\u001b[0;34m\u001b[0m\u001b[0m\n\u001b[1;32m     25\u001b[0m \u001b[0mupper_bound\u001b[0m \u001b[0;34m=\u001b[0m \u001b[0;36m890\u001b[0m\u001b[0;34m\u001b[0m\u001b[0;34m\u001b[0m\u001b[0m\n\u001b[0;32m---> 26\u001b[0;31m plot_compare_predict_and_time_series(\n\u001b[0m\u001b[1;32m     27\u001b[0m     \u001b[0mforecast_pdf\u001b[0m\u001b[0;34m=\u001b[0m\u001b[0mforecast\u001b[0m\u001b[0;34m,\u001b[0m\u001b[0;34m\u001b[0m\u001b[0;34m\u001b[0m\u001b[0m\n\u001b[1;32m     28\u001b[0m     \u001b[0munseen_n\u001b[0m\u001b[0;34m=\u001b[0m\u001b[0;36m15\u001b[0m\u001b[0;34m,\u001b[0m\u001b[0;34m\u001b[0m\u001b[0;34m\u001b[0m\u001b[0m\n",
      "\u001b[0;32m/var/folders/mt/skbs2bt55kdgf8gjclys9fm80000gn/T/ipykernel_39761/2281570462.py\u001b[0m in \u001b[0;36mplot_compare_predict_and_time_series\u001b[0;34m(forecast_pdf, unseen_n, ts, lower_bound, upper_bound)\u001b[0m\n\u001b[1;32m     18\u001b[0m         \u001b[0mlabel\u001b[0m\u001b[0;34m=\u001b[0m\u001b[0;34m\"uncertainty interval\"\u001b[0m\u001b[0;34m\u001b[0m\u001b[0;34m\u001b[0m\u001b[0m\n\u001b[1;32m     19\u001b[0m     )\n\u001b[0;32m---> 20\u001b[0;31m     \u001b[0mplt\u001b[0m\u001b[0;34m.\u001b[0m\u001b[0mplot\u001b[0m\u001b[0;34m(\u001b[0m\u001b[0mforecast_pdf\u001b[0m\u001b[0;34m[\u001b[0m\u001b[0;34m\"ds\"\u001b[0m\u001b[0;34m]\u001b[0m\u001b[0;34m[\u001b[0m\u001b[0mlower_bound\u001b[0m\u001b[0;34m:\u001b[0m\u001b[0mupper_bound\u001b[0m\u001b[0;34m]\u001b[0m\u001b[0;34m,\u001b[0m \u001b[0mts\u001b[0m\u001b[0;34m.\u001b[0m\u001b[0mvalue_points\u001b[0m\u001b[0;34m[\u001b[0m\u001b[0mlower_bound\u001b[0m\u001b[0;34m:\u001b[0m\u001b[0mupper_bound\u001b[0m\u001b[0;34m]\u001b[0m\u001b[0;34m,\u001b[0m \u001b[0mlabel\u001b[0m\u001b[0;34m=\u001b[0m\u001b[0;34m\"real value\"\u001b[0m\u001b[0;34m)\u001b[0m\u001b[0;34m\u001b[0m\u001b[0;34m\u001b[0m\u001b[0m\n\u001b[0m\u001b[1;32m     21\u001b[0m     \u001b[0mplt\u001b[0m\u001b[0;34m.\u001b[0m\u001b[0mlegend\u001b[0m\u001b[0;34m(\u001b[0m\u001b[0;34m)\u001b[0m\u001b[0;34m\u001b[0m\u001b[0;34m\u001b[0m\u001b[0m\n\u001b[1;32m     22\u001b[0m     \u001b[0mplt\u001b[0m\u001b[0;34m.\u001b[0m\u001b[0mshow\u001b[0m\u001b[0;34m(\u001b[0m\u001b[0;34m)\u001b[0m\u001b[0;34m\u001b[0m\u001b[0;34m\u001b[0m\u001b[0m\n",
      "\u001b[0;32m~/.pyenv/versions/3.9.6/envs/jenny-3.9.6/lib/python3.9/site-packages/matplotlib/pyplot.py\u001b[0m in \u001b[0;36mplot\u001b[0;34m(scalex, scaley, data, *args, **kwargs)\u001b[0m\n\u001b[1;32m   3017\u001b[0m \u001b[0;34m@\u001b[0m\u001b[0m_copy_docstring_and_deprecators\u001b[0m\u001b[0;34m(\u001b[0m\u001b[0mAxes\u001b[0m\u001b[0;34m.\u001b[0m\u001b[0mplot\u001b[0m\u001b[0;34m)\u001b[0m\u001b[0;34m\u001b[0m\u001b[0;34m\u001b[0m\u001b[0m\n\u001b[1;32m   3018\u001b[0m \u001b[0;32mdef\u001b[0m \u001b[0mplot\u001b[0m\u001b[0;34m(\u001b[0m\u001b[0;34m*\u001b[0m\u001b[0margs\u001b[0m\u001b[0;34m,\u001b[0m \u001b[0mscalex\u001b[0m\u001b[0;34m=\u001b[0m\u001b[0;32mTrue\u001b[0m\u001b[0;34m,\u001b[0m \u001b[0mscaley\u001b[0m\u001b[0;34m=\u001b[0m\u001b[0;32mTrue\u001b[0m\u001b[0;34m,\u001b[0m \u001b[0mdata\u001b[0m\u001b[0;34m=\u001b[0m\u001b[0;32mNone\u001b[0m\u001b[0;34m,\u001b[0m \u001b[0;34m**\u001b[0m\u001b[0mkwargs\u001b[0m\u001b[0;34m)\u001b[0m\u001b[0;34m:\u001b[0m\u001b[0;34m\u001b[0m\u001b[0;34m\u001b[0m\u001b[0m\n\u001b[0;32m-> 3019\u001b[0;31m     return gca().plot(\n\u001b[0m\u001b[1;32m   3020\u001b[0m         \u001b[0;34m*\u001b[0m\u001b[0margs\u001b[0m\u001b[0;34m,\u001b[0m \u001b[0mscalex\u001b[0m\u001b[0;34m=\u001b[0m\u001b[0mscalex\u001b[0m\u001b[0;34m,\u001b[0m \u001b[0mscaley\u001b[0m\u001b[0;34m=\u001b[0m\u001b[0mscaley\u001b[0m\u001b[0;34m,\u001b[0m\u001b[0;34m\u001b[0m\u001b[0;34m\u001b[0m\u001b[0m\n\u001b[1;32m   3021\u001b[0m         **({\"data\": data} if data is not None else {}), **kwargs)\n",
      "\u001b[0;32m~/.pyenv/versions/3.9.6/envs/jenny-3.9.6/lib/python3.9/site-packages/matplotlib/axes/_axes.py\u001b[0m in \u001b[0;36mplot\u001b[0;34m(self, scalex, scaley, data, *args, **kwargs)\u001b[0m\n\u001b[1;32m   1603\u001b[0m         \"\"\"\n\u001b[1;32m   1604\u001b[0m         \u001b[0mkwargs\u001b[0m \u001b[0;34m=\u001b[0m \u001b[0mcbook\u001b[0m\u001b[0;34m.\u001b[0m\u001b[0mnormalize_kwargs\u001b[0m\u001b[0;34m(\u001b[0m\u001b[0mkwargs\u001b[0m\u001b[0;34m,\u001b[0m \u001b[0mmlines\u001b[0m\u001b[0;34m.\u001b[0m\u001b[0mLine2D\u001b[0m\u001b[0;34m)\u001b[0m\u001b[0;34m\u001b[0m\u001b[0;34m\u001b[0m\u001b[0m\n\u001b[0;32m-> 1605\u001b[0;31m         \u001b[0mlines\u001b[0m \u001b[0;34m=\u001b[0m \u001b[0;34m[\u001b[0m\u001b[0;34m*\u001b[0m\u001b[0mself\u001b[0m\u001b[0;34m.\u001b[0m\u001b[0m_get_lines\u001b[0m\u001b[0;34m(\u001b[0m\u001b[0;34m*\u001b[0m\u001b[0margs\u001b[0m\u001b[0;34m,\u001b[0m \u001b[0mdata\u001b[0m\u001b[0;34m=\u001b[0m\u001b[0mdata\u001b[0m\u001b[0;34m,\u001b[0m \u001b[0;34m**\u001b[0m\u001b[0mkwargs\u001b[0m\u001b[0;34m)\u001b[0m\u001b[0;34m]\u001b[0m\u001b[0;34m\u001b[0m\u001b[0;34m\u001b[0m\u001b[0m\n\u001b[0m\u001b[1;32m   1606\u001b[0m         \u001b[0;32mfor\u001b[0m \u001b[0mline\u001b[0m \u001b[0;32min\u001b[0m \u001b[0mlines\u001b[0m\u001b[0;34m:\u001b[0m\u001b[0;34m\u001b[0m\u001b[0;34m\u001b[0m\u001b[0m\n\u001b[1;32m   1607\u001b[0m             \u001b[0mself\u001b[0m\u001b[0;34m.\u001b[0m\u001b[0madd_line\u001b[0m\u001b[0;34m(\u001b[0m\u001b[0mline\u001b[0m\u001b[0;34m)\u001b[0m\u001b[0;34m\u001b[0m\u001b[0;34m\u001b[0m\u001b[0m\n",
      "\u001b[0;32m~/.pyenv/versions/3.9.6/envs/jenny-3.9.6/lib/python3.9/site-packages/matplotlib/axes/_base.py\u001b[0m in \u001b[0;36m__call__\u001b[0;34m(self, data, *args, **kwargs)\u001b[0m\n\u001b[1;32m    313\u001b[0m                 \u001b[0mthis\u001b[0m \u001b[0;34m+=\u001b[0m \u001b[0margs\u001b[0m\u001b[0;34m[\u001b[0m\u001b[0;36m0\u001b[0m\u001b[0;34m]\u001b[0m\u001b[0;34m,\u001b[0m\u001b[0;34m\u001b[0m\u001b[0;34m\u001b[0m\u001b[0m\n\u001b[1;32m    314\u001b[0m                 \u001b[0margs\u001b[0m \u001b[0;34m=\u001b[0m \u001b[0margs\u001b[0m\u001b[0;34m[\u001b[0m\u001b[0;36m1\u001b[0m\u001b[0;34m:\u001b[0m\u001b[0;34m]\u001b[0m\u001b[0;34m\u001b[0m\u001b[0;34m\u001b[0m\u001b[0m\n\u001b[0;32m--> 315\u001b[0;31m             \u001b[0;32myield\u001b[0m \u001b[0;32mfrom\u001b[0m \u001b[0mself\u001b[0m\u001b[0;34m.\u001b[0m\u001b[0m_plot_args\u001b[0m\u001b[0;34m(\u001b[0m\u001b[0mthis\u001b[0m\u001b[0;34m,\u001b[0m \u001b[0mkwargs\u001b[0m\u001b[0;34m)\u001b[0m\u001b[0;34m\u001b[0m\u001b[0;34m\u001b[0m\u001b[0m\n\u001b[0m\u001b[1;32m    316\u001b[0m \u001b[0;34m\u001b[0m\u001b[0m\n\u001b[1;32m    317\u001b[0m     \u001b[0;32mdef\u001b[0m \u001b[0mget_next_color\u001b[0m\u001b[0;34m(\u001b[0m\u001b[0mself\u001b[0m\u001b[0;34m)\u001b[0m\u001b[0;34m:\u001b[0m\u001b[0;34m\u001b[0m\u001b[0;34m\u001b[0m\u001b[0m\n",
      "\u001b[0;32m~/.pyenv/versions/3.9.6/envs/jenny-3.9.6/lib/python3.9/site-packages/matplotlib/axes/_base.py\u001b[0m in \u001b[0;36m_plot_args\u001b[0;34m(self, tup, kwargs, return_kwargs)\u001b[0m\n\u001b[1;32m    499\u001b[0m \u001b[0;34m\u001b[0m\u001b[0m\n\u001b[1;32m    500\u001b[0m         \u001b[0;32mif\u001b[0m \u001b[0mx\u001b[0m\u001b[0;34m.\u001b[0m\u001b[0mshape\u001b[0m\u001b[0;34m[\u001b[0m\u001b[0;36m0\u001b[0m\u001b[0;34m]\u001b[0m \u001b[0;34m!=\u001b[0m \u001b[0my\u001b[0m\u001b[0;34m.\u001b[0m\u001b[0mshape\u001b[0m\u001b[0;34m[\u001b[0m\u001b[0;36m0\u001b[0m\u001b[0;34m]\u001b[0m\u001b[0;34m:\u001b[0m\u001b[0;34m\u001b[0m\u001b[0;34m\u001b[0m\u001b[0m\n\u001b[0;32m--> 501\u001b[0;31m             raise ValueError(f\"x and y must have same first dimension, but \"\n\u001b[0m\u001b[1;32m    502\u001b[0m                              f\"have shapes {x.shape} and {y.shape}\")\n\u001b[1;32m    503\u001b[0m         \u001b[0;32mif\u001b[0m \u001b[0mx\u001b[0m\u001b[0;34m.\u001b[0m\u001b[0mndim\u001b[0m \u001b[0;34m>\u001b[0m \u001b[0;36m2\u001b[0m \u001b[0;32mor\u001b[0m \u001b[0my\u001b[0m\u001b[0;34m.\u001b[0m\u001b[0mndim\u001b[0m \u001b[0;34m>\u001b[0m \u001b[0;36m2\u001b[0m\u001b[0;34m:\u001b[0m\u001b[0;34m\u001b[0m\u001b[0;34m\u001b[0m\u001b[0m\n",
      "\u001b[0;31mValueError\u001b[0m: x and y must have same first dimension, but have shapes (0,) and (60,)"
     ]
    },
    {
     "data": {
      "image/png": "[encoded data removed]",
      "text/plain": [
       "<Figure size 1440x720 with 1 Axes>"
      ]
     },
     "metadata": {
      "needs_background": "light"
     },
     "output_type": "display_data"
    }
   ],
   "source": [
    "def plot_compare_predict_and_time_series(forecast_pdf, unseen_n, ts, lower_bound = None, upper_bound = None):\n",
    "    plt.figure(figsize=(20,10))\n",
    "    plt.plot(\n",
    "        forecast_pdf[\"ds\"][lower_bound:upper_bound-unseen_n + 1],\n",
    "        forecast_pdf[\"yhat\"][lower_bound:upper_bound-unseen_n + 1],\n",
    "        label=\"forecast-train\",\n",
    "    )\n",
    "    plt.plot(\n",
    "        forecast_pdf[\"ds\"][upper_bound-unseen_n:upper_bound],\n",
    "        forecast_pdf[\"yhat\"][upper_bound-unseen_n:upper_bound],\n",
    "        label=\"forecast-unseen\",\n",
    "    )\n",
    "    plt.fill_between(\n",
    "        x=forecast_pdf[\"ds\"][lower_bound:upper_bound],\n",
    "        y1=forecast_pdf[\"yhat_lower\"][lower_bound:upper_bound],\n",
    "        y2=forecast_pdf[\"yhat_upper\"][lower_bound:upper_bound],\n",
    "        alpha=0.3,\n",
    "        label=\"uncertainty interval\"\n",
    "    )\n",
    "    plt.plot(forecast_pdf[\"ds\"][lower_bound:upper_bound], ts.value_points[lower_bound:upper_bound], label=\"real value\")\n",
    "    plt.legend()\n",
    "    plt.show()\n",
    "\n",
    "lower_bound = 830\n",
    "upper_bound = 890\n",
    "plot_compare_predict_and_time_series(\n",
    "    forecast_pdf=forecast,\n",
    "    unseen_n=15,\n",
    "    ts=time_series,\n",
    "    lower_bound=lower_bound,\n",
    "    upper_bound=upper_bound\n",
    ")\n",
    "\n"
   ]
  },
  {
   "cell_type": "code",
   "execution_count": null,
   "id": "51dcdf5f",
   "metadata": {},
   "outputs": [],
   "source": [
    "def absolute_percentage_error(y_true, y_pred):\n",
    "    y_true, y_pred = np.array(y_true), np.array(y_pred)\n",
    "    return np.abs((y_true - y_pred) / y_true)\n",
    "\n",
    "def mean_absolute_percentage_error(y_true, y_pred):\n",
    "    return np.mean(np.abs(absolute_percentage_error(y_true, y_pred)))\n",
    "\n",
    "def max_absolute_percentage_error(y_true, y_pred):\n",
    "    return np.max(absolute_percentage_error(y_true, y_pred))"
   ]
  },
  {
   "cell_type": "code",
   "execution_count": null,
   "id": "b5a92acd",
   "metadata": {},
   "outputs": [],
   "source": [
    "mean_absolute_percentage_error(forecast[\"yhat\"], time_series.value_points[:890])"
   ]
  },
  {
   "cell_type": "code",
   "execution_count": null,
   "id": "f597a36a",
   "metadata": {},
   "outputs": [],
   "source": [
    "max_absolute_percentage_error(forecast[\"yhat\"], time_series.value_points[:890])"
   ]
  },
  {
   "cell_type": "code",
   "execution_count": null,
   "id": "ea2c7bd6",
   "metadata": {},
   "outputs": [],
   "source": [
    "percentage_errors = absolute_percentage_error(forecast[\"yhat\"], time_series.value_points[:890])\n",
    "percentage_errors.sort()\n",
    "plt.hist(percentage_errors, bins=20)"
   ]
  },
  {
   "cell_type": "code",
   "execution_count": null,
   "id": "a49e3822",
   "metadata": {},
   "outputs": [],
   "source": [
    "np.percentile(percentage_errors, 75)"
   ]
  },
  {
   "cell_type": "code",
   "execution_count": null,
   "id": "bc214333",
   "metadata": {},
   "outputs": [],
   "source": [
    "np.percentile(percentage_errors, 95)"
   ]
  },
  {
   "cell_type": "code",
   "execution_count": null,
   "id": "61fd5fac",
   "metadata": {
    "scrolled": true
   },
   "outputs": [],
   "source": [
    "np.percentile(percentage_errors, 99)"
   ]
  },
  {
   "cell_type": "markdown",
   "id": "09faf88a",
   "metadata": {},
   "source": [
    "## Neural Prophet"
   ]
  },
  {
   "cell_type": "code",
   "execution_count": 68,
   "id": "ce64e0cf",
   "metadata": {
    "scrolled": true
   },
   "outputs": [
    {
     "name": "stderr",
     "output_type": "stream",
     "text": [
      "INFO: nprophet.utils - set_auto_seasonalities: Disabling daily seasonality. Run NeuralProphet with daily_seasonality=True to override this.\n",
      "INFO:nprophet.utils:Disabling daily seasonality. Run NeuralProphet with daily_seasonality=True to override this.\n",
      "INFO: nprophet.config - set_auto_batch_epoch: Auto-set batch_size to 8\n",
      "INFO:nprophet.config:Auto-set batch_size to 8\n",
      "INFO: nprophet.config - set_auto_batch_epoch: Auto-set epochs to 36\n",
      "INFO:nprophet.config:Auto-set epochs to 36\n"
     ]
    },
    {
     "data": {
      "application/vnd.jupyter.widget-view+json": {
       "model_id": "06571281e5054c1d8f6412ffcc2c1986",
       "version_major": 2,
       "version_minor": 0
      },
      "text/plain": [
       "HBox(children=(HTML(value=''), FloatProgress(value=0.0), HTML(value='')))"
      ]
     },
     "metadata": {},
     "output_type": "display_data"
    },
    {
     "name": "stderr",
     "output_type": "stream",
     "text": [
      "/Users/temp/.pyenv/versions/3.9.6/envs/jenny-3.9.6/lib/python3.9/site-packages/torch/nn/modules/container.py:552: UserWarning: Setting attributes on ParameterDict is not supported.\n",
      "  warnings.warn(\"Setting attributes on ParameterDict is not supported.\")\n",
      "INFO: nprophet - _lr_range_test: learning rate range test found optimal lr: 1.87E-01\n",
      "INFO:nprophet:learning rate range test found optimal lr: 1.87E-01\n",
      "Epoch[36/36]: 100%|███████████████████████████████████████████████████████████████████████████████████████████████████████████████████████████████████████████| 36/36 [00:05<00:00,  6.15it/s, SmoothL1Loss=4.6e-5, MAE=29.7, RegLoss=0]\n"
     ]
    },
    {
     "data": {
      "text/html": [
       "<div>\n",
       "<style scoped>\n",
       "    .dataframe tbody tr th:only-of-type {\n",
       "        vertical-align: middle;\n",
       "    }\n",
       "\n",
       "    .dataframe tbody tr th {\n",
       "        vertical-align: top;\n",
       "    }\n",
       "\n",
       "    .dataframe thead th {\n",
       "        text-align: right;\n",
       "    }\n",
       "</style>\n",
       "<table border=\"1\" class=\"dataframe\">\n",
       "  <thead>\n",
       "    <tr style=\"text-align: right;\">\n",
       "      <th></th>\n",
       "      <th>SmoothL1Loss</th>\n",
       "      <th>MAE</th>\n",
       "      <th>RegLoss</th>\n",
       "    </tr>\n",
       "  </thead>\n",
       "  <tbody>\n",
       "    <tr>\n",
       "      <th>0</th>\n",
       "      <td>1.022313</td>\n",
       "      <td>5899.650190</td>\n",
       "      <td>0.0</td>\n",
       "    </tr>\n",
       "    <tr>\n",
       "      <th>1</th>\n",
       "      <td>0.246530</td>\n",
       "      <td>2386.938700</td>\n",
       "      <td>0.0</td>\n",
       "    </tr>\n",
       "    <tr>\n",
       "      <th>2</th>\n",
       "      <td>0.041517</td>\n",
       "      <td>981.171140</td>\n",
       "      <td>0.0</td>\n",
       "    </tr>\n",
       "    <tr>\n",
       "      <th>3</th>\n",
       "      <td>0.005265</td>\n",
       "      <td>329.459246</td>\n",
       "      <td>0.0</td>\n",
       "    </tr>\n",
       "    <tr>\n",
       "      <th>4</th>\n",
       "      <td>0.001473</td>\n",
       "      <td>174.648420</td>\n",
       "      <td>0.0</td>\n",
       "    </tr>\n",
       "    <tr>\n",
       "      <th>5</th>\n",
       "      <td>0.000452</td>\n",
       "      <td>92.236364</td>\n",
       "      <td>0.0</td>\n",
       "    </tr>\n",
       "    <tr>\n",
       "      <th>6</th>\n",
       "      <td>0.000177</td>\n",
       "      <td>57.955717</td>\n",
       "      <td>0.0</td>\n",
       "    </tr>\n",
       "    <tr>\n",
       "      <th>7</th>\n",
       "      <td>0.000166</td>\n",
       "      <td>56.698354</td>\n",
       "      <td>0.0</td>\n",
       "    </tr>\n",
       "    <tr>\n",
       "      <th>8</th>\n",
       "      <td>0.000189</td>\n",
       "      <td>62.095216</td>\n",
       "      <td>0.0</td>\n",
       "    </tr>\n",
       "    <tr>\n",
       "      <th>9</th>\n",
       "      <td>0.000236</td>\n",
       "      <td>68.537607</td>\n",
       "      <td>0.0</td>\n",
       "    </tr>\n",
       "    <tr>\n",
       "      <th>10</th>\n",
       "      <td>0.001240</td>\n",
       "      <td>149.655251</td>\n",
       "      <td>0.0</td>\n",
       "    </tr>\n",
       "    <tr>\n",
       "      <th>11</th>\n",
       "      <td>0.005123</td>\n",
       "      <td>297.216016</td>\n",
       "      <td>0.0</td>\n",
       "    </tr>\n",
       "    <tr>\n",
       "      <th>12</th>\n",
       "      <td>0.008083</td>\n",
       "      <td>378.885060</td>\n",
       "      <td>0.0</td>\n",
       "    </tr>\n",
       "    <tr>\n",
       "      <th>13</th>\n",
       "      <td>0.040012</td>\n",
       "      <td>876.567953</td>\n",
       "      <td>0.0</td>\n",
       "    </tr>\n",
       "    <tr>\n",
       "      <th>14</th>\n",
       "      <td>0.042767</td>\n",
       "      <td>879.196088</td>\n",
       "      <td>0.0</td>\n",
       "    </tr>\n",
       "    <tr>\n",
       "      <th>15</th>\n",
       "      <td>0.022589</td>\n",
       "      <td>640.653917</td>\n",
       "      <td>0.0</td>\n",
       "    </tr>\n",
       "    <tr>\n",
       "      <th>16</th>\n",
       "      <td>0.042718</td>\n",
       "      <td>908.050755</td>\n",
       "      <td>0.0</td>\n",
       "    </tr>\n",
       "    <tr>\n",
       "      <th>17</th>\n",
       "      <td>0.020803</td>\n",
       "      <td>616.896085</td>\n",
       "      <td>0.0</td>\n",
       "    </tr>\n",
       "    <tr>\n",
       "      <th>18</th>\n",
       "      <td>0.016971</td>\n",
       "      <td>537.151596</td>\n",
       "      <td>0.0</td>\n",
       "    </tr>\n",
       "    <tr>\n",
       "      <th>19</th>\n",
       "      <td>0.004488</td>\n",
       "      <td>280.317335</td>\n",
       "      <td>0.0</td>\n",
       "    </tr>\n",
       "    <tr>\n",
       "      <th>20</th>\n",
       "      <td>0.001500</td>\n",
       "      <td>163.581198</td>\n",
       "      <td>0.0</td>\n",
       "    </tr>\n",
       "    <tr>\n",
       "      <th>21</th>\n",
       "      <td>0.000559</td>\n",
       "      <td>100.180151</td>\n",
       "      <td>0.0</td>\n",
       "    </tr>\n",
       "    <tr>\n",
       "      <th>22</th>\n",
       "      <td>0.000677</td>\n",
       "      <td>106.980631</td>\n",
       "      <td>0.0</td>\n",
       "    </tr>\n",
       "    <tr>\n",
       "      <th>23</th>\n",
       "      <td>0.000694</td>\n",
       "      <td>112.742698</td>\n",
       "      <td>0.0</td>\n",
       "    </tr>\n",
       "    <tr>\n",
       "      <th>24</th>\n",
       "      <td>0.000418</td>\n",
       "      <td>89.501040</td>\n",
       "      <td>0.0</td>\n",
       "    </tr>\n",
       "    <tr>\n",
       "      <th>25</th>\n",
       "      <td>0.000204</td>\n",
       "      <td>60.223502</td>\n",
       "      <td>0.0</td>\n",
       "    </tr>\n",
       "    <tr>\n",
       "      <th>26</th>\n",
       "      <td>0.000186</td>\n",
       "      <td>58.734835</td>\n",
       "      <td>0.0</td>\n",
       "    </tr>\n",
       "    <tr>\n",
       "      <th>27</th>\n",
       "      <td>0.000157</td>\n",
       "      <td>54.082191</td>\n",
       "      <td>0.0</td>\n",
       "    </tr>\n",
       "    <tr>\n",
       "      <th>28</th>\n",
       "      <td>0.000094</td>\n",
       "      <td>42.444149</td>\n",
       "      <td>0.0</td>\n",
       "    </tr>\n",
       "    <tr>\n",
       "      <th>29</th>\n",
       "      <td>0.000082</td>\n",
       "      <td>39.753656</td>\n",
       "      <td>0.0</td>\n",
       "    </tr>\n",
       "    <tr>\n",
       "      <th>30</th>\n",
       "      <td>0.000075</td>\n",
       "      <td>37.796610</td>\n",
       "      <td>0.0</td>\n",
       "    </tr>\n",
       "    <tr>\n",
       "      <th>31</th>\n",
       "      <td>0.000058</td>\n",
       "      <td>32.733712</td>\n",
       "      <td>0.0</td>\n",
       "    </tr>\n",
       "    <tr>\n",
       "      <th>32</th>\n",
       "      <td>0.000055</td>\n",
       "      <td>32.066063</td>\n",
       "      <td>0.0</td>\n",
       "    </tr>\n",
       "    <tr>\n",
       "      <th>33</th>\n",
       "      <td>0.000050</td>\n",
       "      <td>30.581566</td>\n",
       "      <td>0.0</td>\n",
       "    </tr>\n",
       "    <tr>\n",
       "      <th>34</th>\n",
       "      <td>0.000047</td>\n",
       "      <td>30.026768</td>\n",
       "      <td>0.0</td>\n",
       "    </tr>\n",
       "    <tr>\n",
       "      <th>35</th>\n",
       "      <td>0.000046</td>\n",
       "      <td>29.728738</td>\n",
       "      <td>0.0</td>\n",
       "    </tr>\n",
       "  </tbody>\n",
       "</table>\n",
       "</div>"
      ],
      "text/plain": [
       "    SmoothL1Loss          MAE  RegLoss\n",
       "0       1.022313  5899.650190      0.0\n",
       "1       0.246530  2386.938700      0.0\n",
       "2       0.041517   981.171140      0.0\n",
       "3       0.005265   329.459246      0.0\n",
       "4       0.001473   174.648420      0.0\n",
       "5       0.000452    92.236364      0.0\n",
       "6       0.000177    57.955717      0.0\n",
       "7       0.000166    56.698354      0.0\n",
       "8       0.000189    62.095216      0.0\n",
       "9       0.000236    68.537607      0.0\n",
       "10      0.001240   149.655251      0.0\n",
       "11      0.005123   297.216016      0.0\n",
       "12      0.008083   378.885060      0.0\n",
       "13      0.040012   876.567953      0.0\n",
       "14      0.042767   879.196088      0.0\n",
       "15      0.022589   640.653917      0.0\n",
       "16      0.042718   908.050755      0.0\n",
       "17      0.020803   616.896085      0.0\n",
       "18      0.016971   537.151596      0.0\n",
       "19      0.004488   280.317335      0.0\n",
       "20      0.001500   163.581198      0.0\n",
       "21      0.000559   100.180151      0.0\n",
       "22      0.000677   106.980631      0.0\n",
       "23      0.000694   112.742698      0.0\n",
       "24      0.000418    89.501040      0.0\n",
       "25      0.000204    60.223502      0.0\n",
       "26      0.000186    58.734835      0.0\n",
       "27      0.000157    54.082191      0.0\n",
       "28      0.000094    42.444149      0.0\n",
       "29      0.000082    39.753656      0.0\n",
       "30      0.000075    37.796610      0.0\n",
       "31      0.000058    32.733712      0.0\n",
       "32      0.000055    32.066063      0.0\n",
       "33      0.000050    30.581566      0.0\n",
       "34      0.000047    30.026768      0.0\n",
       "35      0.000046    29.728738      0.0"
      ]
     },
     "execution_count": 68,
     "metadata": {},
     "output_type": "execute_result"
    }
   ],
   "source": [
    "from neuralprophet import NeuralProphet\n",
    "model = NeuralProphet(\n",
    "    seasonality_mode=\"multiplicative\",\n",
    ")\n",
    "model.fit(df_train, freq=\"D\")"
   ]
  },
  {
   "cell_type": "code",
   "execution_count": 90,
   "id": "84993694",
   "metadata": {},
   "outputs": [
    {
     "data": {
      "text/html": [
       "<div>\n",
       "<style scoped>\n",
       "    .dataframe tbody tr th:only-of-type {\n",
       "        vertical-align: middle;\n",
       "    }\n",
       "\n",
       "    .dataframe tbody tr th {\n",
       "        vertical-align: top;\n",
       "    }\n",
       "\n",
       "    .dataframe thead th {\n",
       "        text-align: right;\n",
       "    }\n",
       "</style>\n",
       "<table border=\"1\" class=\"dataframe\">\n",
       "  <thead>\n",
       "    <tr style=\"text-align: right;\">\n",
       "      <th></th>\n",
       "      <th>ds</th>\n",
       "      <th>y</th>\n",
       "      <th>t</th>\n",
       "      <th>y_scaled</th>\n",
       "    </tr>\n",
       "  </thead>\n",
       "  <tbody>\n",
       "    <tr>\n",
       "      <th>0</th>\n",
       "      <td>2021-01-01</td>\n",
       "      <td>900.0000</td>\n",
       "      <td>0.000000</td>\n",
       "      <td>0.123084</td>\n",
       "    </tr>\n",
       "    <tr>\n",
       "      <th>1</th>\n",
       "      <td>2021-01-02</td>\n",
       "      <td>804.0000</td>\n",
       "      <td>0.001144</td>\n",
       "      <td>0.100000</td>\n",
       "    </tr>\n",
       "    <tr>\n",
       "      <th>2</th>\n",
       "      <td>2021-01-03</td>\n",
       "      <td>808.0000</td>\n",
       "      <td>0.002288</td>\n",
       "      <td>0.100962</td>\n",
       "    </tr>\n",
       "    <tr>\n",
       "      <th>3</th>\n",
       "      <td>2021-01-04</td>\n",
       "      <td>862.7500</td>\n",
       "      <td>0.003432</td>\n",
       "      <td>0.114127</td>\n",
       "    </tr>\n",
       "    <tr>\n",
       "      <th>4</th>\n",
       "      <td>2021-01-05</td>\n",
       "      <td>918.0000</td>\n",
       "      <td>0.004577</td>\n",
       "      <td>0.127412</td>\n",
       "    </tr>\n",
       "    <tr>\n",
       "      <th>...</th>\n",
       "      <td>...</td>\n",
       "      <td>...</td>\n",
       "      <td>...</td>\n",
       "      <td>...</td>\n",
       "    </tr>\n",
       "    <tr>\n",
       "      <th>871</th>\n",
       "      <td>2023-05-22</td>\n",
       "      <td>3868.9875</td>\n",
       "      <td>0.996568</td>\n",
       "      <td>0.836997</td>\n",
       "    </tr>\n",
       "    <tr>\n",
       "      <th>872</th>\n",
       "      <td>2023-05-23</td>\n",
       "      <td>4100.4000</td>\n",
       "      <td>0.997712</td>\n",
       "      <td>0.892642</td>\n",
       "    </tr>\n",
       "    <tr>\n",
       "      <th>873</th>\n",
       "      <td>2023-05-24</td>\n",
       "      <td>4560.2500</td>\n",
       "      <td>0.998856</td>\n",
       "      <td>1.003216</td>\n",
       "    </tr>\n",
       "    <tr>\n",
       "      <th>874</th>\n",
       "      <td>2023-05-25</td>\n",
       "      <td>4564.5000</td>\n",
       "      <td>1.000000</td>\n",
       "      <td>1.004238</td>\n",
       "    </tr>\n",
       "    <tr>\n",
       "      <th>875</th>\n",
       "      <td>2023-05-26</td>\n",
       "      <td>NaN</td>\n",
       "      <td>1.001144</td>\n",
       "      <td>NaN</td>\n",
       "    </tr>\n",
       "  </tbody>\n",
       "</table>\n",
       "<p>876 rows × 4 columns</p>\n",
       "</div>"
      ],
      "text/plain": [
       "            ds          y         t  y_scaled\n",
       "0   2021-01-01   900.0000  0.000000  0.123084\n",
       "1   2021-01-02   804.0000  0.001144  0.100000\n",
       "2   2021-01-03   808.0000  0.002288  0.100962\n",
       "3   2021-01-04   862.7500  0.003432  0.114127\n",
       "4   2021-01-05   918.0000  0.004577  0.127412\n",
       "..         ...        ...       ...       ...\n",
       "871 2023-05-22  3868.9875  0.996568  0.836997\n",
       "872 2023-05-23  4100.4000  0.997712  0.892642\n",
       "873 2023-05-24  4560.2500  0.998856  1.003216\n",
       "874 2023-05-25  4564.5000  1.000000  1.004238\n",
       "875 2023-05-26        NaN  1.001144       NaN\n",
       "\n",
       "[876 rows x 4 columns]"
      ]
     },
     "execution_count": 90,
     "metadata": {},
     "output_type": "execute_result"
    }
   ],
   "source": [
    "model.make_future_dataframe(df_train, n_historic_predictions=len(df_train[\"ds\"]))"
   ]
  },
  {
   "cell_type": "code",
   "execution_count": 92,
   "id": "d1b078c0",
   "metadata": {},
   "outputs": [
    {
     "name": "stderr",
     "output_type": "stream",
     "text": [
      "/Users/temp/.pyenv/versions/3.9.6/envs/jenny-3.9.6/lib/python3.9/site-packages/torch/nn/modules/container.py:552: UserWarning: Setting attributes on ParameterDict is not supported.\n",
      "  warnings.warn(\"Setting attributes on ParameterDict is not supported.\")\n"
     ]
    },
    {
     "data": {
      "text/html": [
       "<div>\n",
       "<style scoped>\n",
       "    .dataframe tbody tr th:only-of-type {\n",
       "        vertical-align: middle;\n",
       "    }\n",
       "\n",
       "    .dataframe tbody tr th {\n",
       "        vertical-align: top;\n",
       "    }\n",
       "\n",
       "    .dataframe thead th {\n",
       "        text-align: right;\n",
       "    }\n",
       "</style>\n",
       "<table border=\"1\" class=\"dataframe\">\n",
       "  <thead>\n",
       "    <tr style=\"text-align: right;\">\n",
       "      <th></th>\n",
       "      <th>ds</th>\n",
       "      <th>y</th>\n",
       "      <th>yhat1</th>\n",
       "      <th>residual1</th>\n",
       "      <th>trend</th>\n",
       "      <th>season_yearly</th>\n",
       "      <th>season_weekly</th>\n",
       "    </tr>\n",
       "  </thead>\n",
       "  <tbody>\n",
       "    <tr>\n",
       "      <th>0</th>\n",
       "      <td>2021-01-01</td>\n",
       "      <td>NaN</td>\n",
       "      <td>921.799377</td>\n",
       "      <td>NaN</td>\n",
       "      <td>859.441895</td>\n",
       "      <td>0.122785</td>\n",
       "      <td>0.009519</td>\n",
       "    </tr>\n",
       "    <tr>\n",
       "      <th>1</th>\n",
       "      <td>2021-01-02</td>\n",
       "      <td>NaN</td>\n",
       "      <td>864.422607</td>\n",
       "      <td>NaN</td>\n",
       "      <td>862.725342</td>\n",
       "      <td>0.122994</td>\n",
       "      <td>-0.119418</td>\n",
       "    </tr>\n",
       "    <tr>\n",
       "      <th>2</th>\n",
       "      <td>2021-01-03</td>\n",
       "      <td>NaN</td>\n",
       "      <td>867.691345</td>\n",
       "      <td>NaN</td>\n",
       "      <td>866.008789</td>\n",
       "      <td>0.123159</td>\n",
       "      <td>-0.119638</td>\n",
       "    </tr>\n",
       "    <tr>\n",
       "      <th>3</th>\n",
       "      <td>2021-01-04</td>\n",
       "      <td>NaN</td>\n",
       "      <td>901.819336</td>\n",
       "      <td>NaN</td>\n",
       "      <td>869.292114</td>\n",
       "      <td>0.123281</td>\n",
       "      <td>-0.055680</td>\n",
       "    </tr>\n",
       "    <tr>\n",
       "      <th>4</th>\n",
       "      <td>2021-01-05</td>\n",
       "      <td>NaN</td>\n",
       "      <td>937.064880</td>\n",
       "      <td>NaN</td>\n",
       "      <td>872.575562</td>\n",
       "      <td>0.123357</td>\n",
       "      <td>0.009762</td>\n",
       "    </tr>\n",
       "    <tr>\n",
       "      <th>...</th>\n",
       "      <td>...</td>\n",
       "      <td>...</td>\n",
       "      <td>...</td>\n",
       "      <td>...</td>\n",
       "      <td>...</td>\n",
       "      <td>...</td>\n",
       "      <td>...</td>\n",
       "    </tr>\n",
       "    <tr>\n",
       "      <th>871</th>\n",
       "      <td>2023-05-22</td>\n",
       "      <td>NaN</td>\n",
       "      <td>3768.257568</td>\n",
       "      <td>NaN</td>\n",
       "      <td>4214.997559</td>\n",
       "      <td>-0.061057</td>\n",
       "      <td>-0.055680</td>\n",
       "    </tr>\n",
       "    <tr>\n",
       "      <th>872</th>\n",
       "      <td>2023-05-23</td>\n",
       "      <td>NaN</td>\n",
       "      <td>4015.397705</td>\n",
       "      <td>NaN</td>\n",
       "      <td>4218.317383</td>\n",
       "      <td>-0.062741</td>\n",
       "      <td>0.009762</td>\n",
       "    </tr>\n",
       "    <tr>\n",
       "      <th>873</th>\n",
       "      <td>2023-05-24</td>\n",
       "      <td>NaN</td>\n",
       "      <td>4499.246582</td>\n",
       "      <td>NaN</td>\n",
       "      <td>4221.637207</td>\n",
       "      <td>-0.064325</td>\n",
       "      <td>0.136741</td>\n",
       "    </tr>\n",
       "    <tr>\n",
       "      <th>874</th>\n",
       "      <td>2023-05-25</td>\n",
       "      <td>NaN</td>\n",
       "      <td>4504.686523</td>\n",
       "      <td>NaN</td>\n",
       "      <td>4224.957031</td>\n",
       "      <td>-0.065808</td>\n",
       "      <td>0.138714</td>\n",
       "    </tr>\n",
       "    <tr>\n",
       "      <th>875</th>\n",
       "      <td>2023-05-26</td>\n",
       "      <td>NaN</td>\n",
       "      <td>4006.817383</td>\n",
       "      <td>NaN</td>\n",
       "      <td>4228.277344</td>\n",
       "      <td>-0.067189</td>\n",
       "      <td>0.009519</td>\n",
       "    </tr>\n",
       "  </tbody>\n",
       "</table>\n",
       "<p>876 rows × 7 columns</p>\n",
       "</div>"
      ],
      "text/plain": [
       "            ds    y        yhat1 residual1        trend  season_yearly  \\\n",
       "0   2021-01-01  NaN   921.799377       NaN   859.441895       0.122785   \n",
       "1   2021-01-02  NaN   864.422607       NaN   862.725342       0.122994   \n",
       "2   2021-01-03  NaN   867.691345       NaN   866.008789       0.123159   \n",
       "3   2021-01-04  NaN   901.819336       NaN   869.292114       0.123281   \n",
       "4   2021-01-05  NaN   937.064880       NaN   872.575562       0.123357   \n",
       "..         ...  ...          ...       ...          ...            ...   \n",
       "871 2023-05-22  NaN  3768.257568       NaN  4214.997559      -0.061057   \n",
       "872 2023-05-23  NaN  4015.397705       NaN  4218.317383      -0.062741   \n",
       "873 2023-05-24  NaN  4499.246582       NaN  4221.637207      -0.064325   \n",
       "874 2023-05-25  NaN  4504.686523       NaN  4224.957031      -0.065808   \n",
       "875 2023-05-26  NaN  4006.817383       NaN  4228.277344      -0.067189   \n",
       "\n",
       "     season_weekly  \n",
       "0         0.009519  \n",
       "1        -0.119418  \n",
       "2        -0.119638  \n",
       "3        -0.055680  \n",
       "4         0.009762  \n",
       "..             ...  \n",
       "871      -0.055680  \n",
       "872       0.009762  \n",
       "873       0.136741  \n",
       "874       0.138714  \n",
       "875       0.009519  \n",
       "\n",
       "[876 rows x 7 columns]"
      ]
     },
     "execution_count": 92,
     "metadata": {},
     "output_type": "execute_result"
    }
   ],
   "source": [
    "predict_df = df_train[[\"ds\"]]\n",
    "predict_df[\"y\"] = np.nan\n",
    "model.predict(model.make_future_dataframe(predict_df, n_historic_predictions=len(predict_df[\"ds\"])))"
   ]
  },
  {
   "cell_type": "code",
   "execution_count": 93,
   "id": "141d7a2a",
   "metadata": {},
   "outputs": [
    {
     "name": "stderr",
     "output_type": "stream",
     "text": [
      "/Users/temp/.pyenv/versions/3.9.6/envs/jenny-3.9.6/lib/python3.9/site-packages/torch/nn/modules/container.py:552: UserWarning: Setting attributes on ParameterDict is not supported.\n",
      "  warnings.warn(\"Setting attributes on ParameterDict is not supported.\")\n"
     ]
    },
    {
     "data": {
      "text/html": [
       "<div>\n",
       "<style scoped>\n",
       "    .dataframe tbody tr th:only-of-type {\n",
       "        vertical-align: middle;\n",
       "    }\n",
       "\n",
       "    .dataframe tbody tr th {\n",
       "        vertical-align: top;\n",
       "    }\n",
       "\n",
       "    .dataframe thead th {\n",
       "        text-align: right;\n",
       "    }\n",
       "</style>\n",
       "<table border=\"1\" class=\"dataframe\">\n",
       "  <thead>\n",
       "    <tr style=\"text-align: right;\">\n",
       "      <th></th>\n",
       "      <th>ds</th>\n",
       "      <th>y</th>\n",
       "      <th>yhat1</th>\n",
       "      <th>residual1</th>\n",
       "      <th>trend</th>\n",
       "      <th>season_yearly</th>\n",
       "      <th>season_weekly</th>\n",
       "    </tr>\n",
       "  </thead>\n",
       "  <tbody>\n",
       "    <tr>\n",
       "      <th>0</th>\n",
       "      <td>2021-01-01</td>\n",
       "      <td>900.0000</td>\n",
       "      <td>921.799377</td>\n",
       "      <td>21.799377</td>\n",
       "      <td>859.441895</td>\n",
       "      <td>0.122785</td>\n",
       "      <td>0.009519</td>\n",
       "    </tr>\n",
       "    <tr>\n",
       "      <th>1</th>\n",
       "      <td>2021-01-02</td>\n",
       "      <td>804.0000</td>\n",
       "      <td>864.422607</td>\n",
       "      <td>60.422607</td>\n",
       "      <td>862.725342</td>\n",
       "      <td>0.122994</td>\n",
       "      <td>-0.119418</td>\n",
       "    </tr>\n",
       "    <tr>\n",
       "      <th>2</th>\n",
       "      <td>2021-01-03</td>\n",
       "      <td>808.0000</td>\n",
       "      <td>867.691345</td>\n",
       "      <td>59.691345</td>\n",
       "      <td>866.008789</td>\n",
       "      <td>0.123159</td>\n",
       "      <td>-0.119638</td>\n",
       "    </tr>\n",
       "    <tr>\n",
       "      <th>3</th>\n",
       "      <td>2021-01-04</td>\n",
       "      <td>862.7500</td>\n",
       "      <td>901.819336</td>\n",
       "      <td>39.069336</td>\n",
       "      <td>869.292114</td>\n",
       "      <td>0.123281</td>\n",
       "      <td>-0.055680</td>\n",
       "    </tr>\n",
       "    <tr>\n",
       "      <th>4</th>\n",
       "      <td>2021-01-05</td>\n",
       "      <td>918.0000</td>\n",
       "      <td>937.064880</td>\n",
       "      <td>19.064880</td>\n",
       "      <td>872.575562</td>\n",
       "      <td>0.123357</td>\n",
       "      <td>0.009762</td>\n",
       "    </tr>\n",
       "    <tr>\n",
       "      <th>...</th>\n",
       "      <td>...</td>\n",
       "      <td>...</td>\n",
       "      <td>...</td>\n",
       "      <td>...</td>\n",
       "      <td>...</td>\n",
       "      <td>...</td>\n",
       "      <td>...</td>\n",
       "    </tr>\n",
       "    <tr>\n",
       "      <th>870</th>\n",
       "      <td>2023-05-21</td>\n",
       "      <td>3638.0000</td>\n",
       "      <td>3527.581787</td>\n",
       "      <td>-110.418213</td>\n",
       "      <td>4211.677734</td>\n",
       "      <td>-0.059278</td>\n",
       "      <td>-0.119638</td>\n",
       "    </tr>\n",
       "    <tr>\n",
       "      <th>871</th>\n",
       "      <td>2023-05-22</td>\n",
       "      <td>3868.9875</td>\n",
       "      <td>3768.257568</td>\n",
       "      <td>-100.729932</td>\n",
       "      <td>4214.997559</td>\n",
       "      <td>-0.061057</td>\n",
       "      <td>-0.055680</td>\n",
       "    </tr>\n",
       "    <tr>\n",
       "      <th>872</th>\n",
       "      <td>2023-05-23</td>\n",
       "      <td>4100.4000</td>\n",
       "      <td>4015.397705</td>\n",
       "      <td>-85.002295</td>\n",
       "      <td>4218.317383</td>\n",
       "      <td>-0.062741</td>\n",
       "      <td>0.009762</td>\n",
       "    </tr>\n",
       "    <tr>\n",
       "      <th>873</th>\n",
       "      <td>2023-05-24</td>\n",
       "      <td>4560.2500</td>\n",
       "      <td>4499.246582</td>\n",
       "      <td>-61.003418</td>\n",
       "      <td>4221.637207</td>\n",
       "      <td>-0.064325</td>\n",
       "      <td>0.136741</td>\n",
       "    </tr>\n",
       "    <tr>\n",
       "      <th>874</th>\n",
       "      <td>2023-05-25</td>\n",
       "      <td>4564.5000</td>\n",
       "      <td>4504.686523</td>\n",
       "      <td>-59.813477</td>\n",
       "      <td>4224.957031</td>\n",
       "      <td>-0.065808</td>\n",
       "      <td>0.138714</td>\n",
       "    </tr>\n",
       "  </tbody>\n",
       "</table>\n",
       "<p>875 rows × 7 columns</p>\n",
       "</div>"
      ],
      "text/plain": [
       "            ds          y        yhat1   residual1        trend  \\\n",
       "0   2021-01-01   900.0000   921.799377   21.799377   859.441895   \n",
       "1   2021-01-02   804.0000   864.422607   60.422607   862.725342   \n",
       "2   2021-01-03   808.0000   867.691345   59.691345   866.008789   \n",
       "3   2021-01-04   862.7500   901.819336   39.069336   869.292114   \n",
       "4   2021-01-05   918.0000   937.064880   19.064880   872.575562   \n",
       "..         ...        ...          ...         ...          ...   \n",
       "870 2023-05-21  3638.0000  3527.581787 -110.418213  4211.677734   \n",
       "871 2023-05-22  3868.9875  3768.257568 -100.729932  4214.997559   \n",
       "872 2023-05-23  4100.4000  4015.397705  -85.002295  4218.317383   \n",
       "873 2023-05-24  4560.2500  4499.246582  -61.003418  4221.637207   \n",
       "874 2023-05-25  4564.5000  4504.686523  -59.813477  4224.957031   \n",
       "\n",
       "     season_yearly  season_weekly  \n",
       "0         0.122785       0.009519  \n",
       "1         0.122994      -0.119418  \n",
       "2         0.123159      -0.119638  \n",
       "3         0.123281      -0.055680  \n",
       "4         0.123357       0.009762  \n",
       "..             ...            ...  \n",
       "870      -0.059278      -0.119638  \n",
       "871      -0.061057      -0.055680  \n",
       "872      -0.062741       0.009762  \n",
       "873      -0.064325       0.136741  \n",
       "874      -0.065808       0.138714  \n",
       "\n",
       "[875 rows x 7 columns]"
      ]
     },
     "execution_count": 93,
     "metadata": {},
     "output_type": "execute_result"
    }
   ],
   "source": [
    "model.predict(model.make_future_dataframe(df_train, n_historic_predictions=len(df_train[\"ds\"]))[:-1])"
   ]
  },
  {
   "cell_type": "code",
   "execution_count": null,
   "id": "1fa67f66",
   "metadata": {},
   "outputs": [],
   "source": []
  }
 ],
 "metadata": {
  "kernelspec": {
   "display_name": "Python 3 (ipykernel)",
   "language": "python",
   "name": "python3"
  },
  "language_info": {
   "codemirror_mode": {
    "name": "ipython",
    "version": 3
   },
   "file_extension": ".py",
   "mimetype": "text/x-python",
   "name": "python",
   "nbconvert_exporter": "python",
   "pygments_lexer": "ipython3",
   "version": "3.9.6"
  }
 },
 "nbformat": 4,
 "nbformat_minor": 5
}
